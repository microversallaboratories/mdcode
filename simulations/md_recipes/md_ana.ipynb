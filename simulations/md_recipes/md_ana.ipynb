{
 "cells": [
  {
   "cell_type": "code",
   "execution_count": 30,
   "metadata": {},
   "outputs": [],
   "source": [
    "# Import needed libraries\n",
    "import MDAnalysis\n",
    "from matplotlib import pyplot as plt"
   ]
  },
  {
   "cell_type": "code",
   "execution_count": 6,
   "metadata": {},
   "outputs": [],
   "source": [
    "potential = MDAnalysis.auxiliary.XVG.XVGFileReader('potential.xvg')\n",
    "t_pot = potential.read_all_times()\n",
    "\n",
    "temp = MDAnalysis.auxiliary.XVG.XVGFileReader('temperature.xvg')\n",
    "t_temp = temp.read_all_times()\n",
    "\n",
    "press = MDAnalysis.auxiliary.XVG.XVGFileReader('pressure.xvg')\n",
    "t_press = press.read_all_times()\n",
    "\n",
    "density = MDAnalysis.auxiliary.XVG.XVGFileReader('density.xvg')\n",
    "t_density = press.read_all_times()"
   ]
  },
  {
   "cell_type": "code",
   "execution_count": 18,
   "metadata": {
    "tags": []
   },
   "outputs": [],
   "source": [
    "description = potential.get_description()\n",
    "\n",
    "pot_list = []\n",
    "temp_list = []\n",
    "press_list = []\n",
    "dens_list = []\n",
    "\n",
    "for auxstep in potential:\n",
    "    pot_list.append(auxstep.data)\n",
    "\n",
    "for auxstep in temp:\n",
    "    temp_list.append(auxstep.data)\n",
    "\n",
    "for auxstep in press:\n",
    "    press_list.append(auxstep.data)\n",
    "\n",
    "for auxstep in density:\n",
    "    dens_list.append(auxstep.data)"
   ]
  },
  {
   "cell_type": "code",
   "execution_count": 31,
   "metadata": {},
   "outputs": [
    {
     "output_type": "error",
     "ename": "TypeError",
     "evalue": "'module' object is not callable",
     "traceback": [
      "\u001b[0;31m---------------------------------------------------------------------------\u001b[0m",
      "\u001b[0;31mTypeError\u001b[0m                                 Traceback (most recent call last)",
      "\u001b[0;32m<ipython-input-31-ae6b51ec8908>\u001b[0m in \u001b[0;36m<module>\u001b[0;34m\u001b[0m\n\u001b[0;32m----> 1\u001b[0;31m \u001b[0mplt\u001b[0m\u001b[0;34m(\u001b[0m\u001b[0mdens_list\u001b[0m\u001b[0;34m[\u001b[0m\u001b[0;36m0\u001b[0m\u001b[0;34m]\u001b[0m\u001b[0;34m,\u001b[0m \u001b[0mdens_list\u001b[0m\u001b[0;34m[\u001b[0m\u001b[0;36m1\u001b[0m\u001b[0;34m]\u001b[0m\u001b[0;34m)\u001b[0m\u001b[0;34m\u001b[0m\u001b[0;34m\u001b[0m\u001b[0m\n\u001b[0m",
      "\u001b[0;31mTypeError\u001b[0m: 'module' object is not callable"
     ]
    }
   ],
   "source": [
    "plt(dens_list[0], dens_list[1])"
   ]
  }
 ],
 "metadata": {
  "language_info": {
   "codemirror_mode": {
    "name": "ipython",
    "version": 3
   },
   "file_extension": ".py",
   "mimetype": "text/x-python",
   "name": "python",
   "nbconvert_exporter": "python",
   "pygments_lexer": "ipython3",
   "version": "3.8.3-final"
  },
  "orig_nbformat": 2,
  "kernelspec": {
   "name": "python37764bitc3d2672e15bf42b391f372abee464dda",
   "display_name": "Python 3.7.7 64-bit"
  }
 },
 "nbformat": 4,
 "nbformat_minor": 2
}