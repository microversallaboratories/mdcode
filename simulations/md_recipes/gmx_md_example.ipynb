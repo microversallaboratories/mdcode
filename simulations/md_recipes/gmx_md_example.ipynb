{
 "cells": [
  {
   "cell_type": "code",
   "execution_count": 1,
   "metadata": {
    "tags": []
   },
   "outputs": [
    {
     "output_type": "stream",
     "name": "stdout",
     "text": "GMX version: 2020.2-MODIFIED \n\n"
    }
   ],
   "source": [
    "import gromacs\n",
    "from Bio.PDB import PDBList\n",
    "\n",
    "import datetime\n",
    "now = datetime.datetime.now()\n",
    "\n",
    "from sys import argv\n",
    "\n",
    "# gromacs.config.setup() # UNCOMMENT if not yet setup on your system!\n",
    "print(\"GMX version:\",gromacs.release(),\"\\n\")\n",
    "# help(gromacs.pdb2gmx)"
   ]
  },
  {
   "cell_type": "markdown",
   "metadata": {},
   "source": [
    "# 1.) SOLVATION TUTORIAL\n",
    "\n",
    "This tutorial follows the tutorial developed by Joseph Lemke."
   ]
  },
  {
   "cell_type": "code",
   "execution_count": 2,
   "metadata": {
    "tags": []
   },
   "outputs": [
    {
     "output_type": "stream",
     "name": "stdout",
     "text": "/Users/jacobnorth/Box/extracurriculars/research/SURE_S2020_fileshare/sure_data/1aki/mdsim_2020_6_23_21_36_59\n"
    }
   ],
   "source": [
    "# Download the PDB target\n",
    "import pypdb\n",
    "\n",
    "# Define the simulation datapath\n",
    "def now_dir_ts():\n",
    "    now_ts = str(now.year)+\"_\"+str(now.month)+\"_\"+str(now.day)+\"_\"+str(now.hour)+\"_\"+str(now.minute)+\"_\"+str(now.second)\n",
    "    return now_ts\n",
    "\n",
    "sim_dir = \"/Users/jacobnorth/Box/extracurriculars/research/SURE_S2020_fileshare/sure_data/\"+input(\"Please enter a sub-directory of sure_data/:\")+\"/mdsim_\"+now_dir_ts()\n",
    "\n",
    "print(sim_dir)      # Print the simulation datapath"
   ]
  },
  {
   "cell_type": "code",
   "execution_count": 3,
   "metadata": {
    "tags": []
   },
   "outputs": [
    {
     "output_type": "stream",
     "name": "stdout",
     "text": "Downloading PDB structure '1aki'...\n"
    },
    {
     "output_type": "execute_result",
     "data": {
      "text/plain": "'/Users/jacobnorth/Box/extracurriculars/research/SURE_S2020_fileshare/sure_data/1aki/mdsim_2020_6_23_21_36_59/pdb1aki.ent'"
     },
     "metadata": {},
     "execution_count": 3
    }
   ],
   "source": [
    "id = input(\"Please enter a PDB ID to simulate:\")\n",
    "\n",
    "pdbl = PDBList()            # Create a PDBList object \n",
    "pdbl.retrieve_pdb_file(id, file_format='pdb', pdir=sim_dir)       # Retrieve the PDB file in PDB format\n",
    "\n",
    "# pypdb.get_pdb_file('1oca', filetype='PDB')      # Search and download on PDB"
   ]
  },
  {
   "cell_type": "code",
   "execution_count": null,
   "metadata": {
    "tags": [
     "outputPrepend"
    ]
   },
   "outputs": [],
   "source": [
    "with open(sim_dir+\"/pdb\"+id+\".ent\") as f: # The with keyword automatically closes the file when you are done\n",
    "    pdbfile = f.read()\n",
    "    print(pdbfile)"
   ]
  },
  {
   "cell_type": "markdown",
   "metadata": {},
   "source": [
    "HERE: use grep:\n",
    "```\n",
    "grep -v HOH pdb1aki.ent > 1AKI_clean.pdb\n",
    "```\n",
    "to remove waters from the structure and rename it"
   ]
  },
  {
   "cell_type": "markdown",
   "metadata": {},
   "source": [
    "Note that such a procedure is **not universally appropriate** (e.g., the case of a tightly bound or otherwise functional active-site water molecule). For our intentions here, we do not need crystal water.\n",
    "\n",
    "Always:\n",
    "- Check your .pdb file for entries listed under the comment MISSING, as these entries indicate either atoms or whole residues that are not present in the crystal structure. Terminal regions may be absent, and may not present a problem for dynamics. \n",
    "- Incomplete internal sequences or any amino acid residues that have missing atoms will cause pdb2gmx to fail. These missing atoms/residues must be modeled in using other software packages. \n",
    "- Also note that pdb2gmx is not magic. It cannot generate topologies for arbitrary molecules, just the residues defined by the force field (in the *.rtp files - generally proteins, nucleic acids, and a very finite amount of cofactors, like NAD(H) and ATP)."
   ]
  },
  {
   "cell_type": "markdown",
   "metadata": {},
   "source": [
    "Now that the crystal waters are gone and we have verified that all the necessary atoms are present, the PDB file should contain only protein atoms, and is ready to be input into the first GROMACS module, pdb2gmx. The purpose of pdb2gmx is to generate three files:\n",
    "- The topology for the molecule.\n",
    "- A position restraint file.\n",
    "- A post-processed structure file. \n",
    "\n",
    "The topology (topol.top by default) contains all the information necessary to define the molecule within a simulation. This information includes nonbonded parameters (atom types and charges) as well as bonded parameters (bonds, angles, and dihedrals). We will take a more detailed look at the topology once it has been generated.\n",
    "\n",
    "Execute pdb2gmx by issuing the following command:"
   ]
  },
  {
   "cell_type": "code",
   "execution_count": 6,
   "metadata": {},
   "outputs": [
    {
     "output_type": "execute_result",
     "data": {
      "text/plain": "(0, None, None)"
     },
     "metadata": {},
     "execution_count": 6
    }
   ],
   "source": [
    "# gromacs.pdb2gmx(f=sim_dir+\"/pdb\"+id+\".ent\", o=sim_dir+\"/protein.gro\", p=sim_dir+\"/topol.top\", ff=\"oplsaa\", water=\"tip4p\")\n",
    "gromacs.pdb2gmx(f=sim_dir+\"/\"+id+\"_clean.pdb\", o=sim_dir+\"/\"+id+\"_processed\"+\".gro\", p=sim_dir+\"/\"+id+\"_topol.top\", ff=\"oplsaa\", water=\"tip4p\")"
   ]
  },
  {
   "cell_type": "markdown",
   "metadata": {},
   "source": [
    "The force field will contain the information that will be written to the topology. This is a very important choice! You should always read thoroughly about each force field and decide which is most applicable to your situation. For this tutorial, we will use the all-atom OPLS force field, so type 15 at the command prompt, followed by 'Enter'.\n",
    "\n",
    "There are many other options that can be passed to pdb2gmx. Some commonly used ones are listed here:\n",
    "\n",
    "- -ignh: Ignore H atoms in the PDB file; especially useful for NMR structures. Otherwise, if H atoms are present, they must be in the named exactly how the force fields in GROMACS expect them to be. Different conventions exist, so dealing with H atoms can occasionally be a headache! If you need to preserve the initial H coordinates, but renaming is required, then the Linux sed command is your friend.\n",
    "- -iter: Interactively assign charge states for N- and C-termini.\n",
    "- -inter: Interactively assign charge states for Glu, Asp, Lys, Arg, and His; choose which Cys are involved in disulfide bonds. \n",
    "\n",
    "You have now generated three new files: 1AKI_processed.gro, topol.top, and posre.itp. 1AKI_processed.gro is a GROMACS-formatted structure file that contains all the atoms defined within the force field (i.e., H atoms have been added to the amino acids in the protein). The topol.top file is the system topology (more on this in a minute). The posre.itp file contains information used to restrain the positions of heavy atoms (more on this later).\n",
    "\n",
    "One final note: many users assume that a .gro file is mandatory. This is not true. GROMACS can handle many different file formats, with .gro simply being the default for commands that write coordinate files. It is a very compact format, but it has limited precision. If you prefer to use, for instance, PDB format, all you need to do is to specify an appropriate file name with .pdb extension as your output. The purpose of pdb2gmx is to produce a force field-compliant topology; the output structure is largely a side effect of this purpose and is intended for user convenience. The format can be just about anything you like (see the GROMACS manual for different formats)."
   ]
  },
  {
   "cell_type": "markdown",
   "metadata": {},
   "source": [
    "Now that you are familiar with the contents of the GROMACS topology, it is time to continue building our system. In this example, we are going to be simulating a simple aqueous system. It is possible to simulate proteins and other molecules in different solvents, provided that good parameters are available for all species involved.\n",
    "\n",
    "There are two steps to defining the box and filling it with solvent:\n",
    "\n",
    "- Define the box dimensions using the editconf module.\n",
    "- Fill the box with water using the solvate module (formerly called genbox). \n",
    "\n",
    "You are now presented with a choice as to how to treat the unit cell. For the purpose of this tutorial, we will use a simple cubic box as the unit cell. As you become more comfortable with periodic boundary conditions and box types, I highly recommend the rhombic dodecahedron, as its volume is ~71% of the cubic box of the same periodic distance, thus saving on the number of water molecules that need to be added to solvate the protein.\n",
    "\n",
    "Let's define the box using editconf:"
   ]
  },
  {
   "cell_type": "code",
   "execution_count": 7,
   "metadata": {},
   "outputs": [
    {
     "output_type": "execute_result",
     "data": {
      "text/plain": "(0, None, None)"
     },
     "metadata": {},
     "execution_count": 7
    }
   ],
   "source": [
    "gromacs.editconf(f=sim_dir+\"/\"+id+\"_processed\"+\".gro\", o=sim_dir+\"/\"+id+\"_boxed.gro\", bt=\"dodecahedron\", d=1.5, princ=True, input=\"Protein\")"
   ]
  },
  {
   "cell_type": "code",
   "execution_count": 9,
   "metadata": {},
   "outputs": [
    {
     "output_type": "execute_result",
     "data": {
      "text/plain": "<gromacs.tools.Genion at 0x1269e6b50>"
     },
     "metadata": {},
     "execution_count": 9
    }
   ],
   "source": [
    "gromacs.tools.Genion()"
   ]
  },
  {
   "cell_type": "markdown",
   "metadata": {},
   "source": [
    "The above command centers the protein in the box (-c), and places it at least 1.0 nm from the box edge (-d 1.0). The box type is defined as a cube (-bt cubic). The distance to the edge of the box is an important parameter. Since we will be using periodic boundary conditions, we must satisfy the minimum image convention. That is, a protein should never see its periodic image, otherwise the forces calculated will be spurious. Specifying a solute-box distance of 1.0 nm will mean that there are at least 2.0 nm between any two periodic images of a protein. This distance will be sufficient for just about any cutoff scheme commonly used in simulations.\n",
    "\n",
    "Now that we have defined a box, we can fill it with solvent (water). Solvation is accomplished using solvate:"
   ]
  },
  {
   "cell_type": "code",
   "execution_count": 8,
   "metadata": {},
   "outputs": [
    {
     "output_type": "execute_result",
     "data": {
      "text/plain": "(0, None, None)"
     },
     "metadata": {},
     "execution_count": 8
    }
   ],
   "source": [
    "# gromacs.solvate(cp=sim_dir+\"/\"+id+\"_boxed.gro\", cs=\"tip4p\", p=sim_dir+\"/\"+id+\"_topol.top\", o=sim_dir+\"/\"+id+\"_solvated.gro\")\n",
    "\n",
    "gromacs.solvate(cp=sim_dir+\"/\"+id+\"_boxed.gro\", cs=\"tip4p\", p=sim_dir+\"/\"+id+\"_topol.top\", o=sim_dir+\"/\"+id+\"_solvated.gro\")"
   ]
  },
  {
   "cell_type": "markdown",
   "metadata": {},
   "source": [
    "The configuration of the protein (-cp) is contained in the output of the previous editconf step, and the configuration of the solvent (-cs) is part of the standard GROMACS installation. We are using spc216.gro, which is a generic equilibrated 3-point solvent model. You can use spc216.gro as the solvent configuration for SPC, SPC/E, or TIP3P water, since they are all three-point water models. The output is called 1AKI_solv.gro, and we tell solvate the name of the topology file (topol.top) so it can be modified. Note the changes to the [ molecules ] directive of topol.top:"
   ]
  },
  {
   "cell_type": "markdown",
   "metadata": {},
   "source": [
    "Given an MDP input file for energy minimization, generate the TPR file and run the energy minimization locally:"
   ]
  },
  {
   "cell_type": "code",
   "execution_count": null,
   "metadata": {},
   "outputs": [],
   "source": [
    "# gromacs.grompp(f=sim_dir+\"/minim.mdp\", c=sim_dir+\"/solvated.gro\", p=\"topol.top\", o=sim_dir+\"/minim.tpr\")\n",
    "\n",
    "gromacs.grompp(f=sim_dir+\"/minim.mdp\", c=sim_dir+\"/solvated.gro\", p=\"/Users/jacobnorth/Documents/GitHub/mdcode/jupyter_nbs/general/md_recipes/temp.top\", o=sim_dir+\"/minim.tpr\")"
   ]
  },
  {
   "cell_type": "code",
   "execution_count": null,
   "metadata": {},
   "outputs": [],
   "source": [
    "gromacs.mdrun(v=True, deffnm=\"emin\")"
   ]
  },
  {
   "cell_type": "markdown",
   "metadata": {},
   "source": [
    "Assuming it all went well, set up and run a MD simulation, starting from the energy minimized system:"
   ]
  },
  {
   "cell_type": "code",
   "execution_count": null,
   "metadata": {},
   "outputs": [],
   "source": [
    "gromacs.grompp(f=sim_dir+\"/md.mdp\", c=sim_dir+\"/emin.gro\", p=sim_dir+\"/topol.top\", o=sim_dir+\"/md.tpr\")\n",
    "gromacs.mdrun(v=True, deffnm=\"md\")"
   ]
  }
 ],
 "metadata": {
  "language_info": {
   "codemirror_mode": {
    "name": "ipython",
    "version": 3
   },
   "file_extension": ".py",
   "mimetype": "text/x-python",
   "name": "python",
   "nbconvert_exporter": "python",
   "pygments_lexer": "ipython3",
   "version": "3.7.7-final"
  },
  "orig_nbformat": 2,
  "kernelspec": {
   "name": "python37764bitc3d2672e15bf42b391f372abee464dda",
   "display_name": "Python 3.7.7 64-bit"
  }
 },
 "nbformat": 4,
 "nbformat_minor": 2
}