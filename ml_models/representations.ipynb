{
 "metadata": {
  "language_info": {
   "codemirror_mode": {
    "name": "ipython",
    "version": 3
   },
   "file_extension": ".py",
   "mimetype": "text/x-python",
   "name": "python",
   "nbconvert_exporter": "python",
   "pygments_lexer": "ipython3",
   "version": "3.7.7-final"
  },
  "orig_nbformat": 2,
  "kernelspec": {
   "name": "python37764bitmodellingcondade1d182d7a3b4c89bbb00a24c0786a3d",
   "display_name": "Python 3.7.7 64-bit ('modelling': conda)"
  }
 },
 "nbformat": 4,
 "nbformat_minor": 2,
 "cells": [
  {
   "cell_type": "code",
   "execution_count": null,
   "metadata": {
    "tags": []
   },
   "outputs": [],
   "source": [
    "from rdkit import Chem\n",
    "from rdkit.Chem.Draw import MolsToGridImage\n",
    "smiles_list = [\"CCCCC\",\"CCOCC\",\"CCNCC\",\"CCSCC\", \"C=CC#CC=C\"]\n",
    "mol_list = [Chem.MolFromSmiles(x) for x in smiles_list] \n",
    "MolsToGridImage(mols=mol_list)"
   ]
  },
  {
   "cell_type": "code",
   "execution_count": null,
   "metadata": {
    "tags": []
   },
   "outputs": [],
   "source": [
    "query = Chem.MolFromSmarts(\"CC[O,C,S,N]\")\n",
    "match_list = [mol.GetSubstructMatch(query) for mol in\n",
    "mol_list]\n",
    "MolsToGridImage(mols=mol_list, molsPerRow=4,\n",
    "highlightAtomLists=match_list)"
   ]
  },
  {
   "cell_type": "code",
   "execution_count": null,
   "metadata": {
    "tags": []
   },
   "outputs": [],
   "source": [
    "smiles_list = [\"CC(C=O)C=CC\",\"O=C(C=C)C(C=O)CC=O\"]\n",
    "mol_list = [Chem.MolFromSmiles(x) for x in smiles_list] \n",
    "MolsToGridImage(mols=mol_list)"
   ]
  },
  {
   "cell_type": "code",
   "execution_count": null,
   "metadata": {},
   "outputs": [],
   "source": [
    "import nglview as nglv"
   ]
  },
  {
   "cell_type": "code",
   "execution_count": null,
   "metadata": {},
   "outputs": [],
   "source": [
    "view = nglv.show_pdbid(\"2d3u\")  # load \"3pqr\" from RCSB PDB and display viewer widget\n",
    "view"
   ]
  }
 ]
}