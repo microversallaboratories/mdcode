{
 "metadata": {
  "language_info": {
   "codemirror_mode": {
    "name": "ipython",
    "version": 3
   },
   "file_extension": ".py",
   "mimetype": "text/x-python",
   "name": "python",
   "nbconvert_exporter": "python",
   "pygments_lexer": "ipython3",
   "version": "3.7.7-final"
  },
  "orig_nbformat": 2,
  "kernelspec": {
   "name": "python37764bitmodellingcondade1d182d7a3b4c89bbb00a24c0786a3d",
   "display_name": "Python 3.7.7 64-bit ('modelling': conda)"
  }
 },
 "nbformat": 4,
 "nbformat_minor": 2,
 "cells": [
  {
   "cell_type": "code",
   "execution_count": null,
   "metadata": {},
   "outputs": [],
   "source": [
    "# import modules\n",
    "import deepchem as dc"
   ]
  },
  {
   "cell_type": "code",
   "execution_count": 1,
   "metadata": {
    "tags": []
   },
   "outputs": [
    {
     "output_type": "stream",
     "name": "stdout",
     "text": "Loading raw samples now.\nshard_size: 8192\nAbout to start loading CSV from /tmp/muv.csv.gz\nLoading shard 1 of size 8192.\nFeaturizing sample 0\nFeaturizing sample 1000\nFeaturizing sample 2000\nFeaturizing sample 3000\nFeaturizing sample 4000\nFeaturizing sample 5000\nFeaturizing sample 6000\nFeaturizing sample 7000\nFeaturizing sample 8000\nTIMING: featurizing shard 0 took 71.357 s\nLoading shard 2 of size 8192.\nFeaturizing sample 0\nFeaturizing sample 1000\nFeaturizing sample 2000\nFeaturizing sample 3000\nFeaturizing sample 4000\nFeaturizing sample 5000\nFeaturizing sample 6000\nFeaturizing sample 7000\nFeaturizing sample 8000\nTIMING: featurizing shard 1 took 70.375 s\nLoading shard 3 of size 8192.\nFeaturizing sample 0\nFeaturizing sample 1000\nFeaturizing sample 2000\nFeaturizing sample 3000\nFeaturizing sample 4000\nFeaturizing sample 5000\nFeaturizing sample 6000\nFeaturizing sample 7000\nFeaturizing sample 8000\nTIMING: featurizing shard 2 took 68.101 s\nLoading shard 4 of size 8192.\nFeaturizing sample 0\nFeaturizing sample 1000\nFeaturizing sample 2000\nFeaturizing sample 3000\nFeaturizing sample 4000\nFeaturizing sample 5000\nFeaturizing sample 6000\nFeaturizing sample 7000\nFeaturizing sample 8000\nTIMING: featurizing shard 3 took 71.042 s\nLoading shard 5 of size 8192.\nFeaturizing sample 0\nFeaturizing sample 1000\nFeaturizing sample 2000\nFeaturizing sample 3000\nFeaturizing sample 4000\nFeaturizing sample 5000\nFeaturizing sample 6000\nFeaturizing sample 7000\nFeaturizing sample 8000\nTIMING: featurizing shard 4 took 76.404 s\nLoading shard 6 of size 8192.\nFeaturizing sample 0\nFeaturizing sample 1000\nFeaturizing sample 2000\nFeaturizing sample 3000\nFeaturizing sample 4000\nFeaturizing sample 5000\nFeaturizing sample 6000\nFeaturizing sample 7000\nFeaturizing sample 8000\nTIMING: featurizing shard 5 took 69.711 s\nLoading shard 7 of size 8192.\nFeaturizing sample 0\nFeaturizing sample 1000\nFeaturizing sample 2000\nFeaturizing sample 3000\nFeaturizing sample 4000\nFeaturizing sample 5000\nFeaturizing sample 6000\nFeaturizing sample 7000\nFeaturizing sample 8000\nTIMING: featurizing shard 6 took 71.138 s\nLoading shard 8 of size 8192.\nFeaturizing sample 0\nFeaturizing sample 1000\nFeaturizing sample 2000\nFeaturizing sample 3000\nFeaturizing sample 4000\nFeaturizing sample 5000\nFeaturizing sample 6000\nFeaturizing sample 7000\nFeaturizing sample 8000\nTIMING: featurizing shard 7 took 70.300 s\nLoading shard 9 of size 8192.\nFeaturizing sample 0\nFeaturizing sample 1000\nFeaturizing sample 2000\nFeaturizing sample 3000\nFeaturizing sample 4000\nFeaturizing sample 5000\nFeaturizing sample 6000\nFeaturizing sample 7000\nFeaturizing sample 8000\nTIMING: featurizing shard 8 took 70.164 s\nLoading shard 10 of size 8192.\nFeaturizing sample 0\nFeaturizing sample 1000\nFeaturizing sample 2000\nFeaturizing sample 3000\nFeaturizing sample 4000\nFeaturizing sample 5000\nFeaturizing sample 6000\nFeaturizing sample 7000\nFeaturizing sample 8000\nTIMING: featurizing shard 9 took 70.523 s\nLoading shard 11 of size 8192.\nFeaturizing sample 0\nFeaturizing sample 1000\nFeaturizing sample 2000\nFeaturizing sample 3000\nFeaturizing sample 4000\nFeaturizing sample 5000\nFeaturizing sample 6000\nFeaturizing sample 7000\nFeaturizing sample 8000\nTIMING: featurizing shard 10 took 70.822 s\nLoading shard 12 of size 8192.\nFeaturizing sample 0\nFeaturizing sample 1000\nFeaturizing sample 2000\nTIMING: featurizing shard 11 took 25.824 s\nTIMING: dataset construction took 814.736 s\nLoading dataset from disk.\nTIMING: dataset construction took 9.440 s\nLoading dataset from disk.\nTIMING: dataset construction took 4.767 s\nLoading dataset from disk.\nTIMING: dataset construction took 4.958 s\nLoading dataset from disk.\n"
    }
   ],
   "source": [
    "# featurize inputs\n",
    "tasks, datasets, transformers = dc.molnet.load_muv()\n",
    "train_dataset, valid_dataset, test_dataset = datasets\n",
    "train_smiles = train_dataset.ids"
   ]
  },
  {
   "cell_type": "code",
   "execution_count": 3,
   "metadata": {},
   "outputs": [],
   "source": [
    "tokens = set()\n",
    "for s in train_smiles:\n",
    "    tokens = tokens.union(set(s))\n",
    "tokens = sorted(list(tokens))\n",
    "max_length = max(len(s) for s in train_smiles)"
   ]
  },
  {
   "cell_type": "code",
   "execution_count": 8,
   "metadata": {},
   "outputs": [
    {
     "output_type": "error",
     "ename": "TypeError",
     "evalue": "'module' object is not callable",
     "traceback": [
      "\u001b[0;31m---------------------------------------------------------------------------\u001b[0m",
      "\u001b[0;31mTypeError\u001b[0m                                 Traceback (most recent call last)",
      "\u001b[0;32m<ipython-input-8-f5b388ff5a3c>\u001b[0m in \u001b[0;36m<module>\u001b[0;34m\u001b[0m\n\u001b[1;32m      2\u001b[0m \u001b[0;32mimport\u001b[0m \u001b[0mdeepchem\u001b[0m\u001b[0;34m.\u001b[0m\u001b[0mmodels\u001b[0m\u001b[0;34m.\u001b[0m\u001b[0mseqtoseq\u001b[0m \u001b[0;32mas\u001b[0m \u001b[0mauto\u001b[0m\u001b[0;34m\u001b[0m\u001b[0;34m\u001b[0m\u001b[0m\n\u001b[1;32m      3\u001b[0m \u001b[0;34m\u001b[0m\u001b[0m\n\u001b[0;32m----> 4\u001b[0;31m \u001b[0mmodel\u001b[0m \u001b[0;34m=\u001b[0m \u001b[0mauto\u001b[0m\u001b[0;34m(\u001b[0m\u001b[0mtokens\u001b[0m\u001b[0;34m,\u001b[0m \u001b[0mmax_length\u001b[0m\u001b[0;34m,\u001b[0m \u001b[0mvariational\u001b[0m\u001b[0;34m=\u001b[0m\u001b[0;32mTrue\u001b[0m\u001b[0;34m)\u001b[0m\u001b[0;34m\u001b[0m\u001b[0;34m\u001b[0m\u001b[0m\n\u001b[0m",
      "\u001b[0;31mTypeError\u001b[0m: 'module' object is not callable"
     ]
    }
   ],
   "source": [
    "from deepchem.models.tensorgraph.optimizers import Adam, ExponentialDecay\n",
    "import deepchem.models.seqtoseq as auto\n",
    "\n",
    "model = auto(tokens, max_length, variational=True)"
   ]
  },
  {
   "cell_type": "code",
   "execution_count": null,
   "metadata": {},
   "outputs": [],
   "source": [
    "batches_per_epoch = len(train_smiles)/model.batch_size\n",
    "learning_rate = ExponentialDecay(0.001, 0.95, batches_per_epoch)\n",
    "model.set_optimizer(Adam(learning_rate=learning_rate))"
   ]
  },
  {
   "cell_type": "code",
   "execution_count": null,
   "metadata": {},
   "outputs": [],
   "source": [
    "def generate_sequences(epochs):\n",
    "    for i in range(epochs):\n",
    "        for s in train_smiles:\n",
    "            yield (s, s)\n",
    "model.fit_sequences(generate_sequences(50))"
   ]
  },
  {
   "cell_type": "code",
   "execution_count": null,
   "metadata": {},
   "outputs": [],
   "source": [
    "# filter invalid SMILES strings\n",
    "import numpy as np\n",
    "from rdkit import Chem\n",
    "predictions = model.predict_from_embeddings(np.random.normal(size=(1000,196)))\n",
    "molecules = []\n",
    "for p in predictions:\n",
    "    smiles = ''.join(p)\n",
    "    if Chem.MolFromSmiles(smiles) is not None:\n",
    "        molecules.append(smiles)\n",
    "for m in molecules:\n",
    "    print(m)"
   ]
  },
  {
   "cell_type": "markdown",
   "metadata": {},
   "source": [
    "Filter and analyze good molecules from list"
   ]
  },
  {
   "cell_type": "code",
   "execution_count": null,
   "metadata": {},
   "outputs": [],
   "source": [
    "# print a sorted list for the molecules generated \n",
    "print(sorted([x.GetNumAtoms() for x in molecules]))\n",
    "\n",
    "# create a histogram to print the distribution of molecule atom sizes\n"
   ]
  },
  {
   "cell_type": "code",
   "execution_count": null,
   "metadata": {},
   "outputs": [],
   "source": [
    "# filter the list of molecules down to be physiologically relevant\n",
    "good_mol_list = [x for x in molecules if x.GetNumAtoms() > 10 and x.GetNumAtoms() < 50]\n",
    "print(len(good_mol_list))"
   ]
  },
  {
   "cell_type": "code",
   "execution_count": null,
   "metadata": {},
   "outputs": [],
   "source": [
    "# analyze QED scores of our generated targets\n",
    "qed_list = [QED.qed(x) for x in good_mol_list]\n",
    "final_mol_list = [(a,b) for a,b in zip(good_mol_list,qed_list) if b > 0.5]"
   ]
  },
  {
   "cell_type": "code",
   "execution_count": null,
   "metadata": {},
   "outputs": [],
   "source": [
    "MolsToGridImage([x[0] for x in final_mol_list],molsPerRow=3,useSVG=True,subImgSize=(250, 250),legends=[f\"{x[1]:.2f}\" for x in final_mol_list])"
   ]
  }
 ]
}