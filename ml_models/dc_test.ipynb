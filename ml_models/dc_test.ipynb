{
 "metadata": {
  "language_info": {
   "codemirror_mode": {
    "name": "ipython",
    "version": 3
   },
   "file_extension": ".py",
   "mimetype": "text/x-python",
   "name": "python",
   "nbconvert_exporter": "python",
   "pygments_lexer": "ipython3",
   "version": "3.7.6-final"
  },
  "orig_nbformat": 2,
  "kernelspec": {
   "name": "python37664bitmachinelearningcondaa6624db0bec64e0895ca239bc180c6eb",
   "display_name": "Python 3.7.6 64-bit ('machinelearning': conda)"
  }
 },
 "nbformat": 4,
 "nbformat_minor": 2,
 "cells": [
  {
   "cell_type": "code",
   "execution_count": null,
   "metadata": {},
   "outputs": [],
   "source": [
    "import joblib\n",
    "import deepchem as dc \n",
    "import numpy as np"
   ]
  },
  {
   "cell_type": "code",
   "execution_count": null,
   "metadata": {
    "tags": []
   },
   "outputs": [],
   "source": [
    "x = np.random.random((4,5))\n",
    "y = np.random.random((4,1))\n",
    "print(x)\n",
    "print(y)"
   ]
  },
  {
   "cell_type": "code",
   "execution_count": null,
   "metadata": {},
   "outputs": [],
   "source": [
    "import rdkit"
   ]
  },
  {
   "cell_type": "code",
   "execution_count": null,
   "metadata": {},
   "outputs": [],
   "source": [
    "smiles = ['C1CCCCC1', 'O1CCOCC1'] # cyclohexane and dioxane\n",
    "mols = [rdkit.Chem.MolFromSmiles(smile) for smile in smiles]\n",
    "feat = dc.feat.CircularFingerprint(size=1024)\n",
    "arr = feat.featurize(mols)\n",
    "# arr is a 2-by-1024 array containing the fingerprints for\n",
    "# the two molecules"
   ]
  },
  {
   "cell_type": "code",
   "execution_count": null,
   "metadata": {},
   "outputs": [],
   "source": []
  }
 ]
}