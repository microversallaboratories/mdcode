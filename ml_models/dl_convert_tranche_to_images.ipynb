{
 "metadata": {
  "language_info": {
   "codemirror_mode": {
    "name": "ipython",
    "version": 3
   },
   "file_extension": ".py",
   "mimetype": "text/x-python",
   "name": "python",
   "nbconvert_exporter": "python",
   "pygments_lexer": "ipython3",
   "version": "3.8.5-final"
  },
  "orig_nbformat": 2,
  "kernelspec": {
   "name": "python_defaultSpec_1599150111146",
   "display_name": "Python 3.8.5 64-bit"
  }
 },
 "nbformat": 4,
 "nbformat_minor": 2,
 "cells": [
  {
   "cell_type": "markdown",
   "metadata": {},
   "source": [
    "## Import libraries"
   ]
  },
  {
   "cell_type": "code",
   "execution_count": 18,
   "metadata": {},
   "outputs": [],
   "source": [
    "from rdkit import Chem\n",
    "from rdkit.Chem.Draw import MolsToGridImage\n",
    "from rdkit.Chem.Draw import MolToFile\n",
    "from rdkit.Chem.rdmolfiles import SmilesMolSupplier"
   ]
  },
  {
   "cell_type": "code",
   "execution_count": 28,
   "metadata": {},
   "outputs": [],
   "source": [
    "import os"
   ]
  },
  {
   "cell_type": "markdown",
   "metadata": {},
   "source": [
    "## Convert dataset"
   ]
  },
  {
   "cell_type": "markdown",
   "metadata": {},
   "source": [
    "### Convert smiles to images"
   ]
  },
  {
   "cell_type": "code",
   "execution_count": null,
   "metadata": {},
   "outputs": [],
   "source": [
    "from pathlib import Path\n",
    "\n",
    "paths = Path('/home/jacobnorth/Documents/GitHub/mdcode/ml_models/data/ml_2020_09_03_09_50_00').glob('**/*.smi')\n",
    "for path in paths:\n",
    "    path_in_str = str(path)\n",
    "    #print(path_in_str)     # test selection\n",
    "    # "
   ]
  },
  {
   "cell_type": "code",
   "execution_count": 32,
   "metadata": {},
   "outputs": [],
   "source": [
    "attempt = 1"
   ]
  },
  {
   "cell_type": "code",
   "execution_count": 34,
   "metadata": {},
   "outputs": [],
   "source": [
    "\n",
    "suppl = SmilesMolSupplier('BAAA.smi')       # supplier from the given file\n",
    "\n",
    "idx = 0         # start at 0 for each image name\n",
    "\n",
    "dirname = (\"drw_attempt\"+str(attempt))      # name the dir\n",
    "os.mkdir(dirname)       # make a dir to hold each object\n",
    "\n",
    "for mol in suppl:       # for each molecule specified in the smiles file,\n",
    "    filename = (\"drw_\"+attempt+\"_\"+str(idx)+\".png\")     # name the new file\n",
    "    MolToFile(mol, filename, size=(128,128))    # create the new file\n",
    "    idx=idx+1       # increase the idx\n",
    "    os.rename(filename, dirname+\"/\"+filename)   # move the file into the directory\n",
    "    \n",
    "attempt=attempt+1"
   ]
  }
 ]
}