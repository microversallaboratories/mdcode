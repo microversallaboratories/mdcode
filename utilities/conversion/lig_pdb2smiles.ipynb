{
 "metadata": {
  "language_info": {
   "codemirror_mode": {
    "name": "ipython",
    "version": 3
   },
   "file_extension": ".py",
   "mimetype": "text/x-python",
   "name": "python",
   "nbconvert_exporter": "python",
   "pygments_lexer": "ipython3",
   "version": "3.8.5-final"
  },
  "orig_nbformat": 2,
  "kernelspec": {
   "name": "Python 3.8.5 64-bit",
   "display_name": "Python 3.8.5 64-bit",
   "metadata": {
    "interpreter": {
     "hash": "6e06913b41ab63a778b84641acd4be9bab4cd25a5b307c3791dfb16fdf51053e"
    }
   }
  }
 },
 "nbformat": 4,
 "nbformat_minor": 2,
 "cells": [
  {
   "cell_type": "code",
   "execution_count": null,
   "metadata": {},
   "outputs": [],
   "source": []
  },
  {
   "cell_type": "code",
   "execution_count": null,
   "metadata": {},
   "outputs": [],
   "source": [
    "from Bio.PDB.PDBParser import PDBParser\n",
    "parser = PDBParser()\n",
    "structure = parser.get_structure(\"test\", \"1osv_ligand_backup.pdb\")\n",
    "model = structure[0]\n",
    "chain = model[\"A\"]"
   ]
  },
  {
   "cell_type": "code",
   "execution_count": null,
   "metadata": {
    "tags": []
   },
   "outputs": [],
   "source": [
    "for chain in model:\n",
    "    print(chain)"
   ]
  },
  {
   "cell_type": "code",
   "execution_count": null,
   "metadata": {},
   "outputs": [],
   "source": [
    "from Bio.PDB import PDBParser, PDBIO\n",
    "\n",
    "io = PDBIO()\n",
    "pdb = PDBParser().get_structure(\"test\", \"1osv_ligand_backup.pdb\")\n",
    "\n"
   ]
  },
  {
   "cell_type": "code",
   "execution_count": null,
   "metadata": {},
   "outputs": [],
   "source": [
    "import os\n",
    "\n",
    "io = PDBIO()\n",
    "end = \"_ligand.pdb\"\n",
    "directory = \"./ligands/\"\n",
    "\n",
    "for filename in os.listdir(directory):\n",
    "    if filename.endswith(end): # IF the file ends with the generic ending,\n",
    "        fileid = filename           # duplicate the fileid for a shortened title\n",
    "        fileid = fileid.replace(end,'')      # remove the end\n",
    "        pdb = PDBParser().get_structure(fileid, directory+filename)       # get the structure\n",
    "        ress = model.get_residues()\n",
    "        for chain in pdb.get_chains():\n",
    "            for res in chain.get_residues():                  # for each chain in the structure,\n",
    "                io.set_structure(residue)                     # set the structure to the chain\n",
    "                #io.save(pdb.get_id() + \"_\" + chain.get_id() + \".pdb\")   # save the chain to a new PDB file\n",
    "                io.save(fileid + \"_\" + chain.get_id() + \".pdb\")   # save the chain to a new PDB file\n",
    "\n"
   ]
  },
  {
   "cell_type": "code",
   "execution_count": null,
   "metadata": {},
   "outputs": [],
   "source": [
    "ligs = structure[:][:][:]"
   ]
  },
  {
   "cell_type": "code",
   "execution_count": null,
   "metadata": {},
   "outputs": [],
   "source": [
    "import os\n",
    "\n",
    "io = PDBIO()\n",
    "end = \"_ligand.pdb\"\n",
    "directory = \"./ligands/\"\n",
    "\n",
    "for filename in os.listdir(directory):\n",
    "    if filename.endswith(end): # IF the file ends with the generic ending,\n",
    "        fileid = filename           # duplicate the fileid for a shortened title\n",
    "        fileid = fileid.replace(end,'')      # remove the end\n",
    "        pdb = PDBParser().get_structure(fileid, directory+filename)       # get the structure\n",
    "        ress = model.get_residues()\n",
    "        for res in ress:\n",
    "            io.set_structure(res)                     # set the structure to the chain\n",
    "            io.save(fileid + \"_\" + chain.get_id() + \".pdb\")   # save the chain to a new PDB file\n"
   ]
  },
  {
   "cell_type": "code",
   "execution_count": null,
   "metadata": {},
   "outputs": [],
   "source": [
    "from Bio.PDB import PDBParser\n",
    "from Bio.PDB.PDBIO import PDBIO\n",
    "import os\n",
    "\n",
    "\n",
    "parser = PDBParser()\n",
    "structure = parser.get_structure(\"1a8o\", \"ligands/1osv_ligand.pdb\")\n",
    "io=PDBIO()\n",
    "for i in structure.get_residues():\n",
    "    io.set_structure(i)\n",
    "    io.save(str(i)+\".pdb\")\n",
    "    #os.remove(\"bio-pdb-pdbio-out.pdb\")  # tidy up"
   ]
  },
  {
   "cell_type": "code",
   "execution_count": null,
   "metadata": {},
   "outputs": [],
   "source": [
    "class LigSelect(PDBIO.Select):\n",
    "    def ret_ligname(self, residue):\n",
    "        if not is_aa(residue):\n",
    "            return residue\n",
    "        else:\n",
    "            return"
   ]
  },
  {
   "source": [
    "## StackOverflow solution\n",
    "~~~~~~~~~~~~~~\n",
    "https://stackoverflow.com/questions/61390035/how-to-save-each-ligand-from-a-pdb-file-separately-with-bio-pdb"
   ],
   "cell_type": "markdown",
   "metadata": {}
  },
  {
   "cell_type": "code",
   "execution_count": 3,
   "metadata": {
    "tags": []
   },
   "outputs": [
    {
     "output_type": "stream",
     "name": "stdout",
     "text": [
      "saving <Chain id=A> <Residue 3K2 het=H_3K2 resseq=501 icode= >\n"
     ]
    },
    {
     "output_type": "error",
     "ename": "TypeError",
     "evalue": "'int' object is not subscriptable",
     "traceback": [
      "\u001b[0;31m---------------------------------------------------------------------------\u001b[0m",
      "\u001b[0;31mTypeError\u001b[0m                                 Traceback (most recent call last)",
      "\u001b[0;32m<ipython-input-3-1daadd5dbca7>\u001b[0m in \u001b[0;36m<module>\u001b[0;34m\u001b[0m\n\u001b[1;32m     46\u001b[0m \u001b[0mpath\u001b[0m \u001b[0;34m=\u001b[0m \u001b[0;34m\"\"\u001b[0m\u001b[0;34m\u001b[0m\u001b[0;34m\u001b[0m\u001b[0m\n\u001b[1;32m     47\u001b[0m \u001b[0;34m\u001b[0m\u001b[0m\n\u001b[0;32m---> 48\u001b[0;31m \u001b[0mextract_ligands\u001b[0m\u001b[0;34m(\u001b[0m\u001b[0mpath\u001b[0m\u001b[0;34m)\u001b[0m\u001b[0;34m\u001b[0m\u001b[0;34m\u001b[0m\u001b[0m\n\u001b[0m",
      "\u001b[0;32m<ipython-input-3-1daadd5dbca7>\u001b[0m in \u001b[0;36mextract_ligands\u001b[0;34m(path)\u001b[0m\n\u001b[1;32m     40\u001b[0m                             \u001b[0;32mcontinue\u001b[0m\u001b[0;34m\u001b[0m\u001b[0;34m\u001b[0m\u001b[0m\n\u001b[1;32m     41\u001b[0m                         \u001b[0mprint\u001b[0m\u001b[0;34m(\u001b[0m\u001b[0;34mf\"saving {chain} {residue}\"\u001b[0m\u001b[0;34m)\u001b[0m\u001b[0;34m\u001b[0m\u001b[0;34m\u001b[0m\u001b[0m\n\u001b[0;32m---> 42\u001b[0;31m                         \u001b[0mio\u001b[0m\u001b[0;34m.\u001b[0m\u001b[0msave\u001b[0m\u001b[0;34m(\u001b[0m\u001b[0;34mf\"lig_{pdb_code}_{i}.pdb\"\u001b[0m\u001b[0;34m,\u001b[0m \u001b[0mResidueSelect\u001b[0m\u001b[0;34m(\u001b[0m\u001b[0mmodel\u001b[0m\u001b[0;34m,\u001b[0m\u001b[0mchain\u001b[0m\u001b[0;34m,\u001b[0m \u001b[0mresidue\u001b[0m\u001b[0;34m)\u001b[0m\u001b[0;34m)\u001b[0m\u001b[0;34m\u001b[0m\u001b[0;34m\u001b[0m\u001b[0m\n\u001b[0m\u001b[1;32m     43\u001b[0m                         \u001b[0mi\u001b[0m \u001b[0;34m+=\u001b[0m \u001b[0;36m1\u001b[0m\u001b[0;34m\u001b[0m\u001b[0;34m\u001b[0m\u001b[0m\n\u001b[1;32m     44\u001b[0m \u001b[0;34m\u001b[0m\u001b[0m\n",
      "\u001b[0;32m~/.local/lib/python3.8/site-packages/Bio/PDB/PDBIO.py\u001b[0m in \u001b[0;36msave\u001b[0;34m(self, file, select, write_end, preserve_atom_numbering)\u001b[0m\n\u001b[1;32m    313\u001b[0m             \u001b[0mmodel_flag\u001b[0m \u001b[0;34m=\u001b[0m \u001b[0;36m0\u001b[0m\u001b[0;34m\u001b[0m\u001b[0;34m\u001b[0m\u001b[0m\n\u001b[1;32m    314\u001b[0m         \u001b[0;32mfor\u001b[0m \u001b[0mmodel\u001b[0m \u001b[0;32min\u001b[0m \u001b[0mself\u001b[0m\u001b[0;34m.\u001b[0m\u001b[0mstructure\u001b[0m\u001b[0;34m.\u001b[0m\u001b[0mget_list\u001b[0m\u001b[0;34m(\u001b[0m\u001b[0;34m)\u001b[0m\u001b[0;34m:\u001b[0m\u001b[0;34m\u001b[0m\u001b[0;34m\u001b[0m\u001b[0m\n\u001b[0;32m--> 315\u001b[0;31m             \u001b[0;32mif\u001b[0m \u001b[0;32mnot\u001b[0m \u001b[0mselect\u001b[0m\u001b[0;34m.\u001b[0m\u001b[0maccept_model\u001b[0m\u001b[0;34m(\u001b[0m\u001b[0mmodel\u001b[0m\u001b[0;34m)\u001b[0m\u001b[0;34m:\u001b[0m\u001b[0;34m\u001b[0m\u001b[0;34m\u001b[0m\u001b[0m\n\u001b[0m\u001b[1;32m    316\u001b[0m                 \u001b[0;32mcontinue\u001b[0m\u001b[0;34m\u001b[0m\u001b[0;34m\u001b[0m\u001b[0m\n\u001b[1;32m    317\u001b[0m             \u001b[0;31m# necessary for ENDMDL\u001b[0m\u001b[0;34m\u001b[0m\u001b[0;34m\u001b[0m\u001b[0;34m\u001b[0m\u001b[0m\n",
      "\u001b[0;32m<ipython-input-3-1daadd5dbca7>\u001b[0m in \u001b[0;36maccept_model\u001b[0;34m(self, model)\u001b[0m\n\u001b[1;32m     15\u001b[0m     \u001b[0;32mdef\u001b[0m \u001b[0maccept_model\u001b[0m\u001b[0;34m(\u001b[0m\u001b[0mself\u001b[0m\u001b[0;34m,\u001b[0m \u001b[0mmodel\u001b[0m\u001b[0;34m)\u001b[0m\u001b[0;34m:\u001b[0m\u001b[0;34m\u001b[0m\u001b[0;34m\u001b[0m\u001b[0m\n\u001b[1;32m     16\u001b[0m         \u001b[0;31m# ONLY accept the first model, i.e. the first of many duplicates\u001b[0m\u001b[0;34m\u001b[0m\u001b[0;34m\u001b[0m\u001b[0;34m\u001b[0m\u001b[0m\n\u001b[0;32m---> 17\u001b[0;31m         \u001b[0;32mreturn\u001b[0m \u001b[0mmodel\u001b[0m \u001b[0;34m==\u001b[0m \u001b[0mself\u001b[0m\u001b[0;34m.\u001b[0m\u001b[0mmodel\u001b[0m\u001b[0;34m.\u001b[0m\u001b[0mid\u001b[0m\u001b[0;34m[\u001b[0m\u001b[0;34m\"A\"\u001b[0m\u001b[0;34m]\u001b[0m\u001b[0;34m\u001b[0m\u001b[0;34m\u001b[0m\u001b[0m\n\u001b[0m\u001b[1;32m     18\u001b[0m \u001b[0;34m\u001b[0m\u001b[0m\n\u001b[1;32m     19\u001b[0m     \u001b[0;32mdef\u001b[0m \u001b[0maccept_chain\u001b[0m\u001b[0;34m(\u001b[0m\u001b[0mself\u001b[0m\u001b[0;34m,\u001b[0m \u001b[0mchain\u001b[0m\u001b[0;34m)\u001b[0m\u001b[0;34m:\u001b[0m\u001b[0;34m\u001b[0m\u001b[0;34m\u001b[0m\u001b[0m\n",
      "\u001b[0;31mTypeError\u001b[0m: 'int' object is not subscriptable"
     ]
    }
   ],
   "source": [
    "import io\n",
    "\n",
    "from Bio.PDB import PDBParser, PDBIO, Select\n",
    "\n",
    "def is_het(residue):\n",
    "    res = residue.id[0]\n",
    "    return res != \" \" and res != \"W\"\n",
    "\n",
    "class ResidueSelect(Select):\n",
    "    def __init__(self, chain, residue):\n",
    "        # self.model = model\n",
    "        self.chain = chain\n",
    "        self.residue = residue\n",
    "'''\n",
    "    def accept_model(self, model):\n",
    "        # ONLY accept the first model, i.e. the first of many duplicates\n",
    "        return model == self.model[\"A\"]        \n",
    "'''\n",
    "\n",
    "    def accept_chain(self, chain):\n",
    "        return chain.id == self.chain.id\n",
    "\n",
    "    def accept_residue(self, residue):\n",
    "        \"\"\" Recognition of heteroatoms - Remove water molecules \"\"\"\n",
    "        return residue == self.residue and is_het(residue)\n",
    "\n",
    "def extract_ligands(path):\n",
    "    \"\"\" Extraction of the heteroatoms of .pdb files \"\"\"\n",
    "\n",
    "    for pfb_file in os.listdir(path + 'pdbs/'):\n",
    "        i = 1\n",
    "        if pfb_file.endswith('.pdb') and not pfb_file.startswith(\"lig_\"):\n",
    "            pdb_code = pfb_file[:-4]\n",
    "            pdb = PDBParser().get_structure(pdb_code, path + 'pdbs/' + pfb_file)\n",
    "            io = PDBIO()\n",
    "            io.set_structure(pdb)\n",
    "            for model in pdb:\n",
    "                for chain in model:\n",
    "                    for residue in chain:\n",
    "                        if not is_het(residue):\n",
    "                            continue\n",
    "                        print(f\"saving {chain} {residue}\")\n",
    "                        io.save(f\"lig_{pdb_code}_{i}.pdb\", ResidueSelect(chain, residue))\n",
    "                        i += 1\n",
    "\n",
    "# Main\n",
    "path = \"\"\n",
    "\n",
    "extract_ligands(path)"
   ]
  }
 ]
}