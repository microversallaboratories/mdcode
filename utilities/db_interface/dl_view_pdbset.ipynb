{
 "cells": [
  {
   "cell_type": "code",
   "execution_count": 15,
   "metadata": {},
   "outputs": [],
   "source": [
    "# Libraries\n",
    "import pypdb       # For searching and downloading PDB files\n",
    "\n",
    "import datetime     # for organizing file output\n",
    "now = datetime.datetime.now()\n",
    "\n",
    "import Bio      # Bio for downloading PDBs, printing protein lengths in residues\n",
    "from Bio.PDB import PDBList\n",
    "from Bio.PDB import PDBParser\n",
    "\n",
    "import numpy as np\n",
    "import pandas as pd\n",
    "import matplotlib.mlab as mlab\n",
    "import matplotlib.pyplot as plt"
   ]
  },
  {
   "cell_type": "code",
   "execution_count": 16,
   "metadata": {
    "tags": []
   },
   "outputs": [
    {
     "output_type": "stream",
     "name": "stdout",
     "text": "sure_data/fxr/dataset_2020_8_5_15_5_0\n"
    }
   ],
   "source": [
    "# query = \"Q96RI1\" # Farnesoid X Receptor (Homo sapiens)\n",
    "# query = \"P62937\" # Cyclophilin A (Homo sapiens)\n",
    "\n",
    "query = input(\"Supply a query (term, accession number, etc.) :\")\n",
    "\n",
    "# Tag the time right when the query is entered\n",
    "def now_dir_ts():\n",
    "    now_ts = str(now.year)+\"_\"+str(now.month)+\"_\"+str(now.day)+\"_\"+str(now.hour)+\"_\"+str(now.minute)+\"_\"+str(now.second)\n",
    "    return now_ts\n",
    "\n",
    "now = now_dir_ts()\n",
    "\n",
    "PDB_dl_dir = \"sure_data/\"+input(\"Please enter a sub-directory of sure_data/:\")+\"/dataset_\"+now\n",
    "\n",
    "# PDB_dl_dir = input(\"Supply a directory path to download PDB's to:\")\n",
    "# PDB_dl_dir = \"/Users/jacobnorth/Box/extracurriculars/research/SURE_S2020_fileshare/sure_data/cypA/Users/jacobnorth/Box/extracurriculars/research/SURE_S2020_fileshare/sure_data/\"\n",
    "\n",
    "# analy_dir = ''\n",
    "\n",
    "print(PDB_dl_dir)"
   ]
  },
  {
   "cell_type": "markdown",
   "metadata": {},
   "source": [
    "Search for and add PDBs to the list if you don't have them"
   ]
  },
  {
   "cell_type": "code",
   "execution_count": 17,
   "metadata": {
    "tags": []
   },
   "outputs": [],
   "source": [
    "# Using pyPDB\n",
    "search_dict = pypdb.make_query(query)     # create a dictionary containing search information\n",
    "found = pypdb.do_search(search_dict)      # create a list of these PDBs by searching RCSB\n",
    "\n",
    "# create a list with the information and the metadata\n",
    "metadata = []\n",
    "info = []\n",
    "\n",
    "for proteins in found:  # for items in # for the items in the list,\n",
    "    metadata.append(pypdb.describe_pdb(proteins))  # append the dictionary from the query onto the end of the list\n",
    "    #info.append(pypdb.get_all_info(proteins))    # do the same for the info list"
   ]
  },
  {
   "cell_type": "code",
   "execution_count": 18,
   "metadata": {
    "tags": []
   },
   "outputs": [],
   "source": [
    "# print(pypdb.get_all_info('1aki'))"
   ]
  },
  {
   "cell_type": "code",
   "execution_count": 19,
   "metadata": {},
   "outputs": [],
   "source": [
    "# Save the metadata list as a CSV file\n",
    "df = pd.DataFrame(metadata) # convert to a Pandas DF\n",
    "df.to_csv('metadata_'+now+'.csv')      # save as a CSV file"
   ]
  },
  {
   "cell_type": "markdown",
   "metadata": {},
   "source": [
    "Download the collected PDB ID's"
   ]
  },
  {
   "cell_type": "code",
   "execution_count": 20,
   "metadata": {
    "tags": []
   },
   "outputs": [
    {
     "output_type": "stream",
     "name": "stdout",
     "text": "Downloading PDB structure '1OSH'...\nDownloading PDB structure '3BEJ'...\nDownloading PDB structure '3DCT'...\nDownloading PDB structure '3DCU'...\nDownloading PDB structure '3FLI'...\nDownloading PDB structure '3GD2'...\nDownloading PDB structure '3HC5'...\nDownloading PDB structure '3HC6'...\nDownloading PDB structure '3OKH'...\nDownloading PDB structure '3OKI'...\nDownloading PDB structure '3OLF'...\nDownloading PDB structure '3OMK'...\nDownloading PDB structure '3OMM'...\nDownloading PDB structure '3OOF'...\nDownloading PDB structure '3OOK'...\nDownloading PDB structure '3RUT'...\nDownloading PDB structure '3RUU'...\nDownloading PDB structure '3RVF'...\nDownloading PDB structure '4OIV'...\nDownloading PDB structure '4QE6'...\nDownloading PDB structure '4QE8'...\nDownloading PDB structure '4WVD'...\nDownloading PDB structure '5IAW'...\nDownloading PDB structure '5ICK'...\nDownloading PDB structure '5Q0I'...\nDownloading PDB structure '5Q0J'...\nDownloading PDB structure '5Q0K'...\nDownloading PDB structure '5Q0L'...\nDownloading PDB structure '5Q0M'...\nDownloading PDB structure '5Q0N'...\nDownloading PDB structure '5Q0O'...\nDownloading PDB structure '5Q0P'...\nDownloading PDB structure '5Q0Q'...\nDownloading PDB structure '5Q0R'...\nDownloading PDB structure '5Q0S'...\nDownloading PDB structure '5Q0T'...\nDownloading PDB structure '5Q0U'...\nDownloading PDB structure '5Q0V'...\nDownloading PDB structure '5Q0W'...\nDownloading PDB structure '5Q0X'...\nDownloading PDB structure '5Q0Y'...\nDownloading PDB structure '5Q0Z'...\nDownloading PDB structure '5Q10'...\nDownloading PDB structure '5Q11'...\nDownloading PDB structure '5Q12'...\nDownloading PDB structure '5Q13'...\nDownloading PDB structure '5Q14'...\nDownloading PDB structure '5Q15'...\nDownloading PDB structure '5Q16'...\nDownloading PDB structure '5Q17'...\nDownloading PDB structure '5Q18'...\nDownloading PDB structure '5Q19'...\nDownloading PDB structure '5Q1A'...\nDownloading PDB structure '5Q1B'...\nDownloading PDB structure '5Q1C'...\nDownloading PDB structure '5Q1D'...\nDownloading PDB structure '5Q1E'...\nDownloading PDB structure '5Q1F'...\nDownloading PDB structure '5Q1G'...\nDownloading PDB structure '5Q1H'...\nDownloading PDB structure '5Q1I'...\nDownloading PDB structure '5WZX'...\nDownloading PDB structure '5Y1J'...\nDownloading PDB structure '5Y44'...\nDownloading PDB structure '5Y49'...\nDownloading PDB structure '5YXB'...\nDownloading PDB structure '5YXD'...\nDownloading PDB structure '5YXJ'...\nDownloading PDB structure '5YXL'...\nDownloading PDB structure '5Z12'...\nDownloading PDB structure '6A5W'...\nDownloading PDB structure '6A5X'...\nDownloading PDB structure '6A5Y'...\nDownloading PDB structure '6A5Z'...\nDownloading PDB structure '6A60'...\nDownloading PDB structure '6HL0'...\nDownloading PDB structure '6HL1'...\nDownloading PDB structure '6ITM'...\n\n#############~DOWNLOADING COMPLETE~#############\n\n"
    }
   ],
   "source": [
    "parser = PDBParser()       # create a parser\n",
    "pdbs = list()\n",
    "pdbl = PDBList()\n",
    "\n",
    "# Download all PDB structures in the previous list if they aren't there\n",
    "for id in found:\n",
    "    pdbl.retrieve_pdb_file(pdb_code=id, file_format='pdb', pdir=PDB_dl_dir)   # Retrieve in PDB format, put in directory 'PDB'\n",
    "\n",
    "# Finished, print \"Downloading ... finished!\"\n",
    "print('\\n#############~DOWNLOADING COMPLETE~#############\\n')"
   ]
  },
  {
   "cell_type": "code",
   "execution_count": 21,
   "metadata": {
    "tags": []
   },
   "outputs": [
    {
     "output_type": "display_data",
     "data": {
      "text/plain": "<Figure size 432x288 with 1 Axes>",
      "image/svg+xml": "<?xml version=\"1.0\" encoding=\"utf-8\" standalone=\"no\"?>\n<!DOCTYPE svg PUBLIC \"-//W3C//DTD SVG 1.1//EN\"\n  \"http://www.w3.org/Graphics/SVG/1.1/DTD/svg11.dtd\">\n<!-- Created with matplotlib (https://matplotlib.org/) -->\n<svg height=\"248.518125pt\" version=\"1.1\" viewBox=\"0 0 386.845313 248.518125\" width=\"386.845313pt\" xmlns=\"http://www.w3.org/2000/svg\" xmlns:xlink=\"http://www.w3.org/1999/xlink\">\n <metadata>\n  <rdf:RDF xmlns:cc=\"http://creativecommons.org/ns#\" xmlns:dc=\"http://purl.org/dc/elements/1.1/\" xmlns:rdf=\"http://www.w3.org/1999/02/22-rdf-syntax-ns#\">\n   <cc:Work>\n    <dc:type rdf:resource=\"http://purl.org/dc/dcmitype/StillImage\"/>\n    <dc:date>2020-08-05T15:07:11.923257</dc:date>\n    <dc:format>image/svg+xml</dc:format>\n    <dc:creator>\n     <cc:Agent>\n      <dc:title>Matplotlib v3.3.0, https://matplotlib.org/</dc:title>\n     </cc:Agent>\n    </dc:creator>\n   </cc:Work>\n  </rdf:RDF>\n </metadata>\n <defs>\n  <style type=\"text/css\">*{stroke-linecap:butt;stroke-linejoin:round;}</style>\n </defs>\n <g id=\"figure_1\">\n  <g id=\"patch_1\">\n   <path d=\"M 0 248.518125 \nL 386.845313 248.518125 \nL 386.845313 0 \nL 0 0 \nz\n\" style=\"fill:none;\"/>\n  </g>\n  <g id=\"axes_1\">\n   <g id=\"patch_2\">\n    <path d=\"M 44.845313 224.64 \nL 379.645313 224.64 \nL 379.645313 7.2 \nL 44.845313 7.2 \nz\n\" style=\"fill:#ffffff;\"/>\n   </g>\n   <g id=\"patch_3\">\n    <path clip-path=\"url(#pec29e4cc2e)\" d=\"M 60.063494 115.92 \nL 90.499858 115.92 \nL 90.499858 115.92 \nL 60.063494 115.92 \nz\n\" style=\"fill:#0000ff;opacity:0.5;\"/>\n   </g>\n   <g id=\"patch_4\">\n    <path clip-path=\"url(#pec29e4cc2e)\" d=\"M 90.499858 115.92 \nL 120.936222 115.92 \nL 120.936222 115.92 \nL 90.499858 115.92 \nz\n\" style=\"fill:#0000ff;opacity:0.5;\"/>\n   </g>\n   <g id=\"patch_5\">\n    <path clip-path=\"url(#pec29e4cc2e)\" d=\"M 120.936222 115.92 \nL 151.372585 115.92 \nL 151.372585 115.92 \nL 120.936222 115.92 \nz\n\" style=\"fill:#0000ff;opacity:0.5;\"/>\n   </g>\n   <g id=\"patch_6\">\n    <path clip-path=\"url(#pec29e4cc2e)\" d=\"M 151.372585 115.92 \nL 181.808949 115.92 \nL 181.808949 115.92 \nL 151.372585 115.92 \nz\n\" style=\"fill:#0000ff;opacity:0.5;\"/>\n   </g>\n   <g id=\"patch_7\">\n    <path clip-path=\"url(#pec29e4cc2e)\" d=\"M 181.808949 115.92 \nL 212.245313 115.92 \nL 212.245313 115.92 \nL 181.808949 115.92 \nz\n\" style=\"fill:#0000ff;opacity:0.5;\"/>\n   </g>\n   <g id=\"patch_8\">\n    <path clip-path=\"url(#pec29e4cc2e)\" d=\"M 212.245313 115.92 \nL 242.681676 115.92 \nL 242.681676 115.92 \nL 212.245313 115.92 \nz\n\" style=\"fill:#0000ff;opacity:0.5;\"/>\n   </g>\n   <g id=\"patch_9\">\n    <path clip-path=\"url(#pec29e4cc2e)\" d=\"M 242.681676 115.92 \nL 273.11804 115.92 \nL 273.11804 115.92 \nL 242.681676 115.92 \nz\n\" style=\"fill:#0000ff;opacity:0.5;\"/>\n   </g>\n   <g id=\"patch_10\">\n    <path clip-path=\"url(#pec29e4cc2e)\" d=\"M 273.11804 115.92 \nL 303.554403 115.92 \nL 303.554403 115.92 \nL 273.11804 115.92 \nz\n\" style=\"fill:#0000ff;opacity:0.5;\"/>\n   </g>\n   <g id=\"patch_11\">\n    <path clip-path=\"url(#pec29e4cc2e)\" d=\"M 303.554403 115.92 \nL 333.990767 115.92 \nL 333.990767 115.92 \nL 303.554403 115.92 \nz\n\" style=\"fill:#0000ff;opacity:0.5;\"/>\n   </g>\n   <g id=\"patch_12\">\n    <path clip-path=\"url(#pec29e4cc2e)\" d=\"M 333.990767 115.92 \nL 364.427131 115.92 \nL 364.427131 115.92 \nL 333.990767 115.92 \nz\n\" style=\"fill:#0000ff;opacity:0.5;\"/>\n   </g>\n   <g id=\"matplotlib.axis_1\">\n    <g id=\"xtick_1\">\n     <g id=\"line2d_1\">\n      <defs>\n       <path d=\"M 0 0 \nL 0 3.5 \n\" id=\"ma31632da2a\" style=\"stroke:#000000;stroke-width:0.8;\"/>\n      </defs>\n      <g>\n       <use style=\"stroke:#000000;stroke-width:0.8;\" x=\"60.063494\" xlink:href=\"#ma31632da2a\" y=\"224.64\"/>\n      </g>\n     </g>\n     <g id=\"text_1\">\n      <!-- 0.0 -->\n      <g transform=\"translate(52.111932 239.238437)scale(0.1 -0.1)\">\n       <defs>\n        <path d=\"M 31.78125 66.40625 \nQ 24.171875 66.40625 20.328125 58.90625 \nQ 16.5 51.421875 16.5 36.375 \nQ 16.5 21.390625 20.328125 13.890625 \nQ 24.171875 6.390625 31.78125 6.390625 \nQ 39.453125 6.390625 43.28125 13.890625 \nQ 47.125 21.390625 47.125 36.375 \nQ 47.125 51.421875 43.28125 58.90625 \nQ 39.453125 66.40625 31.78125 66.40625 \nz\nM 31.78125 74.21875 \nQ 44.046875 74.21875 50.515625 64.515625 \nQ 56.984375 54.828125 56.984375 36.375 \nQ 56.984375 17.96875 50.515625 8.265625 \nQ 44.046875 -1.421875 31.78125 -1.421875 \nQ 19.53125 -1.421875 13.0625 8.265625 \nQ 6.59375 17.96875 6.59375 36.375 \nQ 6.59375 54.828125 13.0625 64.515625 \nQ 19.53125 74.21875 31.78125 74.21875 \nz\n\" id=\"DejaVuSans-48\"/>\n        <path d=\"M 10.6875 12.40625 \nL 21 12.40625 \nL 21 0 \nL 10.6875 0 \nz\n\" id=\"DejaVuSans-46\"/>\n       </defs>\n       <use xlink:href=\"#DejaVuSans-48\"/>\n       <use x=\"63.623047\" xlink:href=\"#DejaVuSans-46\"/>\n       <use x=\"95.410156\" xlink:href=\"#DejaVuSans-48\"/>\n      </g>\n     </g>\n    </g>\n    <g id=\"xtick_2\">\n     <g id=\"line2d_2\">\n      <g>\n       <use style=\"stroke:#000000;stroke-width:0.8;\" x=\"120.936222\" xlink:href=\"#ma31632da2a\" y=\"224.64\"/>\n      </g>\n     </g>\n     <g id=\"text_2\">\n      <!-- 0.2 -->\n      <g transform=\"translate(112.984659 239.238437)scale(0.1 -0.1)\">\n       <defs>\n        <path d=\"M 19.1875 8.296875 \nL 53.609375 8.296875 \nL 53.609375 0 \nL 7.328125 0 \nL 7.328125 8.296875 \nQ 12.9375 14.109375 22.625 23.890625 \nQ 32.328125 33.6875 34.8125 36.53125 \nQ 39.546875 41.84375 41.421875 45.53125 \nQ 43.3125 49.21875 43.3125 52.78125 \nQ 43.3125 58.59375 39.234375 62.25 \nQ 35.15625 65.921875 28.609375 65.921875 \nQ 23.96875 65.921875 18.8125 64.3125 \nQ 13.671875 62.703125 7.8125 59.421875 \nL 7.8125 69.390625 \nQ 13.765625 71.78125 18.9375 73 \nQ 24.125 74.21875 28.421875 74.21875 \nQ 39.75 74.21875 46.484375 68.546875 \nQ 53.21875 62.890625 53.21875 53.421875 \nQ 53.21875 48.921875 51.53125 44.890625 \nQ 49.859375 40.875 45.40625 35.40625 \nQ 44.1875 33.984375 37.640625 27.21875 \nQ 31.109375 20.453125 19.1875 8.296875 \nz\n\" id=\"DejaVuSans-50\"/>\n       </defs>\n       <use xlink:href=\"#DejaVuSans-48\"/>\n       <use x=\"63.623047\" xlink:href=\"#DejaVuSans-46\"/>\n       <use x=\"95.410156\" xlink:href=\"#DejaVuSans-50\"/>\n      </g>\n     </g>\n    </g>\n    <g id=\"xtick_3\">\n     <g id=\"line2d_3\">\n      <g>\n       <use style=\"stroke:#000000;stroke-width:0.8;\" x=\"181.808949\" xlink:href=\"#ma31632da2a\" y=\"224.64\"/>\n      </g>\n     </g>\n     <g id=\"text_3\">\n      <!-- 0.4 -->\n      <g transform=\"translate(173.857386 239.238437)scale(0.1 -0.1)\">\n       <defs>\n        <path d=\"M 37.796875 64.3125 \nL 12.890625 25.390625 \nL 37.796875 25.390625 \nz\nM 35.203125 72.90625 \nL 47.609375 72.90625 \nL 47.609375 25.390625 \nL 58.015625 25.390625 \nL 58.015625 17.1875 \nL 47.609375 17.1875 \nL 47.609375 0 \nL 37.796875 0 \nL 37.796875 17.1875 \nL 4.890625 17.1875 \nL 4.890625 26.703125 \nz\n\" id=\"DejaVuSans-52\"/>\n       </defs>\n       <use xlink:href=\"#DejaVuSans-48\"/>\n       <use x=\"63.623047\" xlink:href=\"#DejaVuSans-46\"/>\n       <use x=\"95.410156\" xlink:href=\"#DejaVuSans-52\"/>\n      </g>\n     </g>\n    </g>\n    <g id=\"xtick_4\">\n     <g id=\"line2d_4\">\n      <g>\n       <use style=\"stroke:#000000;stroke-width:0.8;\" x=\"242.681676\" xlink:href=\"#ma31632da2a\" y=\"224.64\"/>\n      </g>\n     </g>\n     <g id=\"text_4\">\n      <!-- 0.6 -->\n      <g transform=\"translate(234.730114 239.238437)scale(0.1 -0.1)\">\n       <defs>\n        <path d=\"M 33.015625 40.375 \nQ 26.375 40.375 22.484375 35.828125 \nQ 18.609375 31.296875 18.609375 23.390625 \nQ 18.609375 15.53125 22.484375 10.953125 \nQ 26.375 6.390625 33.015625 6.390625 \nQ 39.65625 6.390625 43.53125 10.953125 \nQ 47.40625 15.53125 47.40625 23.390625 \nQ 47.40625 31.296875 43.53125 35.828125 \nQ 39.65625 40.375 33.015625 40.375 \nz\nM 52.59375 71.296875 \nL 52.59375 62.3125 \nQ 48.875 64.0625 45.09375 64.984375 \nQ 41.3125 65.921875 37.59375 65.921875 \nQ 27.828125 65.921875 22.671875 59.328125 \nQ 17.53125 52.734375 16.796875 39.40625 \nQ 19.671875 43.65625 24.015625 45.921875 \nQ 28.375 48.1875 33.59375 48.1875 \nQ 44.578125 48.1875 50.953125 41.515625 \nQ 57.328125 34.859375 57.328125 23.390625 \nQ 57.328125 12.15625 50.6875 5.359375 \nQ 44.046875 -1.421875 33.015625 -1.421875 \nQ 20.359375 -1.421875 13.671875 8.265625 \nQ 6.984375 17.96875 6.984375 36.375 \nQ 6.984375 53.65625 15.1875 63.9375 \nQ 23.390625 74.21875 37.203125 74.21875 \nQ 40.921875 74.21875 44.703125 73.484375 \nQ 48.484375 72.75 52.59375 71.296875 \nz\n\" id=\"DejaVuSans-54\"/>\n       </defs>\n       <use xlink:href=\"#DejaVuSans-48\"/>\n       <use x=\"63.623047\" xlink:href=\"#DejaVuSans-46\"/>\n       <use x=\"95.410156\" xlink:href=\"#DejaVuSans-54\"/>\n      </g>\n     </g>\n    </g>\n    <g id=\"xtick_5\">\n     <g id=\"line2d_5\">\n      <g>\n       <use style=\"stroke:#000000;stroke-width:0.8;\" x=\"303.554403\" xlink:href=\"#ma31632da2a\" y=\"224.64\"/>\n      </g>\n     </g>\n     <g id=\"text_5\">\n      <!-- 0.8 -->\n      <g transform=\"translate(295.602841 239.238437)scale(0.1 -0.1)\">\n       <defs>\n        <path d=\"M 31.78125 34.625 \nQ 24.75 34.625 20.71875 30.859375 \nQ 16.703125 27.09375 16.703125 20.515625 \nQ 16.703125 13.921875 20.71875 10.15625 \nQ 24.75 6.390625 31.78125 6.390625 \nQ 38.8125 6.390625 42.859375 10.171875 \nQ 46.921875 13.96875 46.921875 20.515625 \nQ 46.921875 27.09375 42.890625 30.859375 \nQ 38.875 34.625 31.78125 34.625 \nz\nM 21.921875 38.8125 \nQ 15.578125 40.375 12.03125 44.71875 \nQ 8.5 49.078125 8.5 55.328125 \nQ 8.5 64.0625 14.71875 69.140625 \nQ 20.953125 74.21875 31.78125 74.21875 \nQ 42.671875 74.21875 48.875 69.140625 \nQ 55.078125 64.0625 55.078125 55.328125 \nQ 55.078125 49.078125 51.53125 44.71875 \nQ 48 40.375 41.703125 38.8125 \nQ 48.828125 37.15625 52.796875 32.3125 \nQ 56.78125 27.484375 56.78125 20.515625 \nQ 56.78125 9.90625 50.3125 4.234375 \nQ 43.84375 -1.421875 31.78125 -1.421875 \nQ 19.734375 -1.421875 13.25 4.234375 \nQ 6.78125 9.90625 6.78125 20.515625 \nQ 6.78125 27.484375 10.78125 32.3125 \nQ 14.796875 37.15625 21.921875 38.8125 \nz\nM 18.3125 54.390625 \nQ 18.3125 48.734375 21.84375 45.5625 \nQ 25.390625 42.390625 31.78125 42.390625 \nQ 38.140625 42.390625 41.71875 45.5625 \nQ 45.3125 48.734375 45.3125 54.390625 \nQ 45.3125 60.0625 41.71875 63.234375 \nQ 38.140625 66.40625 31.78125 66.40625 \nQ 25.390625 66.40625 21.84375 63.234375 \nQ 18.3125 60.0625 18.3125 54.390625 \nz\n\" id=\"DejaVuSans-56\"/>\n       </defs>\n       <use xlink:href=\"#DejaVuSans-48\"/>\n       <use x=\"63.623047\" xlink:href=\"#DejaVuSans-46\"/>\n       <use x=\"95.410156\" xlink:href=\"#DejaVuSans-56\"/>\n      </g>\n     </g>\n    </g>\n    <g id=\"xtick_6\">\n     <g id=\"line2d_6\">\n      <g>\n       <use style=\"stroke:#000000;stroke-width:0.8;\" x=\"364.427131\" xlink:href=\"#ma31632da2a\" y=\"224.64\"/>\n      </g>\n     </g>\n     <g id=\"text_6\">\n      <!-- 1.0 -->\n      <g transform=\"translate(356.475568 239.238437)scale(0.1 -0.1)\">\n       <defs>\n        <path d=\"M 12.40625 8.296875 \nL 28.515625 8.296875 \nL 28.515625 63.921875 \nL 10.984375 60.40625 \nL 10.984375 69.390625 \nL 28.421875 72.90625 \nL 38.28125 72.90625 \nL 38.28125 8.296875 \nL 54.390625 8.296875 \nL 54.390625 0 \nL 12.40625 0 \nz\n\" id=\"DejaVuSans-49\"/>\n       </defs>\n       <use xlink:href=\"#DejaVuSans-49\"/>\n       <use x=\"63.623047\" xlink:href=\"#DejaVuSans-46\"/>\n       <use x=\"95.410156\" xlink:href=\"#DejaVuSans-48\"/>\n      </g>\n     </g>\n    </g>\n   </g>\n   <g id=\"matplotlib.axis_2\">\n    <g id=\"ytick_1\">\n     <g id=\"line2d_7\">\n      <defs>\n       <path d=\"M 0 0 \nL -3.5 0 \n\" id=\"m3b58a7de9d\" style=\"stroke:#000000;stroke-width:0.8;\"/>\n      </defs>\n      <g>\n       <use style=\"stroke:#000000;stroke-width:0.8;\" x=\"44.845313\" xlink:href=\"#m3b58a7de9d\" y=\"194.989091\"/>\n      </g>\n     </g>\n     <g id=\"text_7\">\n      <!-- −0.04 -->\n      <g transform=\"translate(7.2 198.78831)scale(0.1 -0.1)\">\n       <defs>\n        <path d=\"M 10.59375 35.5 \nL 73.1875 35.5 \nL 73.1875 27.203125 \nL 10.59375 27.203125 \nz\n\" id=\"DejaVuSans-8722\"/>\n       </defs>\n       <use xlink:href=\"#DejaVuSans-8722\"/>\n       <use x=\"83.789062\" xlink:href=\"#DejaVuSans-48\"/>\n       <use x=\"147.412109\" xlink:href=\"#DejaVuSans-46\"/>\n       <use x=\"179.199219\" xlink:href=\"#DejaVuSans-48\"/>\n       <use x=\"242.822266\" xlink:href=\"#DejaVuSans-52\"/>\n      </g>\n     </g>\n    </g>\n    <g id=\"ytick_2\">\n     <g id=\"line2d_8\">\n      <g>\n       <use style=\"stroke:#000000;stroke-width:0.8;\" x=\"44.845313\" xlink:href=\"#m3b58a7de9d\" y=\"155.454545\"/>\n      </g>\n     </g>\n     <g id=\"text_8\">\n      <!-- −0.02 -->\n      <g transform=\"translate(7.2 159.253764)scale(0.1 -0.1)\">\n       <use xlink:href=\"#DejaVuSans-8722\"/>\n       <use x=\"83.789062\" xlink:href=\"#DejaVuSans-48\"/>\n       <use x=\"147.412109\" xlink:href=\"#DejaVuSans-46\"/>\n       <use x=\"179.199219\" xlink:href=\"#DejaVuSans-48\"/>\n       <use x=\"242.822266\" xlink:href=\"#DejaVuSans-50\"/>\n      </g>\n     </g>\n    </g>\n    <g id=\"ytick_3\">\n     <g id=\"line2d_9\">\n      <g>\n       <use style=\"stroke:#000000;stroke-width:0.8;\" x=\"44.845313\" xlink:href=\"#m3b58a7de9d\" y=\"115.92\"/>\n      </g>\n     </g>\n     <g id=\"text_9\">\n      <!-- 0.00 -->\n      <g transform=\"translate(15.579688 119.719219)scale(0.1 -0.1)\">\n       <use xlink:href=\"#DejaVuSans-48\"/>\n       <use x=\"63.623047\" xlink:href=\"#DejaVuSans-46\"/>\n       <use x=\"95.410156\" xlink:href=\"#DejaVuSans-48\"/>\n       <use x=\"159.033203\" xlink:href=\"#DejaVuSans-48\"/>\n      </g>\n     </g>\n    </g>\n    <g id=\"ytick_4\">\n     <g id=\"line2d_10\">\n      <g>\n       <use style=\"stroke:#000000;stroke-width:0.8;\" x=\"44.845313\" xlink:href=\"#m3b58a7de9d\" y=\"76.385455\"/>\n      </g>\n     </g>\n     <g id=\"text_10\">\n      <!-- 0.02 -->\n      <g transform=\"translate(15.579688 80.184673)scale(0.1 -0.1)\">\n       <use xlink:href=\"#DejaVuSans-48\"/>\n       <use x=\"63.623047\" xlink:href=\"#DejaVuSans-46\"/>\n       <use x=\"95.410156\" xlink:href=\"#DejaVuSans-48\"/>\n       <use x=\"159.033203\" xlink:href=\"#DejaVuSans-50\"/>\n      </g>\n     </g>\n    </g>\n    <g id=\"ytick_5\">\n     <g id=\"line2d_11\">\n      <g>\n       <use style=\"stroke:#000000;stroke-width:0.8;\" x=\"44.845313\" xlink:href=\"#m3b58a7de9d\" y=\"36.850909\"/>\n      </g>\n     </g>\n     <g id=\"text_11\">\n      <!-- 0.04 -->\n      <g transform=\"translate(15.579688 40.650128)scale(0.1 -0.1)\">\n       <use xlink:href=\"#DejaVuSans-48\"/>\n       <use x=\"63.623047\" xlink:href=\"#DejaVuSans-46\"/>\n       <use x=\"95.410156\" xlink:href=\"#DejaVuSans-48\"/>\n       <use x=\"159.033203\" xlink:href=\"#DejaVuSans-52\"/>\n      </g>\n     </g>\n    </g>\n   </g>\n   <g id=\"patch_13\">\n    <path d=\"M 44.845313 224.64 \nL 44.845313 7.2 \n\" style=\"fill:none;stroke:#000000;stroke-linecap:square;stroke-linejoin:miter;stroke-width:0.8;\"/>\n   </g>\n   <g id=\"patch_14\">\n    <path d=\"M 379.645313 224.64 \nL 379.645313 7.2 \n\" style=\"fill:none;stroke:#000000;stroke-linecap:square;stroke-linejoin:miter;stroke-width:0.8;\"/>\n   </g>\n   <g id=\"patch_15\">\n    <path d=\"M 44.845313 224.64 \nL 379.645313 224.64 \n\" style=\"fill:none;stroke:#000000;stroke-linecap:square;stroke-linejoin:miter;stroke-width:0.8;\"/>\n   </g>\n   <g id=\"patch_16\">\n    <path d=\"M 44.845313 7.2 \nL 379.645313 7.2 \n\" style=\"fill:none;stroke:#000000;stroke-linecap:square;stroke-linejoin:miter;stroke-width:0.8;\"/>\n   </g>\n  </g>\n </g>\n <defs>\n  <clipPath id=\"pec29e4cc2e\">\n   <rect height=\"217.44\" width=\"334.8\" x=\"44.845313\" y=\"7.2\"/>\n  </clipPath>\n </defs>\n</svg>\n",
      "image/png": "[encoded data removed]"
     },
     "metadata": {
      "needs_background": "light"
     }
    }
   ],
   "source": [
    "res_counts = list()\n",
    "\n",
    "for pdb in pdbs:\n",
    "    count = 0\n",
    "    for residue in pdb.get_residues():\n",
    "        count+=1\n",
    "    print(\"PDB:\", pdb, \"has\", count, \"residues.\")\n",
    "    res_counts.append(count)\n",
    "\n",
    "plt.hist(res_counts, facecolor='blue', alpha=0.5)\n",
    "plt.show()"
   ]
  },
  {
   "cell_type": "markdown",
   "metadata": {},
   "source": [
    "Extract ligands from the PDBs and create files for these ligands!"
   ]
  },
  {
   "cell_type": "code",
   "execution_count": 22,
   "metadata": {},
   "outputs": [],
   "source": [
    "## CREDIT: Pat Walters\n",
    "\n",
    "# These functions allow the extraction of a PDB ligand from a PDB file\n",
    "\n",
    "import sys\n",
    "from prody import *\n",
    "from rdkit import Chem\n",
    "from rdkit.Chem import AllChem\n",
    "from io import StringIO\n",
    "import pypdb\n",
    "\n",
    "\n",
    "def get_pdb_components(pdb_id):\n",
    "    \"\"\"\n",
    "    Split a protein-ligand pdb into protein and ligand components\n",
    "    :param pdb_id:\n",
    "    :return:\n",
    "    \"\"\"\n",
    "    pdb = parsePDB(\"sure_data/\"+pdb_id)\n",
    "    protein = pdb.select('protein')\n",
    "    ligand = pdb.select('not protein and not water')\n",
    "    return protein, ligand\n",
    "\n",
    "\n",
    "def process_ligand_sdf(ligand, res_name):\n",
    "    \"\"\"\n",
    "    Add bond orders to a pdb ligand\n",
    "    1. Select the ligand component with name \"res_name\"\n",
    "    2. Get the corresponding SMILES from pypdb\n",
    "    3. Create a template molecule from the SMILES in step 2\n",
    "    4. Write the PDB file to a stream\n",
    "    5. Read the stream into an RDKit molecule\n",
    "    6. Assign the bond orders from the template from step 3\n",
    "    :param ligand: ligand as generated by prody\n",
    "    :param res_name: residue name of ligand to extract\n",
    "    :return: molecule with bond orders assigned\n",
    "    \"\"\"\n",
    "    output = StringIO()\n",
    "    sub_mol = ligand.select(f\"resname {res_name}\")\n",
    "    chem_desc = pypdb.describe_chemical(f\"{res_name}\")\n",
    "    sub_smiles = chem_desc[\"describeHet\"][\"ligandInfo\"][\"ligand\"][\"smiles\"]\n",
    "    template = AllChem.MolFromSmiles(sub_smiles)\n",
    "    writePDBStream(output, sub_mol)\n",
    "    pdb_string = output.getvalue()\n",
    "    rd_mol = AllChem.MolFromPDBBlock(pdb_string)\n",
    "    new_mol = AllChem.AssignBondOrdersFromTemplate(template, rd_mol)\n",
    "    return new_mol\n",
    "\n",
    "\n",
    "def write_pdb(protein, pdb_name):\n",
    "    \"\"\"\n",
    "    Write a prody protein to a pdb file\n",
    "    :param protein: protein object from prody\n",
    "    :param pdb_name: base name for the pdb file\n",
    "    :return: None\n",
    "    \"\"\"\n",
    "    output_pdb_name = f\"{pdb_name}.pdb\"\n",
    "    writePDB(f\"{output_pdb_name}\", protein)\n",
    "    print(f\"wrote {output_pdb_name}\")\n",
    "\n",
    "\n",
    "def write_sdf(new_mol, pdb_name, res_name):\n",
    "    \"\"\"\n",
    "    Write an RDKit molecule to an SD file\n",
    "    :param new_mol:\n",
    "    :param pdb_name:\n",
    "    :param res_name:\n",
    "    :return:\n",
    "    \"\"\"\n",
    "    outfile_name = f\"{pdb_name}_{res_name}_ligand.sdf\"\n",
    "    writer = Chem.SDWriter(f\"{outfile_name}\")\n",
    "    writer.write(new_mol)\n",
    "    print(f\"wrote {outfile_name}\")\n"
   ]
  },
  {
   "cell_type": "code",
   "execution_count": 23,
   "metadata": {},
   "outputs": [],
   "source": [
    "for pdb in pdbs:\n",
    "    protein, ligand = get_pdb_components(pdb_name)\n",
    "    write_pdb(protein, pdb_name)        # write protein PDB\n",
    "    write_pdb(ligand, res_name)\n",
    "\n",
    "    res_name_list = list(set(ligand.getResnames()))\n",
    "    for res in res_name_list:\n",
    "        new_mol = process_ligand_sdf(ligand, res)\n",
    "\n",
    "        write_sdf(new_mol, pdb_name, res)\n",
    "        write_pdb()"
   ]
  }
 ],
 "metadata": {
  "language_info": {
   "codemirror_mode": {
    "name": "ipython",
    "version": 3
   },
   "file_extension": ".py",
   "mimetype": "text/x-python",
   "name": "python",
   "nbconvert_exporter": "python",
   "pygments_lexer": "ipython3",
   "version": "3.6.10-final"
  },
  "orig_nbformat": 2,
  "kernelspec": {
   "name": "python_defaultSpec_1596661672601",
   "display_name": "Python 3.6.10 64-bit ('RDKit': conda)"
  }
 },
 "nbformat": 4,
 "nbformat_minor": 2
}