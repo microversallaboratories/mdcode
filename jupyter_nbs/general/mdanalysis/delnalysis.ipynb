{
 "metadata": {
  "language_info": {
   "codemirror_mode": {
    "name": "ipython",
    "version": 3
   },
   "file_extension": ".py",
   "mimetype": "text/x-python",
   "name": "python",
   "nbconvert_exporter": "python",
   "pygments_lexer": "ipython3",
   "version": "3.8.5-final"
  },
  "orig_nbformat": 2,
  "kernelspec": {
   "name": "python_defaultSpec_1598423897507",
   "display_name": "Python 3.8.5 64-bit ('MDAnalysis': conda)"
  }
 },
 "nbformat": 4,
 "nbformat_minor": 2,
 "cells": [
  {
   "cell_type": "markdown",
   "metadata": {},
   "source": [
    "Differential analysis of protein dynamics | \"delnalysis\""
   ]
  },
  {
   "cell_type": "code",
   "execution_count": null,
   "metadata": {},
   "outputs": [],
   "source": [
    "# import libraries\n",
    "import MDAnalysis as mda\n",
    "import pandas as pd\n",
    "import numpy as np\n",
    "import matplotlib.pyplot as plt\n",
    "import MDAnalysis.analysis.dihedrals as dih"
   ]
  },
  {
   "cell_type": "code",
   "execution_count": null,
   "metadata": {},
   "outputs": [],
   "source": [
    "# setup universe\n",
    "## CAUTION: Only works for normal residue proteins! ncAA's need a special dihedral definition (defined in the wiki!)\n",
    "u = mda.Universe(\"md_0_1.gro\", \"md_0_1.xtc\")"
   ]
  },
  {
   "cell_type": "markdown",
   "metadata": {},
   "source": [
    "Delsasi plot"
   ]
  },
  {
   "cell_type": "code",
   "execution_count": null,
   "metadata": {},
   "outputs": [],
   "source": [
    "r = dih.Ramachandran(u.select_atoms('protein')).run()\n",
    "R_angletable = r.angles\n",
    "phis = R_angletable[:,:,0]       # extract phi angles (?)\n",
    "psis = R_angletable[:,:,1]       # extract psi angles (?)\n",
    "delphi = np.diff(phis)      # calculate delta phi array\n",
    "delpsi = np.diff(psis)      # calculate delta psi array"
   ]
  },
  {
   "cell_type": "code",
   "execution_count": null,
   "metadata": {},
   "outputs": [],
   "source": [
    "# scatterplot of these differentials\n",
    "plt.scatter(delphi[:,:],delpsi[:,:],marker='x')"
   ]
  },
  {
   "cell_type": "markdown",
   "metadata": {},
   "source": [
    "Deljanin plot"
   ]
  },
  {
   "cell_type": "code",
   "execution_count": null,
   "metadata": {},
   "outputs": [],
   "source": [
    "# deljanin plot\n",
    "j = dih.Janin(u.select_atoms('protein')).run()\n",
    "J_angletable = j.angles\n",
    "chi1 = J_angletable[:,:,0]       # extract phi angles (?)\n",
    "chi2 = J_angletable[:,:,1]       # extract psi angles (?)\n",
    "delchi1 = np.diff(chi1)      # calculate delta phi array\n",
    "delchi2 = np.diff(chi2)      # calculate delta psi array"
   ]
  },
  {
   "cell_type": "code",
   "execution_count": null,
   "metadata": {},
   "outputs": [],
   "source": [
    "# scatterplot of these differentials\n",
    "plt.scatter(delchi1[:,:],delchi2[:,:],marker='x')"
   ]
  }
 ]
}