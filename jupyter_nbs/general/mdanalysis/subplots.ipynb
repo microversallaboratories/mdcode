{
 "metadata": {
  "language_info": {
   "codemirror_mode": {
    "name": "ipython",
    "version": 3
   },
   "file_extension": ".py",
   "mimetype": "text/x-python",
   "name": "python",
   "nbconvert_exporter": "python",
   "pygments_lexer": "ipython3",
   "version": "3.8.5-final"
  },
  "orig_nbformat": 2,
  "kernelspec": {
   "name": "python_defaultSpec_1598926048133",
   "display_name": "Python 3.8.5 64-bit ('MDAnalysis': conda)"
  }
 },
 "nbformat": 4,
 "nbformat_minor": 2,
 "cells": [
  {
   "cell_type": "markdown",
   "metadata": {},
   "source": [
    "GNM + RMSD vs xtal structure"
   ]
  },
  {
   "cell_type": "code",
   "execution_count": 2,
   "metadata": {},
   "outputs": [],
   "source": [
    "#import \n",
    "import MDAnalysis as mda\n",
    "from MDAnalysis.analysis import gnm\n",
    "from MDAnalysis.analysis import rms\n",
    "import matplotlib.pyplot as plt\n",
    "import numpy as np\n",
    "import pandas as pd\n",
    "\n",
    "%matplotlib inline"
   ]
  },
  {
   "cell_type": "code",
   "execution_count": 3,
   "metadata": {},
   "outputs": [],
   "source": [
    "# prepare universe(s)\n",
    "unis = list()      # create list of universes\n",
    "refs = list()    # create list of reference universes\n",
    "ulabels = ['298K', '490K']                      # universe labels\n",
    "rlabels = ['solv','Acetone','CypA','FAB']       # reference xtal structure labels\n",
    "labells = ['298K','298K','298K','298K','490K','490K','490K','490K']\n",
    "fig_labl = ['Ace_298_SPC_Ace','Ace_298_SPC_Cyp','Ace_298_SPC_FAB','Ace_490_SPC_Ace','Ace_490_SPC_Cyp','Ace_490_SPC_FAB']\n",
    "\n",
    "#'convention=STRUCT_T_SOLV_RMSDvs'\n",
    "\n",
    "# target universes\n",
    "unis.append(mda.Universe(\"md_0_1_298.gro\",\"md_0_1_298.xtc\"))\n",
    "unis.append(mda.Universe(\"md_0_1_490.gro\",\"md_0_1_490.xtc\"))\n",
    "\n",
    "# reference universes for xtal RMSD comparison\n",
    "#refs.append(mda.Universe(\"csa_solv_ions.gro\"))     # define the reference universe\n",
    "refs.append(mda.Universe(\"gro_rmsdstructs/csa_acetone_noh.gro\"))    # def ref unis\n",
    "refs.append(mda.Universe(\"gro_rmsdstructs/csa_cyp_noh.gro\"))    # def ref unis\n",
    "refs.append(mda.Universe(\"gro_rmsdstructs/csa_fab_noh.gro\"))    # def ref unis\n",
    "for r in refs:\n",
    "    r.trajectory[-1] # set to last frame"
   ]
  },
  {
   "cell_type": "code",
   "execution_count": 5,
   "metadata": {},
   "outputs": [],
   "source": [
    "# prepare GNM\n",
    "nma = list()            # \n",
    "eigenvalues = list()    \n",
    "#time = list()\n",
    "nma_cb = list()\n",
    "ev_cb = list()\n",
    "\n",
    "# calpha atoms (backbone)\n",
    "for i in list(range(len(unis))):    # for the number of plots to be made on the same graph,\n",
    "    nma.append(gnm.GNMAnalysis(unis[i], select='name CA', cutoff=7.0))    # create,\n",
    "    nma[i].run()            #  run the analyses\n",
    "    eigenvalues.append([res[1] for res in nma[i].results])      # calculate eigenvalues\n",
    "    #time.append([res[0] for res in nma[i].results])             # calculate times\n",
    "\n",
    "# sidechain atoms\n",
    "for i in list(range(len(unis))):    # for the number of plots to be made on the same graph,\n",
    "    nma_cb.append(gnm.GNMAnalysis(unis[i], select='name CB', cutoff=7.0))    # create,\n",
    "    nma_cb[i].run()            #  run the analyses\n",
    "    ev_cb.append([res[1] for res in nma_cb[i].results])      # calculate eigenvalues\n",
    "    #time.append([res[0] for res in nma[i].results])             # calculate times"
   ]
  },
  {
   "cell_type": "code",
   "execution_count": 6,
   "metadata": {},
   "outputs": [],
   "source": [
    "time = list(range(5001))       # fix time differences (scale by 10)"
   ]
  },
  {
   "cell_type": "code",
   "execution_count": 10,
   "metadata": {
    "tags": []
   },
   "outputs": [
    {
     "output_type": "stream",
     "name": "stdout",
     "text": "Target uni:\t3\nReference uni:\t3\nReference uni:\t3\nReference uni:\t3\n"
    }
   ],
   "source": [
    "#sel = 'not backbone and not type H and resnum 2:' \n",
    "u = mda.Universe(\"md_0_1_490.gro\",\"md_0_1_490.xtc\")\n",
    "sel = 'resnum 1 or resnum 2 or resnum 3 and name CB'\n",
    "print('Target uni:\\t'+str(len(u.select_atoms(sel).positions)))\n",
    "for r in refs:\n",
    "    print('Reference uni:\\t'+str(len(r.select_atoms(sel).positions)))"
   ]
  },
  {
   "cell_type": "code",
   "execution_count": null,
   "metadata": {},
   "outputs": [],
   "source": [
    "# prepare RMSD vs xtal structure\n",
    "bb_rmss = list()\n",
    "bb_rmsds = list()\n",
    "bb_data = list()\n",
    "sc_rmss = list()\n",
    "sc_rmsds = list()\n",
    "sc_data = list()\n",
    "\n",
    "# backbone atoms\n",
    "for u in unis:    # for all universes,\n",
    "    for r in refs:  # for all reference structures,\n",
    "        bb_rmss.append(rms.rmsd(u.select_atoms('backbone').positions, r.select_atoms('backbone').positions, center=True, superposition=True))  # append the rms analysis to the given position in rmss\n",
    "        bb_rmsds.append(rms.RMSD(u, r, select='backbone', ref_frame=0))   # run RMSD analyses\n",
    "for analysis in bb_rmsds:\n",
    "    analysis.run()\n",
    "    bb_data.append(pd.DataFrame(analysis.rmsd, columns=['Frame', 'Time (ps)', 'Backbone']))\n",
    "\n",
    "# sidechain atoms\n",
    "#sel = str(protein)      # normal protein\n",
    "#sel = str()            # using selection algebra\n",
    "sel = 'resnum 1:10 and not type H'            # resnumbers\n",
    "\n",
    "for u in unis:    # for all universes,\n",
    "    for r in refs:  # for all reference structures,\n",
    "        sc_rmss.append(rms.rmsd(u.select_atoms(sel).positions, r.select_atoms(sel).positions, center=True, superposition=True))  # append the rms analysis to the given position in rmss\n",
    "        sc_rmsds.append(rms.RMSD(u, r, select=sel, ref_frame=0))   # run RMSD analyses\n",
    "for analysis in sc_rmsds:\n",
    "    analysis.run()\n",
    "    sc_data.append(pd.DataFrame(analysis.rmsd, columns=['Frame', 'Time (ps)', 'Residue']))"
   ]
  },
  {
   "cell_type": "code",
   "execution_count": null,
   "metadata": {},
   "outputs": [],
   "source": [
    "bb_evs = [eigenvalues[0],eigenvalues[0],eigenvalues[0],eigenvalues[1],eigenvalues[1],eigenvalues[1]]\n",
    "sc_evs = [eigenvalues[0],eigenvalues[0],eigenvalues[0],eigenvalues[1],eigenvalues[1],eigenvalues[1]]"
   ]
  },
  {
   "cell_type": "code",
   "execution_count": null,
   "metadata": {
    "tags": []
   },
   "outputs": [],
   "source": [
    "# prepare individual plots\n",
    "\n",
    "for i in list(range(len(bb_rmss))):\n",
    "    ax = bb_data[i].plot(x='Frame', y=['Backbone'], kind='line', figsize=(100,5), xlim=(-1,5001))\n",
    "    ax = sc_data[i].plot(x='Frame', y=['Backbone'], kind='line', figsize=(100,5), xlim=(-1,5001))\n",
    "    ax.set_ylabel('RMSD ($\\AA$)')\n",
    "    ax.set_xlabel('Time (ps)')\n",
    "    #ax.xticks((1000*np.array(list(range(1,51)))))\n",
    "    #ax.figure.savefig(\"rmsd_vs_acetone.pdf\", bbox_inches=\"tight\")\n",
    "    ax2=ax.twinx()\n",
    "    ax2.plot(time, bb_evs[i], label=labells, color='red')    # fixed for now!!! how do I make this oscillate properly??? make a 2D array of times/eigenvals/labels?\n",
    "    #ax.figure.savefig(\"plt\"+str(i)+\".pdf\", bbox_inches=\"tight\")"
   ]
  },
  {
   "cell_type": "code",
   "execution_count": null,
   "metadata": {},
   "outputs": [],
   "source": [
    "# TODO: \n",
    "# * compare rmsds of starting structures (xtal)\n",
    "# * calculate RMSD of sidechains also?"
   ]
  },
  {
   "cell_type": "code",
   "execution_count": null,
   "metadata": {},
   "outputs": [],
   "source": [
    "dlist = list()\n",
    "\n",
    "for i in bb_data:\n",
    "    dlist.append(i.values.tolist())"
   ]
  },
  {
   "cell_type": "code",
   "execution_count": null,
   "metadata": {
    "tags": []
   },
   "outputs": [],
   "source": [
    "#NECESSARY: parse the dataframes for precisely the data you need! test it out if you aren't sure...\n",
    "\n",
    "#bb_data[1].plot(x='Time (ps)',)\n",
    "\n",
    "# select the time and backbone w/in the dataframe,\n",
    "df_times = bb_data[0]['Time (ps)']\n",
    "df_bbrmsd = bb_data[0]['Backbone']\n",
    "\n",
    "# then convert to lists!\n",
    "t_list = df_times.values.tolist()\n",
    "bbrmsd = df_bbrmsd.values.tolist()"
   ]
  },
  {
   "cell_type": "code",
   "execution_count": null,
   "metadata": {
    "tags": []
   },
   "outputs": [],
   "source": [
    "#pre-process/procure info from df\n",
    "bb_rmsds = list()\n",
    "for i in list(range(len(bb_rmss))):\n",
    "    bb_rmsds.append(bb_data[i]['Backbone'])\n",
    "\n",
    "# prepare large subplot\n",
    "fig, axs = plt.subplots(6,1, sharex=True, sharey=True)\n",
    "for i in list(range(len(axs))):\n",
    "    #axs[i].plot(bb_data[i])\n",
    "    #axs[i].plot(x='Frame', y=['Backbone'], kind='line')\n",
    "    axs[i].plot(t_list, bb_rmsds[i])\n",
    "\n",
    "    axs2=axs[i].twinx()\n",
    "    axs2.plot(t_list, bb_evs[i], label=fig_labl[i], color='red')\n",
    "    #axs.xlim(-1,5001)\n",
    "    axs[i].set_xlim([-1,50001])      # set x limit for figure    \n",
    "    #axs[i].legend(loc=3)\n",
    "    axs[i].set_ylabel('RMSD ($\\AA$)')\n",
    "    axs[i].set_xlabel('Time (ps)')\n",
    "    axs[i].set_title(fig_labl[i], loc='left')       # label with the specified labels (automate later!); move the title to the LHS of the page\n",
    "    #axs[i].xticks(list(range(0,1000,50000)))\n",
    "\n",
    "fig.set_size_inches(100,15)\n",
    "fig.suptitle('Coincidence of RMSD relative to xtal structure (red) with conformational eigenvalue (blue) versus time (ps). convention=STRUCT_T_SOLV_RMSDvs')\n",
    "fig.savefig(\"subplots.pdf\", bbox_inches=\"tight\")"
   ]
  }
 ]
}