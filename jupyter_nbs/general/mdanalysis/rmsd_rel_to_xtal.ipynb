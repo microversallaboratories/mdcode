{
 "metadata": {
  "language_info": {
   "codemirror_mode": {
    "name": "ipython",
    "version": 3
   },
   "file_extension": ".py",
   "mimetype": "text/x-python",
   "name": "python",
   "nbconvert_exporter": "python",
   "pygments_lexer": "ipython3",
   "version": "3.8.5-final"
  },
  "orig_nbformat": 2,
  "kernelspec": {
   "name": "python_defaultSpec_1598507663343",
   "display_name": "Python 3.8.5 64-bit ('MDAnalysis': conda)"
  }
 },
 "nbformat": 4,
 "nbformat_minor": 2,
 "cells": [
  {
   "cell_type": "code",
   "execution_count": null,
   "metadata": {},
   "outputs": [],
   "source": [
    "import MDAnalysis as mda\n",
    "import matplotlib.pyplot as plt\n",
    "import numpy as np\n",
    "import nglview as nv\n",
    "\n",
    "import MDAnalysis.analysis.align as aln"
   ]
  },
  {
   "cell_type": "code",
   "execution_count": null,
   "metadata": {},
   "outputs": [],
   "source": [
    "ref1 = mda.Universe()      # define the reference xtal structure\n",
    "traj1 = mda.Universe(\"md_0_1_298.gro\", \"md_0_1_298.xtc\")     # define the "
   ]
  },
  {
   "cell_type": "code",
   "execution_count": null,
   "metadata": {},
   "outputs": [],
   "source": [
    "ref1.trajectory[-1] # last frame\n",
    "merged = mda.Merge(ref1.atoms, traj1.atoms)\n",
    "nv.show_mdanalysis(merged)"
   ]
  },
  {
   "cell_type": "markdown",
   "metadata": {},
   "source": [
    "example"
   ]
  },
  {
   "cell_type": "code",
   "execution_count": null,
   "metadata": {},
   "outputs": [],
   "source": [
    "import MDAnalysis as mda\n",
    "from MDAnalysis.analysis import rms\n",
    "\n",
    "import pandas as pd\n",
    "# the next line is necessary to display plots in Jupyter\n",
    "%matplotlib inline"
   ]
  },
  {
   "cell_type": "code",
   "execution_count": null,
   "metadata": {},
   "outputs": [],
   "source": [
    "ref = mda.Universe(\"csa_solv_ions.gro\")     # define the \n",
    "u = mda.Universe(\"md_0_1_298.gro\", \"md_0_1_298.xtc\")     # define the \n",
    "ref.trajectory[-1] # last frame"
   ]
  },
  {
   "cell_type": "code",
   "execution_count": null,
   "metadata": {},
   "outputs": [],
   "source": [
    "rms.rmsd(u.select_atoms('backbone').positions,  # coordinates to align\n",
    "         ref.select_atoms('backbone').positions,  # reference coordinates\n",
    "         center=True,  # subtract the center of geometry\n",
    "         superposition=True)  # superimpose coordinates"
   ]
  },
  {
   "cell_type": "code",
   "execution_count": null,
   "metadata": {},
   "outputs": [],
   "source": [
    "R = rms.RMSD(u,  # universe to align\n",
    "             ref,  # reference universe or atomgroup\n",
    "             select='backbone',  # group to superimpose and calculate RMSD\n",
    "             #groupselections=[CORE, LID, NMP],  # groups for RMSD\n",
    "             ref_frame=0)  # frame index of the reference\n",
    "R.run()\n",
    "R.rmsd.shape"
   ]
  },
  {
   "cell_type": "code",
   "execution_count": null,
   "metadata": {},
   "outputs": [],
   "source": [
    "df = pd.DataFrame(R.rmsd, columns=['Frame', 'Time (ns)', 'Backbone'])"
   ]
  },
  {
   "cell_type": "code",
   "execution_count": null,
   "metadata": {},
   "outputs": [],
   "source": [
    "ax = df.plot(x='Frame', y=['Backbone'], kind='line', figsize=(100,5), xlim=(-1,5001))\n",
    "ax.set_ylabel('RMSD ($\\AA$)')"
   ]
  },
  {
   "cell_type": "code",
   "execution_count": null,
   "metadata": {},
   "outputs": [],
   "source": [
    "# Improve by: plotting RMSD relative to multiple structures on the same (x) axis?\n",
    "    # need to extract the protein from the system (gmx trjconv ... -o ... .gro) to allow comparison b/w each of the models wanted for comparison, X  \n",
    "    # then run all three on the same x-axis!\n",
    "    # plot RMSD and eigenvalues calculated on same x axis to see a correlation?\n",
    "    # "
   ]
  },
  {
   "cell_type": "markdown",
   "metadata": {},
   "source": [
    "Expand to three subplots in one plot (for each substructure of CsA)"
   ]
  },
  {
   "cell_type": "code",
   "execution_count": null,
   "metadata": {},
   "outputs": [],
   "source": [
    "# define references\n",
    "ref_aon = mda.Universe(\"gro_rmsdstructs/csa_acetone.gro\")     # define the reference \n",
    "ref_cyp = mda.Universe(\"gro_rmsdstructs/csa_cyp.gro\")\n",
    "ref_fab = mda.Universe(\"gro_rmsdstructs/csa_fab.gro\")\n",
    "\n",
    "# set to last frame (should already be there, same as only frame/structure)\n",
    "ref_aon.trajectory[-1]\n",
    "ref_cyp.trajectory[-1]\n",
    "ref_fab.trajectory[-1]\n",
    "\n",
    "# set trajectory universe for comparison\n",
    "u = mda.Universe(\"csa_298_prot_nosalt.gro\")     # define the "
   ]
  },
  {
   "cell_type": "code",
   "execution_count": null,
   "metadata": {},
   "outputs": [],
   "source": [
    "# calculate rmsd stuff\n",
    "R_aon = rms.RMSD(u, reference=ref_aon, select='backbone', ref_frame=0)\n",
    "R_cyp = rms.RMSD(u, reference=ref_cyp, select='backbone', ref_frame=0)\n",
    "R_fab = rms.RMSD(u, reference=ref_fab, select='backbone', ref_frame=0)\n",
    "\n",
    "# run all analyses\n",
    "R_aon.run()\n",
    "R_cyp.run()\n",
    "R_fab.run()\n",
    "\n",
    "#R.rmsd.shape"
   ]
  },
  {
   "cell_type": "code",
   "execution_count": null,
   "metadata": {},
   "outputs": [],
   "source": [
    "import matplotlib.pyplot as plt\n",
    "#linefig, lineax = plt.subplots()\n",
    "\n",
    "# first subplot\n",
    "df_aon = pd.DataFrame(R_aon.rmsd, columns=['Frame', 'Time (ns)', 'Backbone'])\n",
    "ax1 = df_aon.plot(x='Frame', y=['Backbone'], kind='line', figsize=(100,5), xlim=(-1,5001))\n",
    "\n",
    "# second subplot\n",
    "df_cyp = pd.DataFrame(R_cyp.rmsd, columns=['Frame', 'Time (ns)', 'Backbone'])\n",
    "ax2 = df_cyp.plot(x='Frame', y=['Backbone'], kind='line', figsize=(100,5), xlim=(-1,5001))\n",
    "\n",
    "# third subplot\n",
    "df_fab = pd.DataFrame(R_fab.rmsd, columns=['Frame', 'Time (ns)', 'Backbone'])\n",
    "ax3 = df_fab.plot(x='Frame', y=['Backbone'], kind='line', figsize=(100,5), xlim=(-1,5001))\n",
    "\n",
    "ax1.set_ylabel('RMSD ($\\AA$)')\n",
    "ax2.set_ylabel('RMSD ($\\AA$)')\n",
    "ax3.set_ylabel('RMSD ($\\AA$)')"
   ]
  }
 ]
}