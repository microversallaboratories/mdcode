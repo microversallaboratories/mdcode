{
 "metadata": {
  "language_info": {
   "codemirror_mode": {
    "name": "ipython",
    "version": 3
   },
   "file_extension": ".py",
   "mimetype": "text/x-python",
   "name": "python",
   "nbconvert_exporter": "python",
   "pygments_lexer": "ipython3",
   "version": "3.8.5-final"
  },
  "orig_nbformat": 2,
  "kernelspec": {
   "name": "python_defaultSpec_1600362363798",
   "display_name": "Python 3.8.5 64-bit ('MDAnalysis': conda)"
  }
 },
 "nbformat": 4,
 "nbformat_minor": 2,
 "cells": [
  {
   "cell_type": "code",
   "execution_count": 6,
   "metadata": {},
   "outputs": [],
   "source": [
    "from prody import *\n",
    "import openbabel"
   ]
  },
  {
   "cell_type": "code",
   "execution_count": 2,
   "metadata": {
    "tags": []
   },
   "outputs": [
    {
     "output_type": "stream",
     "name": "stderr",
     "text": "@> Connecting wwPDB FTP server RCSB PDB (USA).\n@> 3l1b downloaded (3l1b.pdb.gz)\n@> PDB download via FTP completed (1 downloaded, 0 failed).\n@> 1833 atoms and 1 coordinate set(s) were parsed in 0.04s.\n@> Blast searching NCBI PDB database for \"SHGEL...\"\n@> Blast search completed in 11.2s.\n"
    }
   ],
   "source": [
    "fxr = parsePDB('3l1b')          # parse PDB for the reference structure\n",
    "\n",
    "seq = fxr['A'].getSequence()    # parse the sequence\n",
    "blast_record = blastPDB(seq)    # search PDB using BLAST for the given sequence"
   ]
  },
  {
   "cell_type": "code",
   "execution_count": 5,
   "metadata": {
    "tags": [
     "outputPrepend"
    ]
   },
   "outputs": [
    {
     "output_type": "stream",
     "name": "stderr",
     "text": "are identified\n@> Trying to match chains based on residue numbers and names:\n@>   Comparing Chain A from 3imy (len=248) and Chain A from 3l1b (len=216):\n@> \tFailed to match chains (seqid=5%, overlap=76%).\n@> Trying to match chains based on global sequence alignment:\n@>  Comparing Chain A from 3imy (len=248) and Chain A from 3l1b (len=216):\n@> \tFailed to match chains (seqid=35%, overlap=83%).\n@> Connecting wwPDB FTP server RCSB PDB (USA).\n@> 3gws downloaded (3gws.pdb.gz)\n@> PDB download via FTP completed (1 downloaded, 0 failed).\n@> 2132 atoms and 1 coordinate set(s) were parsed in 0.04s.\n@> Checking AtomGroup 3gws: 1 chains are identified\n@> Checking AtomGroup 3l1b: 1 chains are identified\n@> Trying to match chains based on residue numbers and names:\n@>   Comparing Chain X from 3gws (len=244) and Chain A from 3l1b (len=216):\n@> \tFailed to match chains (seqid=5%, overlap=76%).\n@> Trying to match chains based on global sequence alignment:\n@>  Comparing Chain X from 3gws (len=244) and Chain A from 3l1b (len=216):\n@> \tFailed to match chains (seqid=35%, overlap=84%).\n@> Connecting wwPDB FTP server RCSB PDB (USA).\n@> 4zo1 downloaded (4zo1.pdb.gz)\n@> PDB download via FTP completed (1 downloaded, 0 failed).\n@> 3244 atoms and 1 coordinate set(s) were parsed in 0.07s.\n@> Checking AtomGroup 4zo1: 3 chains are identified\n@> Checking AtomGroup 3l1b: 1 chains are identified\n@> Trying to match chains based on residue numbers and names:\n@>   Comparing Chain X from 4zo1 (len=242) and Chain A from 3l1b (len=216):\n@> \tFailed to match chains (seqid=5%, overlap=79%).\n@>   Comparing Chain A from 4zo1 (len=8) and Chain A from 3l1b (len=216):\n@> \tFailed to match chains (seqid=0%, overlap=0%).\n@>   Comparing Chain B from 4zo1 (len=199) and Chain A from 3l1b (len=216):\n@> \tFailed to match chains (seqid=6%, overlap=81%).\n@> Trying to match chains based on global sequence alignment:\n@>  Comparing Chain X from 4zo1 (len=242) and Chain A from 3l1b (len=216):\n@> \tFailed to match chains (seqid=34%, overlap=86%).\n@>  Comparing Chain A from 4zo1 (len=8) and Chain A from 3l1b (len=216):\n@> \tFailed to match chains (seqid=88%, overlap=4%).\n@>  Comparing Chain B from 4zo1 (len=199) and Chain A from 3l1b (len=216):\n@> \tFailed to match chains (seqid=33%, overlap=87%).\n@> Connecting wwPDB FTP server RCSB PDB (USA).\n@> 6kkb downloaded (6kkb.pdb.gz)\n@> PDB download via FTP completed (1 downloaded, 0 failed).\n@> 2374 atoms and 1 coordinate set(s) were parsed in 0.05s.\n@> Checking AtomGroup 6kkb: 2 chains are identified\n@> Checking AtomGroup 3l1b: 1 chains are identified\n@> Trying to match chains based on residue numbers and names:\n@>   Comparing Chain X from 6kkb (len=243) and Chain A from 3l1b (len=216):\n@> \tFailed to match chains (seqid=5%, overlap=80%).\n@>   Comparing Chain D from 6kkb (len=11) and Chain A from 3l1b (len=216):\n@> \tFailed to match chains (seqid=0%, overlap=0%).\n@> Trying to match chains based on global sequence alignment:\n@>  Comparing Chain X from 6kkb (len=243) and Chain A from 3l1b (len=216):\n@> \tFailed to match chains (seqid=34%, overlap=86%).\n@>  Comparing Chain D from 6kkb (len=11) and Chain A from 3l1b (len=216):\n@> \tFailed to match chains (seqid=100%, overlap=5%).\n@> Connecting wwPDB FTP server RCSB PDB (USA).\n@> 6knv downloaded (6knv.pdb.gz)\n@> PDB download via FTP completed (1 downloaded, 0 failed).\n@> 2043 atoms and 1 coordinate set(s) were parsed in 0.07s.\n@> Checking AtomGroup 6knv: 2 chains are identified\n@> Checking AtomGroup 3l1b: 1 chains are identified\n@> Trying to match chains based on residue numbers and names:\n@>   Comparing Chain A from 6knv (len=235) and Chain A from 3l1b (len=216):\n@> \tFailed to match chains (seqid=5%, overlap=79%).\n@>   Comparing Chain C from 6knv (len=11) and Chain A from 3l1b (len=216):\n@> \tFailed to match chains (seqid=0%, overlap=0%).\n@> Trying to match chains based on global sequence alignment:\n@>  Comparing Chain A from 6knv (len=235) and Chain A from 3l1b (len=216):\n@> \tFailed to match chains (seqid=34%, overlap=86%).\n@>  Comparing Chain C from 6knv (len=11) and Chain A from 3l1b (len=216):\n@> \tFailed to match chains (seqid=100%, overlap=5%).\n@> Connecting wwPDB FTP server RCSB PDB (USA).\n@> 6knu downloaded (6knu.pdb.gz)\n@> PDB download via FTP completed (1 downloaded, 0 failed).\n@> 2086 atoms and 1 coordinate set(s) were parsed in 0.04s.\n@> Checking AtomGroup 6knu: 2 chains are identified\n@> Checking AtomGroup 3l1b: 1 chains are identified\n@> Trying to match chains based on residue numbers and names:\n@>   Comparing Chain A from 6knu (len=242) and Chain A from 3l1b (len=216):\n@> \tFailed to match chains (seqid=5%, overlap=80%).\n@>   Comparing Chain C from 6knu (len=9) and Chain A from 3l1b (len=216):\n@> \tFailed to match chains (seqid=0%, overlap=0%).\n@> Trying to match chains based on global sequence alignment:\n@>  Comparing Chain A from 6knu (len=242) and Chain A from 3l1b (len=216):\n@> \tFailed to match chains (seqid=34%, overlap=86%).\n@>  Comparing Chain C from 6knu (len=9) and Chain A from 3l1b (len=216):\n@> \tFailed to match chains (seqid=100%, overlap=4%).\n@> Connecting wwPDB FTP server RCSB PDB (USA).\n@> 1q4x downloaded (1q4x.pdb.gz)\n@> PDB download via FTP completed (1 downloaded, 0 failed).\n@> 1988 atoms and 1 coordinate set(s) were parsed in 0.04s.\n@> Checking AtomGroup 1q4x: 1 chains are identified\n@> Checking AtomGroup 3l1b: 1 chains are identified\n@> Trying to match chains based on residue numbers and names:\n@>   Comparing Chain A from 1q4x (len=239) and Chain A from 3l1b (len=216):\n@> \tFailed to match chains (seqid=4%, overlap=79%).\n@> Trying to match chains based on global sequence alignment:\n@>  Comparing Chain A from 1q4x (len=239) and Chain A from 3l1b (len=216):\n@> \tFailed to match chains (seqid=34%, overlap=87%).\n@> Connecting wwPDB FTP server RCSB PDB (USA).\n@> 1n46 downloaded (1n46.pdb.gz)\n@> PDB download via FTP completed (1 downloaded, 0 failed).\n@> 4040 atoms and 1 coordinate set(s) were parsed in 0.05s.\n@> Checking AtomGroup 1n46: 2 chains are identified\n@> Checking AtomGroup 3l1b: 1 chains are identified\n@> Trying to match chains based on residue numbers and names:\n@>   Comparing Chain A from 1n46 (len=248) and Chain A from 3l1b (len=216):\n@> \tFailed to match chains (seqid=5%, overlap=81%).\n@>   Comparing Chain B from 1n46 (len=239) and Chain A from 3l1b (len=216):\n@> \tFailed to match chains (seqid=5%, overlap=81%).\n@> Trying to match chains based on global sequence alignment:\n@>  Comparing Chain A from 1n46 (len=248) and Chain A from 3l1b (len=216):\n@> \tFailed to match chains (seqid=34%, overlap=84%).\n@>  Comparing Chain B from 1n46 (len=239) and Chain A from 3l1b (len=216):\n@> \tFailed to match chains (seqid=33%, overlap=87%).\n@> Connecting wwPDB FTP server RCSB PDB (USA).\n@> 1nax downloaded (1nax.pdb.gz)\n@> PDB download via FTP completed (1 downloaded, 0 failed).\n@> 2037 atoms and 1 coordinate set(s) were parsed in 0.03s.\n@> Checking AtomGroup 1nax: 1 chains are identified\n@> Checking AtomGroup 3l1b: 1 chains are identified\n@> Trying to match chains based on residue numbers and names:\n@>   Comparing Chain A from 1nax (len=250) and Chain A from 3l1b (len=216):\n@> \tFailed to match chains (seqid=5%, overlap=80%).\n@> Trying to match chains based on global sequence alignment:\n@>  Comparing Chain A from 1nax (len=250) and Chain A from 3l1b (len=216):\n@> \tFailed to match chains (seqid=34%, overlap=83%).\n@> Connecting wwPDB FTP server RCSB PDB (USA).\n@> 2pin downloaded (2pin.pdb.gz)\n@> PDB download via FTP completed (1 downloaded, 0 failed).\n@> 4326 atoms and 1 coordinate set(s) were parsed in 0.06s.\n@> Checking AtomGroup 2pin: 2 chains are identified\n@> Checking AtomGroup 3l1b: 1 chains are identified\n@> Trying to match chains based on residue numbers and names:\n@>   Comparing Chain A from 2pin (len=245) and Chain A from 3l1b (len=216):\n@> \tFailed to match chains (seqid=5%, overlap=80%).\n@>   Comparing Chain B from 2pin (len=250) and Chain A from 3l1b (len=216):\n@> \tFailed to match chains (seqid=5%, overlap=80%).\n@> Trying to match chains based on global sequence alignment:\n@>  Comparing Chain A from 2pin (len=245) and Chain A from 3l1b (len=216):\n@> \tFailed to match chains (seqid=34%, overlap=85%).\n@>  Comparing Chain B from 2pin (len=250) and Chain A from 3l1b (len=216):\n@> \tFailed to match chains (seqid=34%, overlap=83%).\n@> Connecting wwPDB FTP server RCSB PDB (USA).\n@> 1r6g downloaded (1r6g.pdb.gz)\n@> PDB download via FTP completed (1 downloaded, 0 failed).\n@> 1918 atoms and 1 coordinate set(s) were parsed in 0.03s.\n@> Checking AtomGroup 1r6g: 1 chains are identified\n@> Checking AtomGroup 3l1b: 1 chains are identified\n@> Trying to match chains based on residue numbers and names:\n@>   Comparing Chain A from 1r6g (len=239) and Chain A from 3l1b (len=216):\n@> \tFailed to match chains (seqid=5%, overlap=79%).\n@> Trying to match chains based on global sequence alignment:\n@>  Comparing Chain A from 1r6g (len=239) and Chain A from 3l1b (len=216):\n@> \tFailed to match chains (seqid=34%, overlap=87%).\n@> Connecting wwPDB FTP server RCSB PDB (USA).\n@> 1bsx downloaded (1bsx.pdb.gz)\n@> PDB download via FTP completed (1 downloaded, 0 failed).\n@> 4040 atoms and 1 coordinate set(s) were parsed in 0.06s.\n@> Checking AtomGroup 1bsx: 4 chains are identified\n@> Checking AtomGroup 3l1b: 1 chains are identified\n@> Trying to match chains based on residue numbers and names:\n@>   Comparing Chain A from 1bsx (len=243) and Chain A from 3l1b (len=216):\n@> \tFailed to match chains (seqid=5%, overlap=80%).\n@>   Comparing Chain X from 1bsx (len=12) and Chain A from 3l1b (len=216):\n@> \tFailed to match chains (seqid=0%, overlap=0%).\n@>   Comparing Chain B from 1bsx (len=243) and Chain A from 3l1b (len=216):\n@> \tFailed to match chains (seqid=5%, overlap=80%).\n@>   Comparing Chain Y from 1bsx (len=12) and Chain A from 3l1b (len=216):\n@> \tFailed to match chains (seqid=0%, overlap=0%).\n@> Trying to match chains based on global sequence alignment:\n@>  Comparing Chain A from 1bsx (len=243) and Chain A from 3l1b (len=216):\n@> \tFailed to match chains (seqid=34%, overlap=86%).\n@>  Comparing Chain X from 1bsx (len=12) and Chain A from 3l1b (len=216):\n@> \tFailed to match chains (seqid=75%, overlap=6%).\n@>  Comparing Chain B from 1bsx (len=243) and Chain A from 3l1b (len=216):\n@> \tFailed to match chains (seqid=34%, overlap=86%).\n@>  Comparing Chain Y from 1bsx (len=12) and Chain A from 3l1b (len=216):\n@> \tFailed to match chains (seqid=75%, overlap=6%).\n@> Connecting wwPDB FTP server RCSB PDB (USA).\n@> 1nq1 downloaded (1nq1.pdb.gz)\n@> PDB download via FTP completed (1 downloaded, 0 failed).\n@> 1972 atoms and 1 coordinate set(s) were parsed in 0.03s.\n@> Checking AtomGroup 1nq1: 1 chains are identified\n@> Checking AtomGroup 3l1b: 1 chains are identified\n@> Trying to match chains based on residue numbers and names:\n@>   Comparing Chain A from 1nq1 (len=253) and Chain A from 3l1b (len=216):\n@> \tFailed to match chains (seqid=4%, overlap=76%).\n@> Trying to match chains based on global sequence alignment:\n@>  Comparing Chain A from 1nq1 (len=253) and Chain A from 3l1b (len=216):\n@> \tFailed to match chains (seqid=35%, overlap=83%).\n@> Connecting wwPDB FTP server RCSB PDB (USA).\n@> 1nq0 downloaded (1nq0.pdb.gz)\n@> PDB download via FTP completed (1 downloaded, 0 failed).\n@> 2095 atoms and 1 coordinate set(s) were parsed in 0.04s.\n@> Checking AtomGroup 1nq0: 1 chains are identified\n@> Checking AtomGroup 3l1b: 1 chains are identified\n@> Trying to match chains based on residue numbers and names:\n@>   Comparing Chain A from 1nq0 (len=253) and Chain A from 3l1b (len=216):\n@> \tFailed to match chains (seqid=5%, overlap=76%).\n@> Trying to match chains based on global sequence alignment:\n@>  Comparing Chain A from 1nq0 (len=253) and Chain A from 3l1b (len=216):\n@> \tFailed to match chains (seqid=35%, overlap=83%).\n@> Connecting wwPDB FTP server RCSB PDB (USA).\n@> 3d57 downloaded (3d57.pdb.gz)\n@> PDB download via FTP completed (1 downloaded, 0 failed).\n@> 4069 atoms and 1 coordinate set(s) were parsed in 0.05s.\n@> Checking AtomGroup 3d57: 2 chains are identified\n@> Checking AtomGroup 3l1b: 1 chains are identified\n@> Trying to match chains based on residue numbers and names:\n@>   Comparing Chain A from 3d57 (len=245) and Chain A from 3l1b (len=216):\n@> \tFailed to match chains (seqid=5%, overlap=80%).\n@>   Comparing Chain B from 3d57 (len=248) and Chain A from 3l1b (len=216):\n@> \tFailed to match chains (seqid=5%, overlap=80%).\n@> Trying to match chains based on global sequence alignment:\n@>  Comparing Chain A from 3d57 (len=245) and Chain A from 3l1b (len=216):\n@> \tFailed to match chains (seqid=34%, overlap=85%).\n@>  Comparing Chain B from 3d57 (len=248) and Chain A from 3l1b (len=216):\n@> \tFailed to match chains (seqid=34%, overlap=84%).\n@> Connecting wwPDB FTP server RCSB PDB (USA).\n@> 6knw downloaded (6knw.pdb.gz)\n@> PDB download via FTP completed (1 downloaded, 0 failed).\n@> 2083 atoms and 1 coordinate set(s) were parsed in 0.04s.\n@> Checking AtomGroup 6knw: 2 chains are identified\n@> Checking AtomGroup 3l1b: 1 chains are identified\n@> Trying to match chains based on residue numbers and names:\n@>   Comparing Chain A from 6knw (len=243) and Chain A from 3l1b (len=216):\n@> \tFailed to match chains (seqid=5%, overlap=80%).\n@>   Comparing Chain C from 6knw (len=10) and Chain A from 3l1b (len=216):\n@> \tFailed to match chains (seqid=0%, overlap=0%).\n@> Trying to match chains based on global sequence alignment:\n@>  Comparing Chain A from 6knw (len=243) and Chain A from 3l1b (len=216):\n@> \tFailed to match chains (seqid=34%, overlap=86%).\n@>  Comparing Chain C from 6knw (len=10) and Chain A from 3l1b (len=216):\n@> \tFailed to match chains (seqid=100%, overlap=5%).\n@> Connecting wwPDB FTP server RCSB PDB (USA).\n@> 1xzx downloaded (1xzx.pdb.gz)\n@> PDB download via FTP completed (1 downloaded, 0 failed).\n@> 2011 atoms and 1 coordinate set(s) were parsed in 0.03s.\n@> Checking AtomGroup 1xzx: 1 chains are identified\n@> Checking AtomGroup 3l1b: 1 chains are identified\n@> Trying to match chains based on residue numbers and names:\n@>   Comparing Chain X from 1xzx (len=249) and Chain A from 3l1b (len=216):\n@> \tFailed to match chains (seqid=5%, overlap=76%).\n@> Trying to match chains based on global sequence alignment:\n@>  Comparing Chain X from 1xzx (len=249) and Chain A from 3l1b (len=216):\n@> \tFailed to match chains (seqid=35%, overlap=84%).\n@> Connecting wwPDB FTP server RCSB PDB (USA).\n@> 1nq2 downloaded (1nq2.pdb.gz)\n@> PDB download via FTP completed (1 downloaded, 0 failed).\n@> 2184 atoms and 1 coordinate set(s) were parsed in 0.04s.\n@> Checking AtomGroup 1nq2: 1 chains are identified\n@> Checking AtomGroup 3l1b: 1 chains are identified\n@> Trying to match chains based on residue numbers and names:\n@>   Comparing Chain A from 1nq2 (len=255) and Chain A from 3l1b (len=216):\n@> \tFailed to match chains (seqid=5%, overlap=76%).\n@> Trying to match chains based on global sequence alignment:\n@>  Comparing Chain A from 1nq2 (len=255) and Chain A from 3l1b (len=216):\n@> \tFailed to match chains (seqid=35%, overlap=82%).\n@> Connecting wwPDB FTP server RCSB PDB (USA).\n@> 1k4w downloaded (1k4w.pdb.gz)\n@> PDB download via FTP completed (1 downloaded, 0 failed).\n@> 2223 atoms and 1 coordinate set(s) were parsed in 0.03s.\n@> Checking AtomGroup 1k4w: 2 chains are identified\n@> Checking AtomGroup 3l1b: 1 chains are identified\n@> Trying to match chains based on residue numbers and names:\n@>   Comparing Chain A from 1k4w (len=244) and Chain A from 3l1b (len=216):\n@> \tFailed to match chains (seqid=5%, overlap=79%).\n@>   Comparing Chain B from 1k4w (len=10) and Chain A from 3l1b (len=216):\n@> \tFailed to match chains (seqid=0%, overlap=0%).\n@> Trying to match chains based on global sequence alignment:\n@>  Comparing Chain A from 1k4w (len=244) and Chain A from 3l1b (len=216):\n@> \tFailed to match chains (seqid=32%, overlap=84%).\n@>  Comparing Chain B from 1k4w (len=10) and Chain A from 3l1b (len=216):\n@> \tFailed to match chains (seqid=80%, overlap=5%).\n@> Connecting wwPDB FTP server RCSB PDB (USA).\n@> 1nq7 downloaded (1nq7.pdb.gz)\n@> PDB download via FTP completed (1 downloaded, 0 failed).\n@> 2464 atoms and 1 coordinate set(s) were parsed in 0.03s.\n@> Checking AtomGroup 1nq7: 2 chains are identified\n@> Checking AtomGroup 3l1b: 1 chains are identified\n@> Trying to match chains based on residue numbers and names:\n@>   Comparing Chain A from 1nq7 (len=244) and Chain A from 3l1b (len=216):\n@> \tFailed to match chains (seqid=5%, overlap=79%).\n@>   Comparing Chain B from 1nq7 (len=10) and Chain A from 3l1b (len=216):\n@> \tFailed to match chains (seqid=0%, overlap=0%).\n@> Trying to match chains based on global sequence alignment:\n@>  Comparing Chain A from 1nq7 (len=244) and Chain A from 3l1b (len=216):\n@> \tFailed to match chains (seqid=32%, overlap=84%).\n@>  Comparing Chain B from 1nq7 (len=10) and Chain A from 3l1b (len=216):\n@> \tFailed to match chains (seqid=80%, overlap=5%).\n@> Connecting wwPDB FTP server RCSB PDB (USA).\n@> 1n4h downloaded (1n4h.pdb.gz)\n@> PDB download via FTP completed (1 downloaded, 0 failed).\n@> 2201 atoms and 1 coordinate set(s) were parsed in 0.05s.\n@> Checking AtomGroup 1n4h: 2 chains are identified\n@> Checking AtomGroup 3l1b: 1 chains are identified\n@> Trying to match chains based on residue numbers and names:\n@>   Comparing Chain A from 1n4h (len=244) and Chain A from 3l1b (len=216):\n@> \tFailed to match chains (seqid=0%, overlap=0%).\n@>   Comparing Chain B from 1n4h (len=10) and Chain A from 3l1b (len=216):\n@> \tFailed to match chains (seqid=0%, overlap=0%).\n@> Trying to match chains based on global sequence alignment:\n@>  Comparing Chain A from 1n4h (len=244) and Chain A from 3l1b (len=216):\n@> \tFailed to match chains (seqid=32%, overlap=84%).\n@>  Comparing Chain B from 1n4h (len=10) and Chain A from 3l1b (len=216):\n@> \tFailed to match chains (seqid=80%, overlap=5%).\n@> Connecting wwPDB FTP server RCSB PDB (USA).\n@> 4s15 downloaded (4s15.pdb.gz)\n@> PDB download via FTP completed (1 downloaded, 0 failed).\n@> 4581 atoms and 1 coordinate set(s) were parsed in 0.08s.\n@> Checking AtomGroup 4s15: 4 chains are identified\n@> Checking AtomGroup 3l1b: 1 chains are identified\n@> Trying to match chains based on residue numbers and names:\n@>   Comparing Chain A from 4s15 (len=244) and Chain A from 3l1b (len=216):\n@> \tFailed to match chains (seqid=5%, overlap=79%).\n@>   Comparing Chain C from 4s15 (len=9) and Chain A from 3l1b (len=216):\n@> \tFailed to match chains (seqid=0%, overlap=0%).\n@>   Comparing Chain B from 4s15 (len=250) and Chain A from 3l1b (len=216):\n@> \tFailed to match chains (seqid=5%, overlap=77%).\n@>   Comparing Chain D from 4s15 (len=9) and Chain A from 3l1b (len=216):\n@> \tFailed to match chains (seqid=0%, overlap=0%).\n@> Trying to match chains based on global sequence alignment:\n@>  Comparing Chain A from 4s15 (len=244) and Chain A from 3l1b (len=216):\n@> \tFailed to match chains (seqid=35%, overlap=86%).\n@>  Comparing Chain C from 4s15 (len=9) and Chain A from 3l1b (len=216):\n@> \tFailed to match chains (seqid=100%, overlap=4%).\n@>  Comparing Chain B from 4s15 (len=250) and Chain A from 3l1b (len=216):\n@> \tFailed to match chains (seqid=35%, overlap=84%).\n@>  Comparing Chain D from 4s15 (len=9) and Chain A from 3l1b (len=216):\n@> \tFailed to match chains (seqid=100%, overlap=4%).\n@> Connecting wwPDB FTP server RCSB PDB (USA).\n@> 1n83 downloaded (1n83.pdb.gz)\n@> PDB download via FTP completed (1 downloaded, 0 failed).\n@> 2513 atoms and 1 coordinate set(s) were parsed in 0.04s.\n@> Checking AtomGroup 1n83: 1 chains are identified\n@> Checking AtomGroup 3l1b: 1 chains are identified\n@> Trying to match chains based on residue numbers and names:\n@>   Comparing Chain A from 1n83 (len=251) and Chain A from 3l1b (len=216):\n@> \tFailed to match chains (seqid=5%, overlap=80%).\n@> Trying to match chains based on global sequence alignment:\n@>  Comparing Chain A from 1n83 (len=251) and Chain A from 3l1b (len=216):\n@> \tFailed to match chains (seqid=34%, overlap=83%).\n"
    }
   ],
   "source": [
    "import pickle\n",
    "#pickle.dump(blast_record, open('fxr_blast_record.pkl', 'w'))\n",
    "#blast_record = pickle.load(open('fxr_blast_record.pkl'))\n",
    "\n",
    "for pdb_id in blast_record.getHits():\n",
    "    try:\n",
    "        pdb = parsePDB(pdb_id)\n",
    "        pdb = matchAlign(pdb, fxr)[0]\n",
    "    except:\n",
    "        continue\n",
    "    else:\n",
    "        ligand = pdb.select('not protein and not water')\n",
    "        repr(ligand)\n",
    "        if ligand:\n",
    "            writePDB(pdb_id + '_ligand.pdb', ligand)"
   ]
  },
  {
   "cell_type": "code",
   "execution_count": null,
   "metadata": {},
   "outputs": [],
   "source": [
    "# remove multiple ligands, if the files have multiple ligands in them.\n",
    "\n"
   ]
  },
  {
   "cell_type": "code",
   "execution_count": null,
   "metadata": {},
   "outputs": [],
   "source": [
    "# convert ligands to a different representation for learning\n",
    "\n",
    "# SMILES representation\n",
    "\n",
    "openbabel.openbabel.\n",
    "# "
   ]
  },
  {
   "cell_type": "code",
   "execution_count": 1,
   "metadata": {},
   "outputs": [
    {
     "output_type": "display_data",
     "data": {
      "text/plain": "",
      "application/vnd.jupyter.widget-view+json": {
       "version_major": 2,
       "version_minor": 0,
       "model_id": "d8da57c34adc42a4bada39d873cd9639"
      }
     },
     "metadata": {}
    }
   ],
   "source": [
    "import nglview"
   ]
  },
  {
   "cell_type": "code",
   "execution_count": 13,
   "metadata": {},
   "outputs": [
    {
     "output_type": "display_data",
     "data": {
      "text/plain": "NGLWidget()",
      "application/vnd.jupyter.widget-view+json": {
       "version_major": 2,
       "version_minor": 0,
       "model_id": "eb333f9b3ec6444fa6ea85ed078ab574"
      }
     },
     "metadata": {}
    }
   ],
   "source": [
    "#view = nglview.show_pdbid(\"3pqr\")  # load \"3pqr\" from RCSB PDB and display viewer widget\n",
    "view = nglview.show_file(\"ligands/4wvd_ligand.pdb\")\n",
    "view"
   ]
  },
  {
   "cell_type": "code",
   "execution_count": null,
   "metadata": {},
   "outputs": [],
   "source": []
  }
 ]
}