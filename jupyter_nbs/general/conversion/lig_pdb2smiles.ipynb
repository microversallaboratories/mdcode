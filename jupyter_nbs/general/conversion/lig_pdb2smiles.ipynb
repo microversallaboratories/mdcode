{
 "metadata": {
  "language_info": {
   "codemirror_mode": {
    "name": "ipython",
    "version": 3
   },
   "file_extension": ".py",
   "mimetype": "text/x-python",
   "name": "python",
   "nbconvert_exporter": "python",
   "pygments_lexer": "ipython3",
   "version": "3.8.5-final"
  },
  "orig_nbformat": 2,
  "kernelspec": {
   "name": "python_defaultSpec_1600362363863",
   "display_name": "Python 3.8.5 64-bit ('MDAnalysis': conda)"
  }
 },
 "nbformat": 4,
 "nbformat_minor": 2,
 "cells": [
  {
   "cell_type": "code",
   "execution_count": null,
   "metadata": {},
   "outputs": [],
   "source": []
  },
  {
   "cell_type": "code",
   "execution_count": null,
   "metadata": {},
   "outputs": [],
   "source": [
    "from Bio.PDB.PDBParser import PDBParser\n",
    "parser = PDBParser()\n",
    "structure = parser.get_structure(\"test\", \"1osv_ligand_backup.pdb\")\n",
    "model = structure[0]\n",
    "chain = model[\"A\"]"
   ]
  },
  {
   "cell_type": "code",
   "execution_count": null,
   "metadata": {
    "tags": []
   },
   "outputs": [],
   "source": [
    "for chain in model:\n",
    "    print(chain)"
   ]
  },
  {
   "cell_type": "code",
   "execution_count": null,
   "metadata": {},
   "outputs": [],
   "source": [
    "from Bio.PDB import PDBParser, PDBIO\n",
    "\n",
    "io = PDBIO()\n",
    "pdb = PDBParser().get_structure(\"test\", \"1osv_ligand_backup.pdb\")\n",
    "\n"
   ]
  },
  {
   "cell_type": "code",
   "execution_count": null,
   "metadata": {},
   "outputs": [],
   "source": [
    "import os\n",
    "\n",
    "io = PDBIO()\n",
    "end = \"_ligand.pdb\"\n",
    "directory = \"./ligands/\"\n",
    "\n",
    "for filename in os.listdir(directory):\n",
    "    if filename.endswith(end): # IF the file ends with the generic ending,\n",
    "        fileid = filename           # duplicate the fileid for a shortened title\n",
    "        fileid = fileid.replace(end,'')      # remove the end\n",
    "        pdb = PDBParser().get_structure(fileid, directory+filename)       # get the structure\n",
    "        ress = model.get_residues()\n",
    "        for chain in pdb.get_chains():\n",
    "            for res in chain.get_residues():                  # for each chain in the structure,\n",
    "                io.set_structure(residue)                     # set the structure to the chain\n",
    "                #io.save(pdb.get_id() + \"_\" + chain.get_id() + \".pdb\")   # save the chain to a new PDB file\n",
    "                io.save(fileid + \"_\" + chain.get_id() + \".pdb\")   # save the chain to a new PDB file\n",
    "\n"
   ]
  },
  {
   "cell_type": "code",
   "execution_count": null,
   "metadata": {},
   "outputs": [],
   "source": [
    "ligs = structure[:][:][:]"
   ]
  },
  {
   "cell_type": "code",
   "execution_count": null,
   "metadata": {},
   "outputs": [],
   "source": [
    "import os\n",
    "\n",
    "io = PDBIO()\n",
    "end = \"_ligand.pdb\"\n",
    "directory = \"./ligands/\"\n",
    "\n",
    "for filename in os.listdir(directory):\n",
    "    if filename.endswith(end): # IF the file ends with the generic ending,\n",
    "        fileid = filename           # duplicate the fileid for a shortened title\n",
    "        fileid = fileid.replace(end,'')      # remove the end\n",
    "        pdb = PDBParser().get_structure(fileid, directory+filename)       # get the structure\n",
    "        ress = model.get_residues()\n",
    "        for res in ress:\n",
    "            io.set_structure(res)                     # set the structure to the chain\n",
    "            io.save(fileid + \"_\" + chain.get_id() + \".pdb\")   # save the chain to a new PDB file\n"
   ]
  },
  {
   "cell_type": "code",
   "execution_count": null,
   "metadata": {},
   "outputs": [],
   "source": [
    "from Bio.PDB import PDBParser\n",
    "from Bio.PDB.PDBIO import PDBIO\n",
    "import os\n",
    "\n",
    "\n",
    "parser = PDBParser()\n",
    "structure = parser.get_structure(\"1a8o\", \"ligands/1osv_ligand.pdb\")\n",
    "io=PDBIO()\n",
    "for i in structure.get_residues():\n",
    "    io.set_structure(i)\n",
    "    io.save(str(i)+\".pdb\")\n",
    "    #os.remove(\"bio-pdb-pdbio-out.pdb\")  # tidy up"
   ]
  },
  {
   "cell_type": "code",
   "execution_count": null,
   "metadata": {},
   "outputs": [],
   "source": [
    "class LigSelect(PDBIO.Select):\n",
    "    def ret_ligname(self, residue):\n",
    "        if not is_aa(residue):\n",
    "            return residue\n",
    "        else:\n",
    "            return"
   ]
  }
 ]
}