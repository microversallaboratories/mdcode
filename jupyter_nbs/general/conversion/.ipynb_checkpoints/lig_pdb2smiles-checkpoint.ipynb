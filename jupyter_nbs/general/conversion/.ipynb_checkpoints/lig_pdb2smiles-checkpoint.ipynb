{
 "cells": [
  {
   "cell_type": "code",
   "execution_count": null,
   "metadata": {},
   "outputs": [],
   "source": []
  },
  {
   "cell_type": "code",
   "execution_count": null,
   "metadata": {},
   "outputs": [],
   "source": [
    "from Bio.PDB.PDBParser import PDBParser\n",
    "parser = PDBParser()\n",
    "structure = parser.get_structure(\"test\", \"1osv_ligand_backup.pdb\")\n",
    "model = structure[0]\n",
    "chain = model[\"A\"]"
   ]
  },
  {
   "cell_type": "code",
   "execution_count": null,
   "metadata": {
    "tags": []
   },
   "outputs": [],
   "source": [
    "for chain in model:\n",
    "    print(chain)"
   ]
  },
  {
   "cell_type": "code",
   "execution_count": null,
   "metadata": {},
   "outputs": [],
   "source": [
    "from Bio.PDB import PDBParser, PDBIO\n",
    "\n",
    "io = PDBIO()\n",
    "pdb = PDBParser().get_structure(\"test\", \"1osv_ligand_backup.pdb\")\n",
    "\n"
   ]
  },
  {
   "cell_type": "code",
   "execution_count": null,
   "metadata": {},
   "outputs": [],
   "source": [
    "import os\n",
    "\n",
    "io = PDBIO()\n",
    "end = \"_ligand.pdb\"\n",
    "directory = \"./ligands/\"\n",
    "\n",
    "for filename in os.listdir(directory):\n",
    "    if filename.endswith(end): # IF the file ends with the generic ending,\n",
    "        fileid = filename           # duplicate the fileid for a shortened title\n",
    "        fileid = fileid.replace(end,'')      # remove the end\n",
    "        pdb = PDBParser().get_structure(fileid, directory+filename)       # get the structure\n",
    "        ress = model.get_residues()\n",
    "        for chain in pdb.get_chains():\n",
    "            for res in chain.get_residues():                  # for each chain in the structure,\n",
    "                io.set_structure(residue)                     # set the structure to the chain\n",
    "                #io.save(pdb.get_id() + \"_\" + chain.get_id() + \".pdb\")   # save the chain to a new PDB file\n",
    "                io.save(fileid + \"_\" + chain.get_id() + \".pdb\")   # save the chain to a new PDB file\n",
    "\n"
   ]
  },
  {
   "cell_type": "code",
   "execution_count": null,
   "metadata": {},
   "outputs": [],
   "source": [
    "ligs = structure[:][:][:]"
   ]
  },
  {
   "cell_type": "code",
   "execution_count": null,
   "metadata": {},
   "outputs": [],
   "source": [
    "import os\n",
    "\n",
    "io = PDBIO()\n",
    "end = \"_ligand.pdb\"\n",
    "directory = \"./ligands/\"\n",
    "\n",
    "for filename in os.listdir(directory):\n",
    "    if filename.endswith(end): # IF the file ends with the generic ending,\n",
    "        fileid = filename           # duplicate the fileid for a shortened title\n",
    "        fileid = fileid.replace(end,'')      # remove the end\n",
    "        pdb = PDBParser().get_structure(fileid, directory+filename)       # get the structure\n",
    "        ress = model.get_residues()\n",
    "        for res in ress:\n",
    "            io.set_structure(res)                     # set the structure to the chain\n",
    "            io.save(fileid + \"_\" + chain.get_id() + \".pdb\")   # save the chain to a new PDB file\n"
   ]
  },
  {
   "cell_type": "code",
   "execution_count": null,
   "metadata": {},
   "outputs": [],
   "source": [
    "from Bio.PDB import PDBParser\n",
    "from Bio.PDB.PDBIO import PDBIO\n",
    "import os\n",
    "\n",
    "\n",
    "parser = PDBParser()\n",
    "structure = parser.get_structure(\"1a8o\", \"ligands/1osv_ligand.pdb\")\n",
    "io=PDBIO()\n",
    "for i in structure.get_residues():\n",
    "    io.set_structure(i)\n",
    "    io.save(str(i)+\".pdb\")\n",
    "    #os.remove(\"bio-pdb-pdbio-out.pdb\")  # tidy up"
   ]
  },
  {
   "cell_type": "code",
   "execution_count": null,
   "metadata": {},
   "outputs": [],
   "source": [
    "class LigSelect(PDBIO.Select):\n",
    "    def ret_ligname(self, residue):\n",
    "        if not is_aa(residue):\n",
    "            return residue\n",
    "        else:\n",
    "            return"
   ]
  },
  {
   "cell_type": "markdown",
   "metadata": {},
   "source": [
    "## StackOverflow solution\n",
    "~~~~~~~~~~~~~~\n",
    "https://stackoverflow.com/questions/61390035/how-to-save-each-ligand-from-a-pdb-file-separately-with-bio-pdb"
   ]
  },
  {
   "cell_type": "code",
   "execution_count": 10,
   "metadata": {
    "tags": []
   },
   "outputs": [
    {
     "name": "stdout",
     "output_type": "stream",
     "text": [
      "saving &lt;Chain id=A&gt; &lt;Residue 3K2 het=H_3K2 resseq=501 icode= &gt;\n",
      "saving &lt;Chain id=B&gt; &lt;Residue 3K2 het=H_3K2 resseq=501 icode= &gt;\n",
      "saving &lt;Chain id=A&gt; &lt;Residue 1NY het=H_1NY resseq=501 icode= &gt;\n",
      "saving &lt;Chain id=B&gt; &lt;Residue PE4 het=H_PE4 resseq=501 icode= &gt;\n",
      "saving &lt;Chain id=B&gt; &lt;Residue 1NY het=H_1NY resseq=502 icode= &gt;\n",
      "saving &lt;Chain id=G&gt; &lt;Residue FLC het=H_FLC resseq=701 icode= &gt;\n",
      "saving &lt;Chain id=A&gt; &lt;Residue 67S het=H_67S resseq=501 icode= &gt;\n",
      "saving &lt;Chain id=E&gt; &lt;Residue 67S het=H_67S resseq=501 icode= &gt;\n",
      "saving &lt;Chain id=A&gt; &lt;Residue VDX het=H_VDX resseq=500 icode= &gt;\n",
      "saving &lt;Chain id=A&gt; &lt;Residue EDK het=H_EDK resseq=550 icode= &gt;\n",
      "saving &lt;Chain id=A&gt; &lt;Residue  CL het=H_ CL resseq=551 icode= &gt;\n",
      "saving &lt;Chain id=A&gt; &lt;Residue VDA het=H_VDA resseq=500 icode= &gt;\n",
      "saving &lt;Chain id=A&gt; &lt;Residue PFA het=H_PFA resseq=462 icode= &gt;\n",
      "saving &lt;Chain id=B&gt; &lt;Residue PFA het=H_PFA resseq=463 icode= &gt;\n",
      "saving &lt;Chain id=A&gt; &lt;Residue TTB het=H_TTB resseq=1 icode= &gt;\n",
      "saving &lt;Chain id=A&gt; &lt;Residue BQ3 het=H_BQ3 resseq=501 icode= &gt;\n",
      "saving &lt;Chain id=D&gt; &lt;Residue BQ3 het=H_BQ3 resseq=501 icode= &gt;\n",
      "saving &lt;Chain id=A&gt; &lt;Residue F7J het=H_F7J resseq=4000 icode= &gt;\n",
      "saving &lt;Chain id=A&gt; &lt;Residue B7G het=H_B7G resseq=920 icode= &gt;\n",
      "saving &lt;Chain id=A&gt; &lt;Residue B7G het=H_B7G resseq=921 icode= &gt;\n",
      "saving &lt;Chain id=A&gt; &lt;Residue VCA het=H_VCA resseq=201 icode= &gt;\n",
      "saving &lt;Chain id=B&gt; &lt;Residue VCA het=H_VCA resseq=478 icode= &gt;\n",
      "saving &lt;Chain id=A&gt; &lt;Residue CAS het=H_CAS resseq=244 icode= &gt;\n",
      "saving &lt;Chain id=A&gt; &lt;Residue CAS het=H_CAS resseq=334 icode= &gt;\n",
      "saving &lt;Chain id=A&gt; &lt;Residue CAS het=H_CAS resseq=380 icode= &gt;\n",
      "saving &lt;Chain id=A&gt; &lt;Residue CAS het=H_CAS resseq=388 icode= &gt;\n",
      "saving &lt;Chain id=A&gt; &lt;Residue CAS het=H_CAS resseq=392 icode= &gt;\n",
      "saving &lt;Chain id=A&gt; &lt;Residue  T3 het=H_ T3 resseq=1 icode= &gt;\n",
      "saving &lt;Chain id=B&gt; &lt;Residue REA het=H_REA resseq=601 icode= &gt;\n",
      "saving &lt;Chain id=D&gt; &lt;Residue REA het=H_REA resseq=601 icode= &gt;\n",
      "saving &lt;Chain id=A&gt; &lt;Residue 0U3 het=H_0U3 resseq=501 icode= &gt;\n",
      "saving &lt;Chain id=A&gt; &lt;Residue 394 het=H_394 resseq=450 icode= &gt;\n",
      "saving &lt;Chain id=A&gt; &lt;Residue LMU het=H_LMU resseq=451 icode= &gt;\n",
      "saving &lt;Chain id=C&gt; &lt;Residue  MG het=H_ MG resseq=501 icode= &gt;\n",
      "saving &lt;Chain id=D&gt; &lt;Residue  MG het=H_ MG resseq=501 icode= &gt;\n",
      "saving &lt;Chain id=X&gt; &lt;Residue CAS het=H_CAS resseq=294 icode= &gt;\n",
      "saving &lt;Chain id=X&gt; &lt;Residue CAS het=H_CAS resseq=388 icode= &gt;\n",
      "saving &lt;Chain id=X&gt; &lt;Residue CAS het=H_CAS resseq=434 icode= &gt;\n",
      "saving &lt;Chain id=X&gt; &lt;Residue  T3 het=H_ T3 resseq=500 icode= &gt;\n",
      "saving &lt;Chain id=A&gt; &lt;Residue 2KB het=H_2KB resseq=501 icode= &gt;\n",
      "saving &lt;Chain id=A&gt; &lt;Residue DKA het=H_DKA resseq=1 icode= &gt;\n",
      "saving &lt;Chain id=A&gt; &lt;Residue M0T het=H_M0T resseq=1 icode= &gt;\n",
      "saving &lt;Chain id=A&gt; &lt;Residue VDX het=H_VDX resseq=500 icode= &gt;\n",
      "saving &lt;Chain id=A&gt; &lt;Residue EDO het=H_EDO resseq=501 icode= &gt;\n",
      "saving &lt;Chain id=A&gt; &lt;Residue FMT het=H_FMT resseq=502 icode= &gt;\n",
      "saving &lt;Chain id=A&gt; &lt;Residue FMT het=H_FMT resseq=503 icode= &gt;\n",
      "saving &lt;Chain id=A&gt; &lt;Residue 9RF het=H_9RF resseq=501 icode= &gt;\n",
      "saving &lt;Chain id=A&gt; &lt;Residue B7G het=H_B7G resseq=502 icode= &gt;\n",
      "saving &lt;Chain id=A&gt; &lt;Residue PE3 het=H_PE3 resseq=503 icode= &gt;\n",
      "saving &lt;Chain id=B&gt; &lt;Residue 9RF het=H_9RF resseq=501 icode= &gt;\n",
      "saving &lt;Chain id=B&gt; &lt;Residue B7G het=H_B7G resseq=502 icode= &gt;\n",
      "saving &lt;Chain id=B&gt; &lt;Residue PE3 het=H_PE3 resseq=503 icode= &gt;\n"
     ]
    },
    {
     "ename": "KeyboardInterrupt",
     "evalue": "",
     "output_type": "error",
     "traceback": [
      "\u001b[0;31m---------------------------------------------------------------------------\u001b[0m",
      "\u001b[0;31mKeyboardInterrupt\u001b[0m                         Traceback (most recent call last)",
      "\u001b[0;32m&lt;ipython-input-10-2a3c6082e855&gt;\u001b[0m in \u001b[0;36m&lt;module&gt;\u001b[0;34m\u001b[0m\n\u001b[1;32m     41\u001b[0m \u001b[0mpath\u001b[0m \u001b[0;34m=\u001b[0m \u001b[0;34m&quot;&quot;\u001b[0m\u001b[0;34m\u001b[0m\u001b[0;34m\u001b[0m\u001b[0m\n\u001b[1;32m     42\u001b[0m \u001b[0;34m\u001b[0m\u001b[0m\n\u001b[0;32m---&gt; 43\u001b[0;31m \u001b[0mextract_ligands\u001b[0m\u001b[0;34m(\u001b[0m\u001b[0mpath\u001b[0m\u001b[0;34m)\u001b[0m\u001b[0;34m\u001b[0m\u001b[0;34m\u001b[0m\u001b[0m\n\u001b[0m",
      "\u001b[0;32m&lt;ipython-input-10-2a3c6082e855&gt;\u001b[0m in \u001b[0;36mextract_ligands\u001b[0;34m(path)\u001b[0m\n\u001b[1;32m     26\u001b[0m         \u001b[0;32mif\u001b[0m \u001b[0mpfb_file\u001b[0m\u001b[0;34m.\u001b[0m\u001b[0mendswith\u001b[0m\u001b[0;34m(\u001b[0m\u001b[0;34m&#39;.pdb&#39;\u001b[0m\u001b[0;34m)\u001b[0m \u001b[0;32mand\u001b[0m \u001b[0;32mnot\u001b[0m \u001b[0mpfb_file\u001b[0m\u001b[0;34m.\u001b[0m\u001b[0mstartswith\u001b[0m\u001b[0;34m(\u001b[0m\u001b[0;34m&quot;lig_&quot;\u001b[0m\u001b[0;34m)\u001b[0m\u001b[0;34m:\u001b[0m\u001b[0;34m\u001b[0m\u001b[0;34m\u001b[0m\u001b[0m\n\u001b[1;32m     27\u001b[0m             \u001b[0mpdb_code\u001b[0m \u001b[0;34m=\u001b[0m \u001b[0mpfb_file\u001b[0m\u001b[0;34m[\u001b[0m\u001b[0;34m:\u001b[0m\u001b[0;34m-\u001b[0m\u001b[0;36m4\u001b[0m\u001b[0;34m]\u001b[0m\u001b[0;34m\u001b[0m\u001b[0;34m\u001b[0m\u001b[0m\n\u001b[0;32m---&gt; 28\u001b[0;31m             \u001b[0mpdb\u001b[0m \u001b[0;34m=\u001b[0m \u001b[0mPDBParser\u001b[0m\u001b[0;34m(\u001b[0m\u001b[0;34m)\u001b[0m\u001b[0;34m.\u001b[0m\u001b[0mget_structure\u001b[0m\u001b[0;34m(\u001b[0m\u001b[0mpdb_code\u001b[0m\u001b[0;34m,\u001b[0m \u001b[0mpath\u001b[0m \u001b[0;34m+\u001b[0m \u001b[0;34m&#39;pdbs/&#39;\u001b[0m \u001b[0;34m+\u001b[0m \u001b[0mpfb_file\u001b[0m\u001b[0;34m)\u001b[0m\u001b[0;34m\u001b[0m\u001b[0;34m\u001b[0m\u001b[0m\n\u001b[0m\u001b[1;32m     29\u001b[0m             \u001b[0mio\u001b[0m \u001b[0;34m=\u001b[0m \u001b[0mPDBIO\u001b[0m\u001b[0;34m(\u001b[0m\u001b[0;34m)\u001b[0m\u001b[0;34m\u001b[0m\u001b[0;34m\u001b[0m\u001b[0m\n\u001b[1;32m     30\u001b[0m             \u001b[0mio\u001b[0m\u001b[0;34m.\u001b[0m\u001b[0mset_structure\u001b[0m\u001b[0;34m(\u001b[0m\u001b[0mpdb\u001b[0m\u001b[0;34m)\u001b[0m\u001b[0;34m\u001b[0m\u001b[0;34m\u001b[0m\u001b[0m\n",
      "\u001b[0;32m~/.local/lib/python3.8/site-packages/Bio/PDB/PDBParser.py\u001b[0m in \u001b[0;36mget_structure\u001b[0;34m(self, id, file)\u001b[0m\n\u001b[1;32m     98\u001b[0m                 \u001b[0;32mif\u001b[0m \u001b[0;32mnot\u001b[0m \u001b[0mlines\u001b[0m\u001b[0;34m:\u001b[0m\u001b[0;34m\u001b[0m\u001b[0;34m\u001b[0m\u001b[0m\n\u001b[1;32m     99\u001b[0m                     \u001b[0;32mraise\u001b[0m \u001b[0mValueError\u001b[0m\u001b[0;34m(\u001b[0m\u001b[0;34m&quot;Empty file.&quot;\u001b[0m\u001b[0;34m)\u001b[0m\u001b[0;34m\u001b[0m\u001b[0;34m\u001b[0m\u001b[0m\n\u001b[0;32m--&gt; 100\u001b[0;31m                 \u001b[0mself\u001b[0m\u001b[0;34m.\u001b[0m\u001b[0m_parse\u001b[0m\u001b[0;34m(\u001b[0m\u001b[0mlines\u001b[0m\u001b[0;34m)\u001b[0m\u001b[0;34m\u001b[0m\u001b[0;34m\u001b[0m\u001b[0m\n\u001b[0m\u001b[1;32m    101\u001b[0m \u001b[0;34m\u001b[0m\u001b[0m\n\u001b[1;32m    102\u001b[0m             \u001b[0mself\u001b[0m\u001b[0;34m.\u001b[0m\u001b[0mstructure_builder\u001b[0m\u001b[0;34m.\u001b[0m\u001b[0mset_header\u001b[0m\u001b[0;34m(\u001b[0m\u001b[0mself\u001b[0m\u001b[0;34m.\u001b[0m\u001b[0mheader\u001b[0m\u001b[0;34m)\u001b[0m\u001b[0;34m\u001b[0m\u001b[0;34m\u001b[0m\u001b[0m\n",
      "\u001b[0;32m~/.local/lib/python3.8/site-packages/Bio/PDB/PDBParser.py\u001b[0m in \u001b[0;36m_parse\u001b[0;34m(self, header_coords_trailer)\u001b[0m\n\u001b[1;32m    121\u001b[0m         \u001b[0mself\u001b[0m\u001b[0;34m.\u001b[0m\u001b[0mheader\u001b[0m\u001b[0;34m,\u001b[0m \u001b[0mcoords_trailer\u001b[0m \u001b[0;34m=\u001b[0m \u001b[0mself\u001b[0m\u001b[0;34m.\u001b[0m\u001b[0m_get_header\u001b[0m\u001b[0;34m(\u001b[0m\u001b[0mheader_coords_trailer\u001b[0m\u001b[0;34m)\u001b[0m\u001b[0;34m\u001b[0m\u001b[0;34m\u001b[0m\u001b[0m\n\u001b[1;32m    122\u001b[0m         \u001b[0;31m# Parse the atomic data; return the PDB file trailer\u001b[0m\u001b[0;34m\u001b[0m\u001b[0;34m\u001b[0m\u001b[0;34m\u001b[0m\u001b[0m\n\u001b[0;32m--&gt; 123\u001b[0;31m         \u001b[0mself\u001b[0m\u001b[0;34m.\u001b[0m\u001b[0mtrailer\u001b[0m \u001b[0;34m=\u001b[0m \u001b[0mself\u001b[0m\u001b[0;34m.\u001b[0m\u001b[0m_parse_coordinates\u001b[0m\u001b[0;34m(\u001b[0m\u001b[0mcoords_trailer\u001b[0m\u001b[0;34m)\u001b[0m\u001b[0;34m\u001b[0m\u001b[0;34m\u001b[0m\u001b[0m\n\u001b[0m\u001b[1;32m    124\u001b[0m \u001b[0;34m\u001b[0m\u001b[0m\n\u001b[1;32m    125\u001b[0m     \u001b[0;32mdef\u001b[0m \u001b[0m_get_header\u001b[0m\u001b[0;34m(\u001b[0m\u001b[0mself\u001b[0m\u001b[0;34m,\u001b[0m \u001b[0mheader_coords_trailer\u001b[0m\u001b[0;34m)\u001b[0m\u001b[0;34m:\u001b[0m\u001b[0;34m\u001b[0m\u001b[0;34m\u001b[0m\u001b[0m\n",
      "\u001b[0;32m~/.local/lib/python3.8/site-packages/Bio/PDB/PDBParser.py\u001b[0m in \u001b[0;36m_parse_coordinates\u001b[0;34m(self, coords_trailer)\u001b[0m\n\u001b[1;32m    280\u001b[0m                     \u001b[0;31m# init atom with pdb fiels\u001b[0m\u001b[0;34m\u001b[0m\u001b[0;34m\u001b[0m\u001b[0;34m\u001b[0m\u001b[0m\n\u001b[1;32m    281\u001b[0m                     \u001b[0;32mtry\u001b[0m\u001b[0;34m:\u001b[0m\u001b[0;34m\u001b[0m\u001b[0;34m\u001b[0m\u001b[0m\n\u001b[0;32m--&gt; 282\u001b[0;31m                         structure_builder.init_atom(\n\u001b[0m\u001b[1;32m    283\u001b[0m                             \u001b[0mname\u001b[0m\u001b[0;34m,\u001b[0m\u001b[0;34m\u001b[0m\u001b[0;34m\u001b[0m\u001b[0m\n\u001b[1;32m    284\u001b[0m                             \u001b[0mcoord\u001b[0m\u001b[0;34m,\u001b[0m\u001b[0;34m\u001b[0m\u001b[0;34m\u001b[0m\u001b[0m\n",
      "\u001b[0;32m~/.local/lib/python3.8/site-packages/Bio/PDB/StructureBuilder.py\u001b[0m in \u001b[0;36minit_atom\u001b[0;34m(self, name, coord, b_factor, occupancy, altloc, fullname, serial_number, element, pqr_charge, radius, is_pqr)\u001b[0m\n\u001b[1;32m    287\u001b[0m         \u001b[0;32melse\u001b[0m\u001b[0;34m:\u001b[0m\u001b[0;34m\u001b[0m\u001b[0;34m\u001b[0m\u001b[0m\n\u001b[1;32m    288\u001b[0m             \u001b[0;31m# The atom is not disordered\u001b[0m\u001b[0;34m\u001b[0m\u001b[0;34m\u001b[0m\u001b[0;34m\u001b[0m\u001b[0m\n\u001b[0;32m--&gt; 289\u001b[0;31m             \u001b[0mresidue\u001b[0m\u001b[0;34m.\u001b[0m\u001b[0madd\u001b[0m\u001b[0;34m(\u001b[0m\u001b[0mself\u001b[0m\u001b[0;34m.\u001b[0m\u001b[0matom\u001b[0m\u001b[0;34m)\u001b[0m\u001b[0;34m\u001b[0m\u001b[0;34m\u001b[0m\u001b[0m\n\u001b[0m\u001b[1;32m    290\u001b[0m \u001b[0;34m\u001b[0m\u001b[0m\n\u001b[1;32m    291\u001b[0m     \u001b[0;32mdef\u001b[0m \u001b[0mset_anisou\u001b[0m\u001b[0;34m(\u001b[0m\u001b[0mself\u001b[0m\u001b[0;34m,\u001b[0m \u001b[0manisou_array\u001b[0m\u001b[0;34m)\u001b[0m\u001b[0;34m:\u001b[0m\u001b[0;34m\u001b[0m\u001b[0;34m\u001b[0m\u001b[0m\n",
      "\u001b[0;32m~/.local/lib/python3.8/site-packages/Bio/PDB/Residue.py\u001b[0m in \u001b[0;36madd\u001b[0;34m(self, atom)\u001b[0m\n\u001b[1;32m     47\u001b[0m         \u001b[0mPDBConstructionException\u001b[0m \u001b[0;32mif\u001b[0m \u001b[0mso\u001b[0m\u001b[0;34m.\u001b[0m\u001b[0;34m\u001b[0m\u001b[0;34m\u001b[0m\u001b[0m\n\u001b[1;32m     48\u001b[0m         &quot;&quot;&quot;\n\u001b[0;32m---&gt; 49\u001b[0;31m         \u001b[0matom_id\u001b[0m \u001b[0;34m=\u001b[0m \u001b[0matom\u001b[0m\u001b[0;34m.\u001b[0m\u001b[0mget_id\u001b[0m\u001b[0;34m(\u001b[0m\u001b[0;34m)\u001b[0m\u001b[0;34m\u001b[0m\u001b[0;34m\u001b[0m\u001b[0m\n\u001b[0m\u001b[1;32m     50\u001b[0m         \u001b[0;32mif\u001b[0m \u001b[0mself\u001b[0m\u001b[0;34m.\u001b[0m\u001b[0mhas_id\u001b[0m\u001b[0;34m(\u001b[0m\u001b[0matom_id\u001b[0m\u001b[0;34m)\u001b[0m\u001b[0;34m:\u001b[0m\u001b[0;34m\u001b[0m\u001b[0;34m\u001b[0m\u001b[0m\n\u001b[1;32m     51\u001b[0m             raise PDBConstructionException(\n",
      "\u001b[0;32m~/.local/lib/python3.8/site-packages/Bio/PDB/Atom.py\u001b[0m in \u001b[0;36mget_id\u001b[0;34m(self)\u001b[0m\n\u001b[1;32m    361\u001b[0m     \u001b[0;32mdef\u001b[0m \u001b[0mget_id\u001b[0m\u001b[0;34m(\u001b[0m\u001b[0mself\u001b[0m\u001b[0;34m)\u001b[0m\u001b[0;34m:\u001b[0m\u001b[0;34m\u001b[0m\u001b[0;34m\u001b[0m\u001b[0m\n\u001b[1;32m    362\u001b[0m         \u001b[0;34m&quot;&quot;&quot;Return the id of the atom (which is its atom name).&quot;&quot;&quot;\u001b[0m\u001b[0;34m\u001b[0m\u001b[0;34m\u001b[0m\u001b[0m\n\u001b[0;32m--&gt; 363\u001b[0;31m         \u001b[0;32mreturn\u001b[0m \u001b[0mself\u001b[0m\u001b[0;34m.\u001b[0m\u001b[0mid\u001b[0m\u001b[0;34m\u001b[0m\u001b[0;34m\u001b[0m\u001b[0m\n\u001b[0m\u001b[1;32m    364\u001b[0m \u001b[0;34m\u001b[0m\u001b[0m\n\u001b[1;32m    365\u001b[0m     \u001b[0;32mdef\u001b[0m \u001b[0mget_full_id\u001b[0m\u001b[0;34m(\u001b[0m\u001b[0mself\u001b[0m\u001b[0;34m)\u001b[0m\u001b[0;34m:\u001b[0m\u001b[0;34m\u001b[0m\u001b[0;34m\u001b[0m\u001b[0m\n",
      "\u001b[0;31mKeyboardInterrupt\u001b[0m: "
     ]
    }
   ],
   "source": [
    "import io\n",
    "\n",
    "from Bio.PDB import PDBParser, PDBIO, Select\n",
    "\n",
    "def is_het(residue):\n",
    "    res = residue.id[0]\n",
    "    return res != \" \" and res != \"W\"\n",
    "\n",
    "class ResidueSelect(Select):\n",
    "    def __init__(self, chain, residue):\n",
    "        self.chain = chain\n",
    "        self.residue = residue\n",
    "\n",
    "    def accept_chain(self, chain):\n",
    "        return chain.id == self.chain.id\n",
    "\n",
    "    def accept_residue(self, residue):\n",
    "        \"\"\" Recognition of heteroatoms - Remove water molecules \"\"\"\n",
    "        return residue == self.residue and is_het(residue)\n",
    "\n",
    "def extract_ligands(path):\n",
    "    \"\"\" Extraction of the heteroatoms of .pdb files \"\"\"\n",
    "\n",
    "    for pfb_file in os.listdir(path + 'pdbs/'):\n",
    "        i = 1\n",
    "        if pfb_file.endswith('.pdb') and not pfb_file.startswith(\"lig_\"):\n",
    "            pdb_code = pfb_file[:-4]\n",
    "            pdb = PDBParser().get_structure(pdb_code, path + 'pdbs/' + pfb_file)\n",
    "            io = PDBIO()\n",
    "            io.set_structure(pdb)\n",
    "            for model in pdb:\n",
    "                for chain in model:\n",
    "                    for residue in chain:\n",
    "                        if not is_het(residue):\n",
    "                            continue\n",
    "                        print(f\"saving {chain} {residue}\")\n",
    "                        io.save(f\"lig_{pdb_code}_{i}.pdb\", ResidueSelect(chain, residue))\n",
    "                        i += 1\n",
    "\n",
    "# Main\n",
    "path = \"\"\n",
    "\n",
    "extract_ligands(path)"
   ]
  }
 ],
 "metadata": {
  "kernelspec": {
   "display_name": "Python 3.8.5 64-bit ('MDAnalysis': conda)",
   "metadata": {
    "interpreter": {
     "hash": "6e06913b41ab63a778b84641acd4be9bab4cd25a5b307c3791dfb16fdf51053e"
    }
   },
   "name": "Python 3.8.5 64-bit ('MDAnalysis': conda)"
  },
  "language_info": {
   "codemirror_mode": {
    "name": "ipython",
    "version": 3
   },
   "file_extension": ".py",
   "mimetype": "text/x-python",
   "name": "python",
   "nbconvert_exporter": "python",
   "pygments_lexer": "ipython3",
   "version": "3.8.5-final"
  }
 },
 "nbformat": 4,
 "nbformat_minor": 2
}
