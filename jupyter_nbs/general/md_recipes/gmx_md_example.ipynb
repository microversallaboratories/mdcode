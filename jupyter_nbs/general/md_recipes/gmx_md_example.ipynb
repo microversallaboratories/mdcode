{
 "cells": [
  {
   "cell_type": "code",
   "execution_count": 3,
   "metadata": {
    "tags": []
   },
   "outputs": [
    {
     "output_type": "stream",
     "name": "stdout",
     "text": "GMX version: 2020.2-MODIFIED \n\n"
    }
   ],
   "source": [
    "import gromacs\n",
    "from Bio.PDB import PDBList\n",
    "\n",
    "import datetime\n",
    "now = datetime.datetime.now()\n",
    "\n",
    "# gromacs.config.setup() # UNCOMMENT if not yet setup on your system!\n",
    "print(\"GMX version:\",gromacs.release(),\"\\n\")\n",
    "# help(gromacs.pdb2gmx)"
   ]
  },
  {
   "cell_type": "markdown",
   "metadata": {},
   "source": [
    "# 1.) SOLVATION TUTORIAL\n",
    "\n",
    "This tutorial follows the tutorial developed by Joseph Lemke."
   ]
  },
  {
   "cell_type": "code",
   "execution_count": 4,
   "metadata": {
    "tags": []
   },
   "outputs": [
    {
     "output_type": "stream",
     "name": "stdout",
     "text": "/Users/jacobnorth/Box/extracurriculars/research/SURE_S2020_fileshare/sure_data/cypA/MD_2020_6_22_16_29_21\n"
    }
   ],
   "source": [
    "# Download the PDB target\n",
    "import pypdb\n",
    "\n",
    "# Define the simulation datapath\n",
    "def now_dir_ts():\n",
    "    now_ts = str(now.year)+\"_\"+str(now.month)+\"_\"+str(now.day)+\"_\"+str(now.hour)+\"_\"+str(now.minute)+\"_\"+str(now.second)\n",
    "    return now_ts\n",
    "\n",
    "sim_dir = \"/Users/jacobnorth/Box/extracurriculars/research/SURE_S2020_fileshare/sure_data/\"+input(\"Please enter a sub-directory of sure_data/:\")+\"/MD_\"+now_dir_ts()\n",
    "\n",
    "print(sim_dir)      # Print the simulation datapath"
   ]
  },
  {
   "cell_type": "code",
   "execution_count": null,
   "metadata": {},
   "outputs": [],
   "source": [
    "id = input(\"Please enter a PDB ID to simulate:\")\n",
    "\n",
    "pdbl = PDBList()            # Create a PDBList object \n",
    "pdbl.retrieve_pdb_file(id, file_format='pdb', pdir=sim_dir)       # Retrieve the PDB file in PDB format\n",
    "\n",
    "# pypdb.get_pdb_file('1oca', filetype='PDB')      # Search and download on PDB"
   ]
  },
  {
   "cell_type": "code",
   "execution_count": null,
   "metadata": {},
   "outputs": [],
   "source": [
    "gromacs.pdb2gmx(f=id+\".pdb\", o=\"protein.gro\", p=\"topol.top\", ff=\"oplsaa\", water=\"tip4p\")"
   ]
  },
  {
   "cell_type": "code",
   "execution_count": null,
   "metadata": {},
   "outputs": [],
   "source": [
    "gromacs.editconf(f=\"protein.gro\", o=\"boxed.gro\", bt=\"dodecahedron\", d=1.5, princ=True, input=\"Protein\")"
   ]
  },
  {
   "cell_type": "code",
   "execution_count": null,
   "metadata": {},
   "outputs": [],
   "source": [
    "gromacs.solvate(cp=\"boxed.gro\", cs=\"tip4p\", p=\"topol.top\", o=\"solvated.gro\")"
   ]
  }
 ],
 "metadata": {
  "language_info": {
   "codemirror_mode": {
    "name": "ipython",
    "version": 3
   },
   "file_extension": ".py",
   "mimetype": "text/x-python",
   "name": "python",
   "nbconvert_exporter": "python",
   "pygments_lexer": "ipython3",
   "version": "3.7.7-final"
  },
  "orig_nbformat": 2,
  "kernelspec": {
   "name": "python37764bitc3d2672e15bf42b391f372abee464dda",
   "display_name": "Python 3.7.7 64-bit"
  }
 },
 "nbformat": 4,
 "nbformat_minor": 2
}