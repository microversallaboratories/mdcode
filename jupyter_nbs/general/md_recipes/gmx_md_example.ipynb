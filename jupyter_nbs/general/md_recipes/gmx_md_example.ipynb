{
 "cells": [
  {
   "cell_type": "code",
   "execution_count": 1,
   "metadata": {
    "tags": []
   },
   "outputs": [
    {
     "output_type": "stream",
     "name": "stdout",
     "text": "GMX version: 2020.2-MODIFIED \n\n"
    }
   ],
   "source": [
    "import gromacs\n",
    "from Bio.PDB import PDBList\n",
    "\n",
    "import datetime\n",
    "now = datetime.datetime.now()\n",
    "\n",
    "from sys import argv\n",
    "\n",
    "# gromacs.config.setup() # UNCOMMENT if not yet setup on your system!\n",
    "print(\"GMX version:\",gromacs.release(),\"\\n\")\n",
    "# help(gromacs.pdb2gmx)"
   ]
  },
  {
   "cell_type": "markdown",
   "metadata": {},
   "source": [
    "# 1.) SOLVATION TUTORIAL\n",
    "\n",
    "This tutorial follows the tutorial developed by Joseph Lemke."
   ]
  },
  {
   "cell_type": "code",
   "execution_count": 2,
   "metadata": {
    "tags": []
   },
   "outputs": [
    {
     "output_type": "stream",
     "name": "stdout",
     "text": "/Users/jacobnorth/Box/extracurriculars/research/SURE_S2020_fileshare/sure_data/1aki/mdsim_2020_6_23_20_59_31\n"
    }
   ],
   "source": [
    "# Download the PDB target\n",
    "import pypdb\n",
    "\n",
    "# Define the simulation datapath\n",
    "def now_dir_ts():\n",
    "    now_ts = str(now.year)+\"_\"+str(now.month)+\"_\"+str(now.day)+\"_\"+str(now.hour)+\"_\"+str(now.minute)+\"_\"+str(now.second)\n",
    "    return now_ts\n",
    "\n",
    "sim_dir = \"/Users/jacobnorth/Box/extracurriculars/research/SURE_S2020_fileshare/sure_data/\"+input(\"Please enter a sub-directory of sure_data/:\")+\"/mdsim_\"+now_dir_ts()\n",
    "\n",
    "print(sim_dir)      # Print the simulation datapath"
   ]
  },
  {
   "cell_type": "code",
   "execution_count": 3,
   "metadata": {
    "tags": []
   },
   "outputs": [
    {
     "output_type": "stream",
     "name": "stdout",
     "text": "Downloading PDB structure '1aki'...\n"
    },
    {
     "output_type": "execute_result",
     "data": {
      "text/plain": "'/Users/jacobnorth/Box/extracurriculars/research/SURE_S2020_fileshare/sure_data/1aki/mdsim_2020_6_23_20_59_31/pdb1aki.ent'"
     },
     "metadata": {},
     "execution_count": 3
    }
   ],
   "source": [
    "id = input(\"Please enter a PDB ID to simulate:\")\n",
    "\n",
    "pdbl = PDBList()            # Create a PDBList object \n",
    "pdbl.retrieve_pdb_file(id, file_format='pdb', pdir=sim_dir)       # Retrieve the PDB file in PDB format\n",
    "\n",
    "# pypdb.get_pdb_file('1oca', filetype='PDB')      # Search and download on PDB"
   ]
  },
  {
   "cell_type": "code",
   "execution_count": 4,
   "metadata": {
    "tags": [
     "outputPrepend"
    ]
   },
   "outputs": [
    {
     "output_type": "stream",
     "name": "stdout",
     "text": "844  CB  TRP A 111      21.486  20.451   3.925  1.00 14.63           C  \nATOM    845  CG  TRP A 111      21.858  19.904   5.252  1.00 14.87           C  \nATOM    846  CD1 TRP A 111      22.856  18.975   5.486  1.00 18.11           C  \nATOM    847  CD2 TRP A 111      21.199  20.093   6.504  1.00 16.63           C  \nATOM    848  NE1 TRP A 111      22.848  18.592   6.808  1.00 17.16           N  \nATOM    849  CE2 TRP A 111      21.798  19.221   7.435  1.00 16.77           C  \nATOM    850  CE3 TRP A 111      20.182  20.959   6.908  1.00 15.16           C  \nATOM    851  CZ2 TRP A 111      21.492  19.284   8.784  1.00 17.69           C  \nATOM    852  CZ3 TRP A 111      19.818  20.954   8.240  1.00 16.88           C  \nATOM    853  CH2 TRP A 111      20.443  20.110   9.162  1.00 19.73           C  \nATOM    854  N   ARG A 112      18.438  20.038   4.228  1.00 17.47           N  \nATOM    855  CA  ARG A 112      17.185  19.830   4.955  1.00 19.60           C  \nATOM    856  C   ARG A 112      16.472  18.593   4.391  1.00 17.68           C  \nATOM    857  O   ARG A 112      16.000  17.792   5.220  1.00 22.77           O  \nATOM    858  CB  ARG A 112      16.214  20.990   4.944  1.00 17.57           C  \nATOM    859  CG  ARG A 112      16.592  22.438   5.091  1.00 25.27           C  \nATOM    860  CD  ARG A 112      15.368  23.296   5.135  1.00 21.23           C  \nATOM    861  NE  ARG A 112      14.776  23.555   3.836  1.00 28.06           N  \nATOM    862  CZ  ARG A 112      14.785  24.695   3.143  1.00 27.89           C  \nATOM    863  NH1 ARG A 112      15.596  25.721   3.383  1.00 30.12           N  \nATOM    864  NH2 ARG A 112      13.717  25.008   2.398  1.00 30.39           N  \nATOM    865  N   ASN A 113      16.307  18.521   3.074  1.00 19.43           N  \nATOM    866  CA  ASN A 113      15.464  17.463   2.491  1.00 20.16           C  \nATOM    867  C   ASN A 113      16.111  16.083   2.586  1.00 21.26           C  \nATOM    868  O   ASN A 113      15.454  15.054   2.808  1.00 24.90           O  \nATOM    869  CB  ASN A 113      14.966  17.779   1.085  1.00 20.43           C  \nATOM    870  CG  ASN A 113      14.003  18.961   1.018  1.00 16.63           C  \nATOM    871  OD1 ASN A 113      13.454  19.344   2.059  1.00 25.68           O  \nATOM    872  ND2 ASN A 113      13.840  19.555  -0.159  1.00 22.00           N  \nATOM    873  N   ARG A 114      17.401  16.041   2.355  1.00 19.72           N  \nATOM    874  CA  ARG A 114      18.156  14.836   2.042  1.00 21.43           C  \nATOM    875  C   ARG A 114      19.258  14.440   2.991  1.00 22.71           C  \nATOM    876  O   ARG A 114      19.505  13.217   3.097  1.00 24.85           O  \nATOM    877  CB  ARG A 114      18.622  14.910   0.576  1.00 21.05           C  \nATOM    878  CG  ARG A 114      17.395  14.614  -0.300  1.00 26.59           C  \nATOM    879  CD  ARG A 114      17.729  14.399  -1.731  1.00 26.92           C  \nATOM    880  NE  ARG A 114      18.153  15.677  -2.301  1.00 33.46           N  \nATOM    881  CZ  ARG A 114      17.826  16.080  -3.535  1.00 32.00           C  \nATOM    882  NH1 ARG A 114      17.378  15.225  -4.456  1.00 36.02           N  \nATOM    883  NH2 ARG A 114      17.735  17.388  -3.796  1.00 36.05           N  \nATOM    884  N   CYS A 115      19.743  15.372   3.773  1.00 17.56           N  \nATOM    885  CA  CYS A 115      20.843  15.041   4.708  1.00 15.08           C  \nATOM    886  C   CYS A 115      20.448  14.933   6.159  1.00 16.64           C  \nATOM    887  O   CYS A 115      20.972  14.116   6.940  1.00 21.71           O  \nATOM    888  CB  CYS A 115      21.991  16.018   4.426  1.00 15.21           C  \nATOM    889  SG  CYS A 115      22.563  16.009   2.739  1.00 19.35           S  \nATOM    890  N   LYS A 116      19.714  15.918   6.619  1.00 18.76           N  \nATOM    891  CA  LYS A 116      19.332  16.085   8.025  1.00 19.14           C  \nATOM    892  C   LYS A 116      18.634  14.821   8.518  1.00 21.91           C  \nATOM    893  O   LYS A 116      17.819  14.234   7.785  1.00 24.78           O  \nATOM    894  CB  LYS A 116      18.492  17.363   8.126  1.00 21.01           C  \nATOM    895  CG  LYS A 116      17.930  17.512   9.547  1.00 21.28           C  \nATOM    896  CD  LYS A 116      16.745  18.481   9.554  1.00 25.86           C  \nATOM    897  CE  LYS A 116      16.658  19.147  10.918  1.00 25.58           C  \nATOM    898  NZ  LYS A 116      15.454  20.010  11.047  1.00 34.69           N  \nATOM    899  N   GLY A 117      19.152  14.318   9.635  1.00 26.39           N  \nATOM    900  CA  GLY A 117      18.558  13.126  10.267  1.00 29.06           C  \nATOM    901  C   GLY A 117      19.018  11.781   9.733  1.00 28.29           C  \nATOM    902  O   GLY A 117      18.499  10.733  10.164  1.00 31.90           O  \nATOM    903  N   THR A 118      19.892  11.802   8.740  1.00 26.88           N  \nATOM    904  CA  THR A 118      20.473  10.578   8.171  1.00 22.31           C  \nATOM    905  C   THR A 118      21.868  10.375   8.761  1.00 21.43           C  \nATOM    906  O   THR A 118      22.321  11.119   9.650  1.00 22.31           O  \nATOM    907  CB  THR A 118      20.440  10.571   6.598  1.00 18.59           C  \nATOM    908  OG1 THR A 118      21.560  11.404   6.161  1.00 22.71           O  \nATOM    909  CG2 THR A 118      19.095  11.104   6.074  1.00 21.13           C  \nATOM    910  N   ASP A 119      22.392   9.213   8.431  1.00 21.20           N  \nATOM    911  CA  ASP A 119      23.768   8.830   8.756  1.00 22.61           C  \nATOM    912  C   ASP A 119      24.713   9.543   7.779  1.00 20.13           C  \nATOM    913  O   ASP A 119      25.178   8.950   6.780  1.00 20.57           O  \nATOM    914  CB  ASP A 119      23.934   7.313   8.738  1.00 21.00           C  \nATOM    915  CG  ASP A 119      25.347   6.900   9.121  1.00 25.32           C  \nATOM    916  OD1 ASP A 119      26.051   7.633   9.830  1.00 27.93           O  \nATOM    917  OD2 ASP A 119      25.715   5.746   8.804  1.00 27.31           O  \nATOM    918  N   VAL A 120      24.988  10.793   8.094  1.00 23.41           N  \nATOM    919  CA  VAL A 120      25.886  11.637   7.306  1.00 20.10           C  \nATOM    920  C   VAL A 120      27.342  11.199   7.304  1.00 18.51           C  \nATOM    921  O   VAL A 120      28.099  11.604   6.406  1.00 19.95           O  \nATOM    922  CB  VAL A 120      25.721  13.134   7.630  1.00 19.91           C  \nATOM    923  CG1 VAL A 120      24.356  13.655   7.183  1.00 23.59           C  \nATOM    924  CG2 VAL A 120      26.088  13.478   9.055  1.00 20.79           C  \nATOM    925  N   GLN A 121      27.701  10.430   8.306  1.00 21.83           N  \nATOM    926  CA  GLN A 121      29.021   9.783   8.389  1.00 21.12           C  \nATOM    927  C   GLN A 121      29.317   8.861   7.207  1.00 20.78           C  \nATOM    928  O   GLN A 121      30.480   8.669   6.820  1.00 19.66           O  \nATOM    929  CB  GLN A 121      29.088   9.048   9.728  1.00 24.21           C  \nATOM    930  CG  GLN A 121      30.530   8.965  10.167  1.00 26.13           C  \nATOM    931  CD  GLN A 121      30.615   8.877  11.674  1.00 26.94           C  \nATOM    932  OE1 GLN A 121      31.368   9.632  12.283  1.00 31.43           O  \nATOM    933  NE2 GLN A 121      29.884   7.871  12.151  1.00 28.26           N  \nATOM    934  N   ALA A 122      28.300   8.271   6.576  1.00 17.62           N  \nATOM    935  CA  ALA A 122      28.390   7.548   5.311  1.00 19.46           C  \nATOM    936  C   ALA A 122      29.186   8.290   4.227  1.00 17.98           C  \nATOM    937  O   ALA A 122      30.031   7.710   3.523  1.00 21.35           O  \nATOM    938  CB  ALA A 122      26.999   7.244   4.783  1.00 18.29           C  \nATOM    939  N   TRP A 123      29.021   9.616   4.240  1.00 18.07           N  \nATOM    940  CA  TRP A 123      29.703  10.502   3.283  1.00 16.76           C  \nATOM    941  C   TRP A 123      31.218  10.581   3.392  1.00 16.76           C  \nATOM    942  O   TRP A 123      31.905  10.942   2.412  1.00 20.08           O  \nATOM    943  CB  TRP A 123      29.027  11.872   3.347  1.00 19.49           C  \nATOM    944  CG  TRP A 123      27.621  11.735   2.850  1.00 17.43           C  \nATOM    945  CD1 TRP A 123      26.485  11.608   3.588  1.00 19.42           C  \nATOM    946  CD2 TRP A 123      27.241  11.547   1.481  1.00 17.47           C  \nATOM    947  NE1 TRP A 123      25.405  11.458   2.774  1.00 18.86           N  \nATOM    948  CE2 TRP A 123      25.827  11.391   1.479  1.00 17.28           C  \nATOM    949  CE3 TRP A 123      27.947  11.468   0.283  1.00 20.03           C  \nATOM    950  CZ2 TRP A 123      25.111  11.184   0.311  1.00 18.33           C  \nATOM    951  CZ3 TRP A 123      27.222  11.329  -0.886  1.00 20.85           C  \nATOM    952  CH2 TRP A 123      25.835  11.127  -0.869  1.00 20.45           C  \nATOM    953  N   ILE A 124      31.741  10.269   4.554  1.00 14.19           N  \nATOM    954  CA  ILE A 124      33.186  10.292   4.801  1.00 16.82           C  \nATOM    955  C   ILE A 124      33.863   8.955   5.024  1.00 18.45           C  \nATOM    956  O   ILE A 124      35.100   8.892   5.134  1.00 21.02           O  \nATOM    957  CB  ILE A 124      33.504  11.403   5.863  1.00 17.69           C  \nATOM    958  CG1 ILE A 124      32.956  10.984   7.234  1.00 18.86           C  \nATOM    959  CG2 ILE A 124      33.024  12.804   5.387  1.00 21.01           C  \nATOM    960  CD1 ILE A 124      33.729  11.437   8.488  1.00 22.81           C  \nATOM    961  N   ARG A 125      33.080   7.898   5.131  1.00 21.05           N  \nATOM    962  CA  ARG A 125      33.594   6.534   5.320  1.00 19.12           C  \nATOM    963  C   ARG A 125      34.311   6.113   4.036  1.00 17.52           C  \nATOM    964  O   ARG A 125      33.843   6.337   2.906  1.00 23.44           O  \nATOM    965  CB  ARG A 125      32.476   5.551   5.650  1.00 19.54           C  \nATOM    966  CG  ARG A 125      32.117   5.596   7.145  1.00 22.40           C  \nATOM    967  CD  ARG A 125      31.277   4.392   7.482  1.00 24.05           C  \nATOM    968  NE  ARG A 125      30.282   4.754   8.466  1.00 28.08           N  \nATOM    969  CZ  ARG A 125      28.984   4.993   8.331  1.00 23.40           C  \nATOM    970  NH1 ARG A 125      28.334   4.690   7.207  1.00 23.69           N  \nATOM    971  NH2 ARG A 125      28.392   5.549   9.392  1.00 23.77           N  \nATOM    972  N   GLY A 126      35.497   5.568   4.243  1.00 18.80           N  \nATOM    973  CA  GLY A 126      36.291   5.058   3.102  1.00 21.28           C  \nATOM    974  C   GLY A 126      37.334   6.066   2.658  1.00 22.50           C  \nATOM    975  O   GLY A 126      38.220   5.729   1.855  1.00 23.59           O  \nATOM    976  N   CYS A 127      37.335   7.221   3.297  1.00 19.05           N  \nATOM    977  CA  CYS A 127      38.234   8.333   2.961  1.00 19.13           C  \nATOM    978  C   CYS A 127      39.422   8.382   3.925  1.00 22.50           C  \nATOM    979  O   CYS A 127      39.206   8.267   5.138  1.00 21.64           O  \nATOM    980  CB  CYS A 127      37.453   9.628   2.990  1.00 18.75           C  \nATOM    981  SG  CYS A 127      36.010   9.816   1.936  1.00 19.93           S  \nATOM    982  N   ARG A 128      40.586   8.695   3.393  1.00 23.60           N  \nATOM    983  CA  ARG A 128      41.774   8.960   4.217  1.00 28.29           C  \nATOM    984  C   ARG A 128      41.820  10.438   4.578  1.00 25.64           C  \nATOM    985  O   ARG A 128      41.976  11.291   3.694  1.00 30.98           O  \nATOM    986  CB  ARG A 128      43.047   8.304   3.707  1.00 30.82           C  \nATOM    987  CG  ARG A 128      43.231   6.886   4.280  1.00 34.25           C  \nATOM    988  CD  ARG A 128      43.833   6.911   5.651  1.00 33.59           C  \nATOM    989  NE  ARG A 128      45.246   7.263   5.636  1.00 37.63           N  \nATOM    990  CZ  ARG A 128      45.862   8.258   6.281  1.00 38.37           C  \nATOM    991  NH1 ARG A 128      45.241   9.069   7.151  1.00 38.97           N  \nATOM    992  NH2 ARG A 128      47.134   8.554   5.973  1.00 40.22           N  \nATOM    993  N   LEU A 129      41.289  10.715   5.771  1.00 26.05           N  \nATOM    994  CA  LEU A 129      41.094  12.084   6.273  1.00 26.89           C  \nATOM    995  C   LEU A 129      42.119  12.382   7.370  1.00 29.58           C  \nATOM    996  O   LEU A 129      41.730  12.276   8.559  1.00 33.54           O  \nATOM    997  CB  LEU A 129      39.635  12.335   6.646  1.00 26.31           C  \nATOM    998  CG  LEU A 129      38.689  12.917   5.620  1.00 23.49           C  \nATOM    999  CD1 LEU A 129      39.112  12.657   4.191  1.00 26.43           C  \nATOM   1000  CD2 LEU A 129      37.310  12.325   5.886  1.00 25.15           C  \nATOM   1001  OXT LEU A 129      43.232  12.675   6.905  1.00 34.20           O  \nTER    1002      LEU A 129                                                      \nHETATM 1003  O   HOH A 130      23.434  40.063  -6.661  1.00 19.48           O  \nHETATM 1004  O   HOH A 131      31.994  26.416  -6.047  0.90 22.43           O  \nHETATM 1005  O   HOH A 132      30.250  13.337   9.787  0.98 20.93           O  \nHETATM 1006  O   HOH A 133      22.384  42.331  -8.165  0.90 21.85           O  \nHETATM 1007  O   HOH A 134      29.239  27.621  -3.670  1.00 17.47           O  \nHETATM 1008  O   HOH A 135      29.464  37.761 -10.492  0.98 20.05           O  \nHETATM 1009  O   HOH A 136      20.807  36.305 -11.082  1.00 18.47           O  \nHETATM 1010  O   HOH A 137      41.318  17.849  -1.378  0.98 20.99           O  \nHETATM 1011  O   HOH A 138      34.697  29.056  -4.039  0.89 22.31           O  \nHETATM 1012  O   HOH A 139      26.871  17.298  13.496  1.00 20.31           O  \nHETATM 1013  O   HOH A 140      32.131  11.050  -5.817  0.97 21.39           O  \nHETATM 1014  O   HOH A 141      23.468  40.040  -2.372  0.91 23.40           O  \nHETATM 1015  O   HOH A 142      21.390  45.524 -11.035  0.96 20.63           O  \nHETATM 1016  O   HOH A 143      34.490  26.578  -5.741  0.75 22.11           O  \nHETATM 1017  O   HOH A 144      16.422  34.139  -3.527  0.91 20.71           O  \nHETATM 1018  O   HOH A 145      21.374  29.926   8.946  0.83 24.21           O  \nHETATM 1019  O   HOH A 146      41.048  12.539  -0.011  0.70 22.71           O  \nHETATM 1020  O   HOH A 147      32.794  35.686   2.558  0.78 20.71           O  \nHETATM 1021  O   HOH A 148      49.648   8.964   6.343  0.83 21.93           O  \nHETATM 1022  O   HOH A 149      14.452  34.901 -13.339  0.69 23.89           O  \nHETATM 1023  O   HOH A 150      22.930  10.839   4.044  0.92 22.02           O  \nHETATM 1024  O   HOH A 151      16.012  18.490  -2.200  0.85 24.37           O  \nHETATM 1025  O   HOH A 152      12.130  21.587   3.044  0.78 24.35           O  \nHETATM 1026  O   HOH A 153      15.684  38.922  -5.813  0.76 24.50           O  \nHETATM 1027  O   HOH A 154      10.652  24.228   3.428  0.80 21.12           O  \nHETATM 1028  O   HOH A 155      44.070  17.975   2.852  0.80 21.64           O  \nHETATM 1029  O   HOH A 156      32.029  13.080  -8.110  0.85 20.63           O  \nHETATM 1030  O   HOH A 157      36.425  19.613  15.174  0.56 23.44           O  \nHETATM 1031  O   HOH A 158      37.941  30.505  -3.686  0.79 21.54           O  \nHETATM 1032  O   HOH A 159      30.710  42.741  -6.289  0.72 22.79           O  \nHETATM 1033  O   HOH A 160      23.922  44.367  -7.653  0.62 22.78           O  \nHETATM 1034  O   HOH A 161      33.829  34.252   0.626  0.73 20.81           O  \nHETATM 1035  O   HOH A 162      29.613  40.730  -9.602  0.78 22.12           O  \nHETATM 1036  O   HOH A 163      23.563   7.995   4.406  0.58 22.93           O  \nHETATM 1037  O   HOH A 164      31.511  42.362  -4.183  0.73 22.01           O  \nHETATM 1038  O   HOH A 165      21.882  29.536 -15.013  0.81 22.04           O  \nHETATM 1039  O   HOH A 166      37.763  20.913   9.782  0.86 21.57           O  \nHETATM 1040  O   HOH A 167      42.338  17.481   5.165  0.65 22.17           O  \nHETATM 1041  O   HOH A 168      23.344  39.739  -4.358  0.72 21.56           O  \nHETATM 1042  O   HOH A 169      22.984  29.224  13.124  0.75 22.56           O  \nHETATM 1043  O   HOH A 170      30.778   7.794  -3.514  0.65 21.58           O  \nHETATM 1044  O   HOH A 171      42.965  14.657   4.991  0.63 23.91           O  \nHETATM 1045  O   HOH A 172      36.927  17.948 -13.093  0.62 23.36           O  \nHETATM 1046  O   HOH A 173      35.412  25.852 -11.575  0.58 23.42           O  \nHETATM 1047  O   HOH A 174      37.428  32.540  -5.787  0.62 21.98           O  \nHETATM 1048  O   HOH A 175      37.317   8.592   7.456  0.64 22.92           O  \nHETATM 1049  O   HOH A 176       9.314  36.705 -11.546  0.69 23.77           O  \nHETATM 1050  O   HOH A 177      39.972  23.760  -2.655  0.86 18.96           O  \nHETATM 1051  O   HOH A 178      22.128  30.274  -0.543  0.76 18.78           O  \nHETATM 1052  O   HOH A 179      22.244  15.813  10.000  0.68 19.66           O  \nHETATM 1053  O   HOH A 180      40.729   9.223   0.292  0.64 20.15           O  \nHETATM 1054  O   HOH A 181      12.500  15.267   4.097  0.56 20.12           O  \nHETATM 1055  O   HOH A 182      20.372  28.618  -2.353  0.64 20.17           O  \nHETATM 1056  O   HOH A 183      22.793  15.462  -6.673  0.63 20.60           O  \nHETATM 1057  O   HOH A 184      23.138  31.809  15.121  0.55 20.90           O  \nHETATM 1058  O   HOH A 185      22.671  38.691   8.245  0.48 21.16           O  \nHETATM 1059  O   HOH A 186      33.966  33.112   6.837  0.59 19.45           O  \nHETATM 1060  O   HOH A 187      19.572  25.423  -1.420  0.53 19.94           O  \nHETATM 1061  O   HOH A 188      14.790  15.672   7.259  0.52 21.22           O  \nHETATM 1062  O   HOH A 189      19.112  28.022 -14.647  0.49 19.83           O  \nHETATM 1063  O   HOH A 190      17.302  39.059 -12.453  0.52 20.14           O  \nHETATM 1064  O   HOH A 191      16.198  14.502   5.577  0.46 20.78           O  \nHETATM 1065  O   HOH A 192      17.345  46.346  -7.080  0.50 18.13           O  \nHETATM 1066  O   HOH A 193      14.992  31.300  -4.242  0.46 17.90           O  \nHETATM 1067  O   HOH A 194      28.196  44.775  -3.148  0.44 18.15           O  \nHETATM 1068  O   HOH A 195      29.479  13.863  -9.107  0.44 18.30           O  \nHETATM 1069  O   HOH A 196      23.613  44.811   2.608  0.45 17.66           O  \nHETATM 1070  O   HOH A 197      40.572  22.184  -6.358  0.42 18.06           O  \nHETATM 1071  O   HOH A 198      12.475  31.860  -6.226  0.47 17.85           O  \nHETATM 1072  O   HOH A 199      16.684  13.594  -5.832  0.31 18.51           O  \nHETATM 1073  O   HOH A 200      27.534  38.059 -12.862  0.48 18.19           O  \nHETATM 1074  O   HOH A 201      25.892  35.973  11.563  0.46 18.15           O  \nHETATM 1075  O   HOH A 202      24.790  25.182  16.063  0.46 17.64           O  \nHETATM 1076  O   HOH A 203      12.580  21.214   5.006  0.51 17.97           O  \nHETATM 1077  O   HOH A 204      19.687  23.750  -4.851  0.37 18.08           O  \nHETATM 1078  O   HOH A 205      27.098  35.956 -12.358  0.39 18.71           O  \nHETATM 1079  O   HOH A 206      37.255   9.634  10.002  0.46 18.39           O  \nHETATM 1080  O   HOH A 207      43.755  23.843   8.038  0.38 17.96           O  \nCONECT   48  981                                                                \nCONECT  238  889                                                                \nCONECT  513  630                                                                \nCONECT  601  724                                                                \nCONECT  630  513                                                                \nCONECT  724  601                                                                \nCONECT  889  238                                                                \nCONECT  981   48                                                                \nMASTER      290    0    0    8    2    0    0    6 1079    1    8   10          \nEND                                                                             \n\n"
    }
   ],
   "source": [
    "with open(sim_dir+\"/pdb\"+id+\".ent\") as f: # The with keyword automatically closes the file when you are done\n",
    "    pdbfile = f.read()\n",
    "    print(pdbfile)"
   ]
  },
  {
   "cell_type": "markdown",
   "metadata": {},
   "source": [
    "HERE: use grep:\n",
    "```\n",
    "grep -v HOH pdb1aki.ent > 1AKI_clean.pdb\n",
    "```\n",
    "to remove waters from the structure and rename it"
   ]
  },
  {
   "cell_type": "markdown",
   "metadata": {},
   "source": [
    "Note that such a procedure is **not universally appropriate** (e.g., the case of a tightly bound or otherwise functional active-site water molecule). For our intentions here, we do not need crystal water.\n",
    "\n",
    "Always:\n",
    "- Check your .pdb file for entries listed under the comment MISSING, as these entries indicate either atoms or whole residues that are not present in the crystal structure. Terminal regions may be absent, and may not present a problem for dynamics. \n",
    "- Incomplete internal sequences or any amino acid residues that have missing atoms will cause pdb2gmx to fail. These missing atoms/residues must be modeled in using other software packages. \n",
    "- Also note that pdb2gmx is not magic. It cannot generate topologies for arbitrary molecules, just the residues defined by the force field (in the *.rtp files - generally proteins, nucleic acids, and a very finite amount of cofactors, like NAD(H) and ATP)."
   ]
  },
  {
   "cell_type": "markdown",
   "metadata": {},
   "source": [
    "Now that the crystal waters are gone and we have verified that all the necessary atoms are present, the PDB file should contain only protein atoms, and is ready to be input into the first GROMACS module, pdb2gmx. The purpose of pdb2gmx is to generate three files:\n",
    "- The topology for the molecule.\n",
    "- A position restraint file.\n",
    "- A post-processed structure file. \n",
    "\n",
    "The topology (topol.top by default) contains all the information necessary to define the molecule within a simulation. This information includes nonbonded parameters (atom types and charges) as well as bonded parameters (bonds, angles, and dihedrals). We will take a more detailed look at the topology once it has been generated.\n",
    "\n",
    "Execute pdb2gmx by issuing the following command:"
   ]
  },
  {
   "cell_type": "code",
   "execution_count": 5,
   "metadata": {},
   "outputs": [
    {
     "output_type": "execute_result",
     "data": {
      "text/plain": "(0, None, None)"
     },
     "metadata": {},
     "execution_count": 5
    }
   ],
   "source": [
    "# gromacs.pdb2gmx(f=sim_dir+\"/pdb\"+id+\".ent\", o=sim_dir+\"/protein.gro\", p=sim_dir+\"/topol.top\", ff=\"oplsaa\", water=\"tip4p\")\n",
    "gromacs.pdb2gmx(f=sim_dir+\"/\"+id+\"_clean.pdb\", o=sim_dir+\"/\"+id+\"_processed\"+\".gro\", p=sim_dir+\"/\"+id+\"_topol.top\", ff=\"oplsaa\", water=\"tip4p\")"
   ]
  },
  {
   "cell_type": "markdown",
   "metadata": {},
   "source": [
    "The force field will contain the information that will be written to the topology. This is a very important choice! You should always read thoroughly about each force field and decide which is most applicable to your situation. For this tutorial, we will use the all-atom OPLS force field, so type 15 at the command prompt, followed by 'Enter'.\n",
    "\n",
    "There are many other options that can be passed to pdb2gmx. Some commonly used ones are listed here:\n",
    "\n",
    "- -ignh: Ignore H atoms in the PDB file; especially useful for NMR structures. Otherwise, if H atoms are present, they must be in the named exactly how the force fields in GROMACS expect them to be. Different conventions exist, so dealing with H atoms can occasionally be a headache! If you need to preserve the initial H coordinates, but renaming is required, then the Linux sed command is your friend.\n",
    "- -iter: Interactively assign charge states for N- and C-termini.\n",
    "- -inter: Interactively assign charge states for Glu, Asp, Lys, Arg, and His; choose which Cys are involved in disulfide bonds. \n",
    "\n",
    "You have now generated three new files: 1AKI_processed.gro, topol.top, and posre.itp. 1AKI_processed.gro is a GROMACS-formatted structure file that contains all the atoms defined within the force field (i.e., H atoms have been added to the amino acids in the protein). The topol.top file is the system topology (more on this in a minute). The posre.itp file contains information used to restrain the positions of heavy atoms (more on this later).\n",
    "\n",
    "One final note: many users assume that a .gro file is mandatory. This is not true. GROMACS can handle many different file formats, with .gro simply being the default for commands that write coordinate files. It is a very compact format, but it has limited precision. If you prefer to use, for instance, PDB format, all you need to do is to specify an appropriate file name with .pdb extension as your output. The purpose of pdb2gmx is to produce a force field-compliant topology; the output structure is largely a side effect of this purpose and is intended for user convenience. The format can be just about anything you like (see the GROMACS manual for different formats)."
   ]
  },
  {
   "cell_type": "markdown",
   "metadata": {},
   "source": [
    "Now that you are familiar with the contents of the GROMACS topology, it is time to continue building our system. In this example, we are going to be simulating a simple aqueous system. It is possible to simulate proteins and other molecules in different solvents, provided that good parameters are available for all species involved.\n",
    "\n",
    "There are two steps to defining the box and filling it with solvent:\n",
    "\n",
    "- Define the box dimensions using the editconf module.\n",
    "- Fill the box with water using the solvate module (formerly called genbox). \n",
    "\n",
    "You are now presented with a choice as to how to treat the unit cell. For the purpose of this tutorial, we will use a simple cubic box as the unit cell. As you become more comfortable with periodic boundary conditions and box types, I highly recommend the rhombic dodecahedron, as its volume is ~71% of the cubic box of the same periodic distance, thus saving on the number of water molecules that need to be added to solvate the protein.\n",
    "\n",
    "Let's define the box using editconf:"
   ]
  },
  {
   "cell_type": "code",
   "execution_count": 6,
   "metadata": {},
   "outputs": [
    {
     "output_type": "execute_result",
     "data": {
      "text/plain": "(0, None, None)"
     },
     "metadata": {},
     "execution_count": 6
    }
   ],
   "source": [
    "gromacs.editconf(f=sim_dir+\"/\"+id+\"_processed\"+\".gro\", o=sim_dir+\"/\"+id+\"_boxed.gro\", bt=\"dodecahedron\", d=1.5, princ=True, input=\"Protein\")"
   ]
  },
  {
   "cell_type": "markdown",
   "metadata": {},
   "source": [
    "The above command centers the protein in the box (-c), and places it at least 1.0 nm from the box edge (-d 1.0). The box type is defined as a cube (-bt cubic). The distance to the edge of the box is an important parameter. Since we will be using periodic boundary conditions, we must satisfy the minimum image convention. That is, a protein should never see its periodic image, otherwise the forces calculated will be spurious. Specifying a solute-box distance of 1.0 nm will mean that there are at least 2.0 nm between any two periodic images of a protein. This distance will be sufficient for just about any cutoff scheme commonly used in simulations.\n",
    "\n",
    "Now that we have defined a box, we can fill it with solvent (water). Solvation is accomplished using solvate:"
   ]
  },
  {
   "cell_type": "code",
   "execution_count": 8,
   "metadata": {},
   "outputs": [
    {
     "output_type": "execute_result",
     "data": {
      "text/plain": "(0, None, None)"
     },
     "metadata": {},
     "execution_count": 8
    }
   ],
   "source": [
    "# gromacs.solvate(cp=sim_dir+\"/\"+id+\"_boxed.gro\", cs=\"tip4p\", p=sim_dir+\"/\"+id+\"_topol.top\", o=sim_dir+\"/\"+id+\"_solvated.gro\")\n",
    "\n",
    "gromacs.solvate(cp=sim_dir+\"/\"+id+\"_boxed.gro\", cs=\"tip4p\", p=sim_dir+\"/\"+id+\"_topol.top\", o=sim_dir+\"/\"+id+\"_solvated.gro\")"
   ]
  },
  {
   "cell_type": "markdown",
   "metadata": {},
   "source": [
    "The configuration of the protein (-cp) is contained in the output of the previous editconf step, and the configuration of the solvent (-cs) is part of the standard GROMACS installation. We are using spc216.gro, which is a generic equilibrated 3-point solvent model. You can use spc216.gro as the solvent configuration for SPC, SPC/E, or TIP3P water, since they are all three-point water models. The output is called 1AKI_solv.gro, and we tell solvate the name of the topology file (topol.top) so it can be modified. Note the changes to the [ molecules ] directive of topol.top:"
   ]
  },
  {
   "cell_type": "markdown",
   "metadata": {},
   "source": [
    "Given an MDP input file for energy minimization, generate the TPR file and run the energy minimization locally:"
   ]
  },
  {
   "cell_type": "code",
   "execution_count": null,
   "metadata": {},
   "outputs": [],
   "source": [
    "# gromacs.grompp(f=sim_dir+\"/minim.mdp\", c=sim_dir+\"/solvated.gro\", p=\"topol.top\", o=sim_dir+\"/minim.tpr\")\n",
    "\n",
    "gromacs.grompp(f=sim_dir+\"/minim.mdp\", c=sim_dir+\"/solvated.gro\", p=\"/Users/jacobnorth/Documents/GitHub/mdcode/jupyter_nbs/general/md_recipes/temp.top\", o=sim_dir+\"/minim.tpr\")"
   ]
  },
  {
   "cell_type": "code",
   "execution_count": null,
   "metadata": {},
   "outputs": [],
   "source": [
    "gromacs.mdrun(v=True, deffnm=\"emin\")"
   ]
  },
  {
   "cell_type": "markdown",
   "metadata": {},
   "source": [
    "Assuming it all went well, set up and run a MD simulation, starting from the energy minimized system:"
   ]
  },
  {
   "cell_type": "code",
   "execution_count": null,
   "metadata": {},
   "outputs": [],
   "source": [
    "gromacs.grompp(f=sim_dir+\"/md.mdp\", c=sim_dir+\"/emin.gro\", p=sim_dir+\"/topol.top\", o=sim_dir+\"/md.tpr\")\n",
    "gromacs.mdrun(v=True, deffnm=\"md\")"
   ]
  }
 ],
 "metadata": {
  "language_info": {
   "codemirror_mode": {
    "name": "ipython",
    "version": 3
   },
   "file_extension": ".py",
   "mimetype": "text/x-python",
   "name": "python",
   "nbconvert_exporter": "python",
   "pygments_lexer": "ipython3",
   "version": "3.7.7-final"
  },
  "orig_nbformat": 2,
  "kernelspec": {
   "name": "python37764bitc3d2672e15bf42b391f372abee464dda",
   "display_name": "Python 3.7.7 64-bit"
  }
 },
 "nbformat": 4,
 "nbformat_minor": 2
}