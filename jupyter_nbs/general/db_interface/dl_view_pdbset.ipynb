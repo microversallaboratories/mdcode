{
 "cells": [
  {
   "cell_type": "code",
   "execution_count": null,
   "metadata": {},
   "outputs": [],
   "source": [
    "# Libraries\n",
    "import pypdb       # For searching and downloading PDB files\n",
    "\n",
    "import datetime     # for organizing file output\n",
    "now = datetime.datetime.now()\n",
    "\n",
    "import Bio      # Bio for downloading PDBs, printing protein lengths in residues\n",
    "from Bio.PDB import PDBList\n",
    "from Bio.PDB import PDBParser\n",
    "\n",
    "import numpy as np\n",
    "import pandas as pd\n",
    "import matplotlib.mlab as mlab\n",
    "import matplotlib.pyplot as plt"
   ]
  },
  {
   "cell_type": "code",
   "execution_count": null,
   "metadata": {
    "tags": []
   },
   "outputs": [],
   "source": [
    "# query = \"Q96RI1\"\n",
    "query = input(\"Supply a query (term, accession number, etc.) :\")\n",
    "\n",
    "def now_dir_ts():\n",
    "    now_ts = str(now.year)+\"_\"+str(now.month)+\"_\"+str(now.day)+\"_\"+str(now.hour)+\"_\"+str(now.minute)+\"_\"+str(now.second)\n",
    "    return now_ts\n",
    "\n",
    "PDB_dl_dir = \"/Users/jacobnorth/Box/extracurriculars/research/SURE_S2020_fileshare/sure_data/\"+input(\"Please enter a sub-directory of sure_data/:\")+\"/dataset_\"+now_dir_ts()\n",
    "\n",
    "# PDB_dl_dir = input(\"Supply a directory path to download PDB's to:\")\n",
    "# PDB_dl_dir = \"/Users/jacobnorth/Box/extracurriculars/research/SURE_S2020_fileshare/sure_data/cypA/Users/jacobnorth/Box/extracurriculars/research/SURE_S2020_fileshare/sure_data/\"\n",
    "\n",
    "# analy_dir = ''\n",
    "\n",
    "print(PDB_dl_dir)"
   ]
  },
  {
   "cell_type": "markdown",
   "metadata": {},
   "source": [
    "Download the collected PDB ID's"
   ]
  },
  {
   "cell_type": "code",
   "execution_count": null,
   "metadata": {
    "tags": []
   },
   "outputs": [],
   "source": [
    "parser = PDBParser()       # create a parser\n",
    "pdbs = list()\n",
    "\n",
    "# Download all PDB structures in the previous list if they aren't there\n",
    "for id in found:\n",
    "    pdbl.retrieve_pdb_file(id, file_format='pdb', pdir=PDB_dl_dir)   # Retrieve in PDB format, put in directory 'PDB'"
   ]
  },
  {
   "cell_type": "code",
   "execution_count": null,
   "metadata": {
    "tags": []
   },
   "outputs": [],
   "source": [
    "res_counts = list()\n",
    "\n",
    "for pdb in pdbs:\n",
    "    count = 0\n",
    "    for residue in pdb.get_residues():\n",
    "        count+=1\n",
    "    print(\"PDB:\", pdb, \"has\", count, \"residues.\")\n",
    "    res_counts.append(count)\n",
    "\n",
    "plt.hist(res_counts, facecolor='blue', alpha=0.5)\n",
    "plt.show()"
   ]
  },
  {
   "cell_type": "code",
   "execution_count": null,
   "metadata": {},
   "outputs": [],
   "source": []
  }
 ],
 "metadata": {
  "language_info": {
   "codemirror_mode": {
    "name": "ipython",
    "version": 3
   },
   "file_extension": ".py",
   "mimetype": "text/x-python",
   "name": "python",
   "nbconvert_exporter": "python",
   "pygments_lexer": "ipython3",
   "version": "3.7.7-final"
  },
  "orig_nbformat": 2,
  "kernelspec": {
   "name": "python37764bitc3d2672e15bf42b391f372abee464dda",
   "display_name": "Python 3.7.7 64-bit"
  }
 },
 "nbformat": 4,
 "nbformat_minor": 2
}