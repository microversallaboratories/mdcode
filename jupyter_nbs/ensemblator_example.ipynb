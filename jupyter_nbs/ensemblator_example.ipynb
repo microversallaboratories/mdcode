{
 "cells": [
  {
   "cell_type": "markdown",
   "metadata": {},
   "source": [
    "Include libraries"
   ]
  },
  {
   "cell_type": "code",
   "execution_count": 1,
   "metadata": {},
   "outputs": [],
   "source": [
    "from ensemblator.ensemblator_core import analyze, prepare_input     # Clark, Brereton, Karplus"
   ]
  },
  {
   "cell_type": "markdown",
   "metadata": {},
   "source": [
    "Notes with using ensemblator:\n",
    "- Reduce amount of command-line whitespace in output\n",
    "- \"Separating\" is spelled incorrectly\n",
    "- Error detecting files for input (shown below) --> filepath needs to be COMPLETELY specified!\n",
    "```\n",
    "❯ ensemblator --analyze --pwd PWD --auto -i test.pdb\n",
    "Traceback (most recent call last):\n",
    "File \"/usr/local/bin/ensemblator\", line 8, in <module>\n",
    "  sys.exit(main())\n",
    "File \"/usr/local/lib/python3.7/site-packages/ensemblator/ensemblator_cli.py\", line 212, in main\n",
    "  analyze(options)\n",
    "File \"/usr/local/lib/python3.7/site-packages/ensemblator/ensemblator_core.py\", line 2883, in analyze\n",
    "  master_structure = pdb_reader.get_structure(\"temp\", pdb)\n",
    "File \"/usr/local/lib/python3.7/site-packages/Bio/PDB/PDBParser.py\", line 88, in get_structure\n",
    "  with as_handle(file, mode=\"rU\") as handle:\n",
    "File \"/usr/local/Cellar/python/3.7.7/Frameworks/Python.framework/Versions/3.7/lib/python3.7/contextlib.py\", line 112, in       __enter__\n",
    "    return next(self.gen)\n",
    "  File \"/usr/local/lib/python3.7/site-packages/Bio/File.py\", line 120, in as_handle\n",
    "    with open(handleish, mode, **kwargs) as fp:\n",
    "FileNotFoundError: [Errno 2] No such file or directory: 'test.pdb'\n",
    "❯ ls\n",
    "PWD              model_legend.tsv test.pdb\n",
    "```\n",
    "- \"Iterativly\" spelled incorrectly\n",
    "- \"Convergant\" spelled incorrectly\n",
    "- Output is a little wordy, reduce to one line per idea?\n",
    "- \"Sillhouette\" is spelled wrong the second time\n",
    "- \n",
    "\n",
    "## Command-line instructions:\n",
    "1. Prepare the input files for ensemblator\n",
    "```\n",
    "❯ ensemblator --prepare -i 1oca.pdb -o test.pdb --pwd PWD\n",
    "```\n",
    "2. Run the analysis\n",
    "```\n",
    "❯ ensemblator --analyze --pwd PWD --auto -i <FULLPATH>/test.pdb\n",
    "```\n"
   ]
  }
 ],
 "metadata": {
  "language_info": {
   "codemirror_mode": {
    "name": "ipython",
    "version": 3
   },
   "file_extension": ".py",
   "mimetype": "text/x-python",
   "name": "python",
   "nbconvert_exporter": "python",
   "pygments_lexer": "ipython3",
   "version": "3.7.7-final"
  },
  "orig_nbformat": 2,
  "kernelspec": {
   "name": "python37764bitc3d2672e15bf42b391f372abee464dda",
   "display_name": "Python 3.7.7 64-bit"
  }
 },
 "nbformat": 4,
 "nbformat_minor": 2
}