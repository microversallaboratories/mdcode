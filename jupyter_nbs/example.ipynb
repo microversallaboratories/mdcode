{
 "cells": [
  {
   "cell_type": "markdown",
   "metadata": {},
   "source": [
    "TITLE: example.ipynb\n",
    "\n",
    "PURPOSE: <GOES HERE>\n",
    "\n",
    "PROJECT: <GOES HERE>\n",
    "\n",
    "AUTHOR: Jacob Lloyd North\n",
    "\n",
    "INSTITUTION: Oregon State University\n",
    "\n",
    "PRECONDITIONS: \n",
    "\n",
    "INPUTS: \n",
    "\n",
    "OUTPUTS: "
   ]
  },
  {
   "cell_type": "markdown",
   "metadata": {},
   "source": [
    "SECTION 1: Include commonly used libraries"
   ]
  },
  {
   "cell_type": "code",
   "execution_count": null,
   "metadata": {},
   "outputs": [],
   "source": [
    "# Maths and visualization libraries\n",
    "import numpy as np          # NumPy\n",
    "import scipy        # Import all of SciPy\n",
    "import networkx \n",
    "# import pathpy2\n",
    "import matplotlib.pyplot as plt     # Matplotlib\n",
    "import umap"
   ]
  },
  {
   "cell_type": "code",
   "execution_count": null,
   "metadata": {},
   "outputs": [],
   "source": [
    "%matplotlib inline"
   ]
  },
  {
   "cell_type": "code",
   "execution_count": null,
   "metadata": {},
   "outputs": [],
   "source": [
    "# Machine learning libraries\n",
    "# import sklearn\n",
    "# import torch             # Import all of PyTorch\n",
    "# import fastai            # Import all of FastAi\n",
    "# import pydbm            # boltzmann machines"
   ]
  },
  {
   "cell_type": "code",
   "execution_count": null,
   "metadata": {},
   "outputs": [],
   "source": [
    "# BIOLOGY-SPECIFIC LIBRARIES\n",
    "# Bioinformatics\n",
    "import biopandas\n",
    "import Bio          # Biopython\n",
    "import pdbtools     # Useful for dealing with pdbs\n",
    "\n",
    "# Structural Biology\n",
    "import RamachanDraw\n",
    "# import biskit       # BUILD FAILS\n",
    "# import aleph        # Molecular replacement library\n",
    "from ensemblator.ensemblator_core import analyze, prepare_input     # Clark, Brereton, Karplus\n",
    "\n",
    "# MD analysis\n",
    "import mdtraj           # Import all of MDTraj\n",
    "import MDAnalysis\n",
    "\n",
    "# Protein Dynamics\n",
    "import prody as pd            # Protein dynamics\n",
    "# import pydtmc           # discrete-time markov chains\n",
    "# Normal modes of motion\n",
    "# import pydmd            # Dynamic mode decomposition\n",
    "# import pynamical        # Dynamical systems \n",
    "import pyemma\n",
    "# import pypcazip"
   ]
  },
  {
   "cell_type": "code",
   "execution_count": null,
   "metadata": {},
   "outputs": [],
   "source": [
    "# PHYSICAL CHEMISTRY LIBRARIES\n",
    "\n",
    "# Quantum chemistry libraries\n",
    "# import quantum_dynamics\n",
    "# import qutip\n",
    "\n",
    "# Statistical thermodynamics\n",
    "# import curp         # energy (heat) flow analysis -- ONLY in Python2 currently!"
   ]
  },
  {
   "cell_type": "code",
   "execution_count": null,
   "metadata": {},
   "outputs": [],
   "source": [
    "# Cellular biology\n",
    "# import pysces       # Will copy stuff to Pysces directory for model!"
   ]
  },
  {
   "cell_type": "code",
   "execution_count": null,
   "metadata": {},
   "outputs": [],
   "source": [
    "# UTILITY LIBRARIES\n",
    "import wget         # to download pdb files"
   ]
  },
  {
   "cell_type": "code",
   "execution_count": null,
   "metadata": {},
   "outputs": [],
   "source": [
    "# DEBUG\n",
    "# import mdbenchmark  # For optimizing core usage in low-resources machines"
   ]
  },
  {
   "cell_type": "markdown",
   "metadata": {},
   "source": [
    "SECTION 2: MAIN"
   ]
  },
  {
   "cell_type": "code",
   "execution_count": null,
   "metadata": {},
   "outputs": [],
   "source": [
    "# Get PDB\n",
    "PDB_id = input(\"Please enter a PDB ID:\")\n",
    "pro_name = input(\"Enter a name label:\")\n",
    "# Print Ramachandran plot of the protein\n",
    "from RamachanDraw import fetch, phi_psi, plot\n",
    "plot(fetch(PDB_id))     # Draw the Ramachandran plot\n",
    "\n",
    "# Generating a dictionary to store the phi and psi angles, also return the ignored AA\n",
    "phi_psi_dict, ignored_res = phi_psi(fetch(PDB_id), return_ignored=True)\n",
    "\n",
    "# ProDy testing\n",
    "prot = pd.parsePDB(PDB_id)"
   ]
  },
  {
   "cell_type": "code",
   "execution_count": null,
   "metadata": {},
   "outputs": [],
   "source": [
    "# Print useful statistics\n",
    "print(\"Radius of gyration:\", pd.calcGyradius(prot))\n",
    "print(\"Number of atoms:\", prot.numAtoms())\n",
    "print(\"Number of Coordinate sets:\", prot.numCoordsets())\n",
    "print(\"Number of residues:\", prot.numResidues())\n",
    "pd.showProtein(prot)"
   ]
  },
  {
   "cell_type": "markdown",
   "metadata": {},
   "source": [
    "PRINCIPAL COMPONENT ANALYSIS"
   ]
  },
  {
   "cell_type": "code",
   "execution_count": null,
   "metadata": {},
   "outputs": [],
   "source": [
    "# Prepare the ensemble\n",
    "pro = pd.parsePDB(PDB_id, subset='calpha')\n",
    "pro_selection = pro.select('resnum < ' + str(prot.numResidues()))\n",
    "pro_ensemble = pd.Ensemble(pro_selection)\n",
    "# pro_ensemble.setCoords()\n",
    "pro_ensemble.iterpose()"
   ]
  },
  {
   "cell_type": "code",
   "execution_count": null,
   "metadata": {},
   "outputs": [],
   "source": [
    "# Run PCA \n",
    "pca = pd.PCA(pro_name)\n",
    "pca.buildCovariance(pro_ensemble)\n",
    "pca.calcModes()"
   ]
  },
  {
   "cell_type": "code",
   "execution_count": null,
   "metadata": {},
   "outputs": [],
   "source": [
    "# Observer top 4 ranked principal components\n",
    "for mode in pca[:6]:\n",
    "    print(pd.calcFractVariance(mode).round(2))\n",
    "# Save the principal modes\n",
    "# pd.saveModel(pca)"
   ]
  },
  {
   "cell_type": "markdown",
   "metadata": {},
   "source": [
    "ANISOTROPIC NETWORK MODEL\n"
   ]
  },
  {
   "cell_type": "code",
   "execution_count": null,
   "metadata": {},
   "outputs": [],
   "source": [
    "anm = pd.ANM(pro_name) # instantiate ANM object\n",
    "anm.buildHessian(pro_selection) # build Hessian matrix for selected atoms\n",
    "anm.calcModes() # calculate normal modes\n",
    "# saveModel(anm)"
   ]
  },
  {
   "cell_type": "code",
   "execution_count": null,
   "metadata": {},
   "outputs": [],
   "source": [
    "# Access individual mode instances\n",
    "slowest_mode = anm[0]\n",
    "print( slowest_mode )\n",
    "print( slowest_mode.getEigval().round(3) )"
   ]
  },
  {
   "cell_type": "code",
   "execution_count": null,
   "metadata": {},
   "outputs": [],
   "source": [
    "# Confirm mode orthogonality - dot product of mode vectors\n",
    "print((anm[0] * anm[1]).round(10))\n",
    "print((anm[0] * anm[2]).round(10))"
   ]
  },
  {
   "cell_type": "markdown",
   "metadata": {},
   "source": [
    "COMPARING EXPERIMENTAL AND THEORETICAL RESULTS"
   ]
  },
  {
   "cell_type": "code",
   "execution_count": null,
   "metadata": {},
   "outputs": [],
   "source": [
    "# Compare overlap table of PCA and ANM\n",
    "pd.printOverlapTable(pca[:6], anm[:6])\n",
    "pd.showOverlapTable(pca[:6], anm[:6])"
   ]
  },
  {
   "cell_type": "markdown",
   "metadata": {},
   "source": [
    "DATA OUTPUT"
   ]
  },
  {
   "cell_type": "code",
   "execution_count": null,
   "metadata": {},
   "outputs": [],
   "source": [
    "# Write Normal Modes for PCA data\n",
    "pd.writeNMD(pro_name + '_' + PDB_id + '_pca.nmd', pca[:6], pro_selection)         # NMD format for nm wizard\n",
    "# writeArray('ubi_pca_modes.txt', pca.getArray(), format='%8.3f')     # text"
   ]
  },
  {
   "cell_type": "code",
   "execution_count": null,
   "metadata": {},
   "outputs": [],
   "source": [
    "# Write Normal Modes for ANM data\n",
    "pd.writeNMD(pro_name + '_' + PDB_id + '_anm.nmd', anm[:6], pro_selection)         # NMD format for nm wizard"
   ]
  },
  {
   "cell_type": "code",
   "execution_count": null,
   "metadata": {},
   "outputs": [],
   "source": [
    "# pd.pathVMD('/Users/jacobnorth/Applications/VMD\\ 1.9.4.app/Contents/MacOS/startup.command')\n",
    "# pd.viewNMDinVMD('ubi_pca.nmd')"
   ]
  },
  {
   "cell_type": "markdown",
   "metadata": {},
   "source": [
    "EVOLUTIONARY ANALYSIS - EVOL"
   ]
  },
  {
   "cell_type": "code",
   "execution_count": null,
   "metadata": {},
   "outputs": [],
   "source": [
    "type(pkey)\n",
    "(list(pkey))[0]"
   ]
  },
  {
   "cell_type": "code",
   "execution_count": null,
   "metadata": {},
   "outputs": [],
   "source": [
    "# Download the full MSA file for protein family\n",
    "pkey = pd.searchPfam(PDB_id).keys()      # obtain the key\n",
    "full_MSA = pd.fetchPfamMSA((list(pkey))[0])        # Fetch the full MSA\n",
    "msa = pd.parseMSA(full_MSA)        # Parse the MSA\n",
    "\n",
    "# Refine MSA to remove gappy entries\n",
    "msa_refine = pd.refineMSA(msa, label=pro_name, rowocc=0.8, seqid=0.98)"
   ]
  },
  {
   "cell_type": "code",
   "execution_count": null,
   "metadata": {},
   "outputs": [],
   "source": [
    "# Occupancy calculation\n",
    "pd.showMSAOccupancy(msa_refine, occ='res')\n",
    "calcMSAOccupancy(msa_refine, occ='res').min()   # Find the minimum\n",
    "\n",
    "# Shannon entropy\n",
    "entropy = calcShannonEntropy(msa_refine)\n",
    "showShannonEntropy(entropy, indices)\n",
    "mutinfo = buildMutinfoMatrix(msa_refine)\n",
    "mutinfo_norm = applyMutinfoNorm(mutinfo, entropy, norm='minent')\n",
    "mutinfo_corr = applyMutinfoCorr(mutinfo, corr='apc')\n",
    "showMutinfoMatrix(mutinfo)\n",
    "showMutinfoMatrix(mutinfo_corr, clim=[0, mutinfo_corr.max()], xlabel=pro_name)\n",
    "writeArray(pro_name + 'array.txt', mutinfo)\n",
    "# Sequence-structure comparison - http://prody.csb.pitt.edu/tutorials/evol_tutorial/comparison.html"
   ]
  },
  {
   "cell_type": "code",
   "execution_count": null,
   "metadata": {},
   "outputs": [],
   "source": []
  }
 ],
 "metadata": {
  "language_info": {
   "codemirror_mode": {
    "name": "ipython",
    "version": 3
   },
   "file_extension": ".py",
   "mimetype": "text/x-python",
   "name": "python",
   "nbconvert_exporter": "python",
   "pygments_lexer": "ipython3",
   "version": "3.7.7-final"
  },
  "orig_nbformat": 2,
  "kernelspec": {
   "name": "python37764bitc3d2672e15bf42b391f372abee464dda",
   "display_name": "Python 3.7.7 64-bit"
  }
 },
 "nbformat": 4,
 "nbformat_minor": 2
}