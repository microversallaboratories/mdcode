{
 "cells": [
  {
   "cell_type": "markdown",
   "metadata": {},
   "source": [
    "TITLE: example.ipynb\n",
    "\n",
    "PURPOSE: <GOES HERE>\n",
    "\n",
    "PROJECT: <GOES HERE>\n",
    "\n",
    "AUTHOR: Jacob Lloyd North\n",
    "\n",
    "INSTITUTION: Oregon State University\n",
    "\n",
    "PRECONDITIONS: \n",
    "\n",
    "INPUTS: \n",
    "\n",
    "OUTPUTS: "
   ]
  },
  {
   "cell_type": "markdown",
   "metadata": {},
   "source": [
    "SECTION 1: Include commonly used libraries"
   ]
  },
  {
   "cell_type": "code",
   "execution_count": null,
   "metadata": {},
   "outputs": [],
   "source": [
    "# Maths and visualization libraries\n",
    "import numpy as np          # NumPy\n",
    "import scipy        # Import all of SciPy\n",
    "import networkx \n",
    "# import pathpy2\n",
    "import matplotlib.pyplot as plt     # Matplotlib\n",
    "import umap\n",
    "import RamachanDraw"
   ]
  },
  {
   "cell_type": "code",
   "execution_count": null,
   "metadata": {},
   "outputs": [],
   "source": [
    "%matplotlib inline"
   ]
  },
  {
   "cell_type": "code",
   "execution_count": null,
   "metadata": {},
   "outputs": [],
   "source": [
    "# Machine learning libraries\n",
    "import sklearn\n",
    "import torch             # Import all of PyTorch\n",
    "import fastai            # Import all of FastAi\n",
    "# import pydbm            # boltzmann machines"
   ]
  },
  {
   "cell_type": "code",
   "execution_count": null,
   "metadata": {},
   "outputs": [],
   "source": [
    "# MD analysis libraries\n",
    "import mdtraj           # Import all of MDTraj\n",
    "import MDAnalysis\n",
    "# import pydtmc           # discrete-time markov chains\n",
    "\n",
    "# Normal modes of motion\n",
    "# import pydmd            # Dynamic mode decomposition\n",
    "#  import pynamical        # Dynamical systems \n",
    "import pyemma\n",
    "# import pypcazip\n",
    "import prody as pd            # Protein dynamics\n"
   ]
  },
  {
   "cell_type": "code",
   "execution_count": null,
   "metadata": {},
   "outputs": [],
   "source": [
    "# Other libraries\n",
    "import Bio          # Biopython\n",
    "import pdbtools    # Useful for dealing with pdbs\n",
    "import wget         # to download pdb files\n",
    "import biopandas"
   ]
  },
  {
   "cell_type": "code",
   "execution_count": null,
   "metadata": {},
   "outputs": [],
   "source": [
    "# PHYSICAL CHEMISTRY\n",
    "\n",
    "# Quantum chemistry libraries\n",
    "import quantum_dynamics\n",
    "import qutip\n",
    "\n",
    "# Statistical thermodynamics\n",
    "# import curp         # energy (heat) flow analysis -- ONLY in Python2 currently!"
   ]
  },
  {
   "cell_type": "code",
   "execution_count": null,
   "metadata": {},
   "outputs": [],
   "source": [
    "# Structural biology\n",
    "# import biskit       # BUILD FAILS\n",
    "# import aleph        # Molecular replacement library"
   ]
  },
  {
   "cell_type": "code",
   "execution_count": null,
   "metadata": {},
   "outputs": [],
   "source": [
    "# Cellular biology\n",
    "import pysces       # "
   ]
  },
  {
   "cell_type": "code",
   "execution_count": null,
   "metadata": {},
   "outputs": [],
   "source": [
    "# DEBUG\n",
    "# import mdbenchmark  # For optimizing core usage in low-resources machines"
   ]
  },
  {
   "cell_type": "markdown",
   "metadata": {},
   "source": [
    "SECTION 2: MAIN"
   ]
  },
  {
   "cell_type": "code",
   "execution_count": null,
   "metadata": {},
   "outputs": [],
   "source": [
    "# Get PDB\n",
    "PDB_id = input(\"Please enter a PDB ID: \")\n",
    "# Design URL string from standard PDB naming convention\n",
    "# url = 'https://files.rcsb.org/header/' + PDB_id + '.pdb'\n",
    "# wget.download(url)\n",
    "\n",
    "# Print Ramachandran plot of the protein\n",
    "from RamachanDraw import fetch, phi_psi, plot\n",
    "\n",
    "# Draw the Ramachandran plot\n",
    "plot(fetch(PDB_id))\n",
    "\n",
    "# Generating a dictionary to store the phi and psi angles, also return the ignored aminoacid residues\n",
    "phi_psi_dict, ignored_res = phi_psi(fetch(PDB_id), return_ignored=True)"
   ]
  },
  {
   "cell_type": "code",
   "execution_count": null,
   "metadata": {},
   "outputs": [],
   "source": [
    "# ProDy testing\n",
    "prot = pd.parsePDB('1p38')"
   ]
  },
  {
   "cell_type": "code",
   "execution_count": null,
   "metadata": {},
   "outputs": [],
   "source": [
    "# Print useful statistics\n",
    "print(\"Radius of gyration:\", pd.calcGyradius(prot))\n",
    "\n",
    "print(\"Number of atoms:\", prot.numAtoms())\n",
    "print(\"Number of Coordinate sets:\", prot.numCoordsets())\n",
    "print(\"Number of residues:\", prot.numResidues())\n",
    "pd.showProtein(prot)"
   ]
  },
  {
   "cell_type": "markdown",
   "metadata": {},
   "source": [
    "PRINCIPAL COMPONENT ANALYSIS"
   ]
  },
  {
   "cell_type": "code",
   "execution_count": null,
   "metadata": {},
   "outputs": [],
   "source": [
    "# Prepare the ensemble\n",
    "ubi = pd.parsePDB('2k39', subset='calpha')\n",
    "ubi_selection = ubi.select('resnum < 71')\n",
    "ubi_ensemble = pd.Ensemble(ubi_selection)\n",
    "ubi_ensemble.iterpose()"
   ]
  },
  {
   "cell_type": "code",
   "execution_count": null,
   "metadata": {},
   "outputs": [],
   "source": [
    "# Run PCA \n",
    "pca = pd.PCA('Ubiquitin')\n",
    "pca.buildCovariance(ubi_ensemble)\n",
    "pca.calcModes()"
   ]
  },
  {
   "cell_type": "code",
   "execution_count": null,
   "metadata": {},
   "outputs": [],
   "source": [
    "# Observer top 4 ranked principal components\n",
    "for mode in pca[:6]:\n",
    "    print(pd.calcFractVariance(mode).round(2))\n",
    "# Save the principal modes\n",
    "pd.saveModel(pca)"
   ]
  },
  {
   "cell_type": "markdown",
   "metadata": {},
   "source": [
    "ANISOTROPIC NETWORK MODEL\n"
   ]
  },
  {
   "cell_type": "code",
   "execution_count": null,
   "metadata": {},
   "outputs": [],
   "source": [
    "anm = pd.ANM('ubi') # instantiate ANM object\n",
    "anm.buildHessian(ubi_selection) # build Hessian matrix for selected atoms\n",
    "anm.calcModes() # calculate normal modes\n",
    "# saveModel(anm)"
   ]
  },
  {
   "cell_type": "code",
   "execution_count": null,
   "metadata": {},
   "outputs": [],
   "source": [
    "# Access individual mode instances\n",
    "slowest_mode = anm[0]\n",
    "print( slowest_mode )\n",
    "print( slowest_mode.getEigval().round(3) )"
   ]
  },
  {
   "cell_type": "code",
   "execution_count": null,
   "metadata": {},
   "outputs": [],
   "source": [
    "# Confirm mode orthogonality - dot product of mode vectors\n",
    "print((anm[0] * anm[1]).round(10))\n",
    "print((anm[0] * anm[2]).round(10))"
   ]
  },
  {
   "cell_type": "markdown",
   "metadata": {},
   "source": [
    "COMPARING EXPERIMENTAL AND THEORETICAL RESULTS"
   ]
  },
  {
   "cell_type": "code",
   "execution_count": null,
   "metadata": {},
   "outputs": [],
   "source": [
    "# Compare overlap table of PCA and ANM\n",
    "pd.printOverlapTable(pca[:6], anm[:6])\n",
    "pd.showOverlapTable(pca[:6], anm[:6])"
   ]
  },
  {
   "cell_type": "markdown",
   "metadata": {},
   "source": [
    "DATA OUTPUT"
   ]
  },
  {
   "cell_type": "code",
   "execution_count": null,
   "metadata": {},
   "outputs": [],
   "source": [
    "pd.writeNMD('ubi_pca.nmd', pca[:3], ubi_selection)         # NMD format for nm wizard\n",
    "# writeArray('ubi_pca_modes.txt', pca.getArray(), format='%8.3f')     # text\n"
   ]
  },
  {
   "cell_type": "code",
   "execution_count": null,
   "metadata": {},
   "outputs": [],
   "source": [
    "# pd.pathVMD('/Users/jacobnorth/Applications/VMD\\ 1.9.4.app/Contents/MacOS/startup.command')\n",
    "# pd.viewNMDinVMD('ubi_pca.nmd')"
   ]
  }
 ],
 "metadata": {
  "language_info": {
   "codemirror_mode": {
    "name": "ipython",
    "version": 3
   },
   "file_extension": ".py",
   "mimetype": "text/x-python",
   "name": "python",
   "nbconvert_exporter": "python",
   "pygments_lexer": "ipython3",
   "version": "3.7.7-final"
  },
  "orig_nbformat": 2,
  "kernelspec": {
   "name": "python37764bitc3d2672e15bf42b391f372abee464dda",
   "display_name": "Python 3.7.7 64-bit"
  }
 },
 "nbformat": 4,
 "nbformat_minor": 2
}