{
 "cells": [
  {
   "cell_type": "code",
   "execution_count": null,
   "metadata": {},
   "outputs": [],
   "source": [
    "TITLE: cypA_fd_001.ipynb\n",
    "\n",
    "PURPOSE: <GOES HERE>\n",
    "\n",
    "PROJECT: Extending feature discovery framework to ligands activating Cyclophilin A\n",
    "\n",
    "AUTHOR: Jacob Lloyd North\n",
    "\n",
    "INSTITUTION: Oregon State University\n",
    "\n",
    "PRECONDITIONS: \n",
    "\n",
    "INPUTS: \n",
    "\n",
    "OUTPUTS: "
   ]
  },
  {
   "cell_type": "markdown",
   "metadata": {},
   "source": [
    "SECTION 1: Include commonly used libraries"
   ]
  },
  {
   "cell_type": "code",
   "execution_count": null,
   "metadata": {},
   "outputs": [],
   "source": [
    "# Maths and visualization libraries\n",
    "import numpy as np          # NumPy\n",
    "import scipy        # Import all of SciPy\n",
    "import networkx \n",
    "import matplotlib.pyplot as plt     # Matplotlib\n",
    "import umap"
   ]
  },
  {
   "cell_type": "code",
   "execution_count": null,
   "metadata": {},
   "outputs": [],
   "source": [
    "%matplotlib inline"
   ]
  },
  {
   "cell_type": "code",
   "execution_count": null,
   "metadata": {},
   "outputs": [],
   "source": [
    "# Machine learning libraries\n",
    "import sklearn\n",
    "import torch             # Import all of PyTorch\n",
    "import fastai            # Import all of FastAi"
   ]
  },
  {
   "cell_type": "code",
   "execution_count": null,
   "metadata": {},
   "outputs": [],
   "source": [
    "# MD analysis libraries\n",
    "import mdtraj           # Import all of MDTraj\n",
    "import MDAnalysis"
   ]
  },
  {
   "cell_type": "code",
   "execution_count": null,
   "metadata": {},
   "outputs": [],
   "source": [
    "# Other libraries\n"
   ]
  },
  {
   "cell_type": "markdown",
   "metadata": {},
   "source": [
    "SECTION 2: MAIN"
   ]
  }
 ],
 "metadata": {
  "language_info": {
   "codemirror_mode": {
    "name": "ipython",
    "version": 3
   },
   "file_extension": ".py",
   "mimetype": "text/x-python",
   "name": "python",
   "nbconvert_exporter": "python",
   "pygments_lexer": "ipython3",
   "version": "3.7.7-final"
  },
  "orig_nbformat": 2,
  "kernelspec": {
   "name": "python37764bitc3d2672e15bf42b391f372abee464dda",
   "display_name": "Python 3.7.7 64-bit"
  }
 },
 "nbformat": 4,
 "nbformat_minor": 2
}