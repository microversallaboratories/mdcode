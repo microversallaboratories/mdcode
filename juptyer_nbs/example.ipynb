{
 "cells": [
  {
   "cell_type": "markdown",
   "metadata": {},
   "source": [
    "Include commonly used libraries"
   ]
  },
  {
   "cell_type": "code",
   "execution_count": null,
   "metadata": {},
   "outputs": [],
   "source": [
    "# Machine learning libraries\n",
    "from scipy import *         # Import all of SciPy\n",
    "from torch import *         # Import all of PyTorch\n",
    "from fastai import *        # Import all of FastAi\n",
    "\n",
    "# MD analysis libraries\n",
    "from mdtraj import *        # Import all of MDTraj\n",
    "\n",
    "# Other libraries"
   ]
  }
 ],
 "metadata": {
  "language_info": {
   "codemirror_mode": {
    "name": "ipython",
    "version": 3
   },
   "file_extension": ".py",
   "mimetype": "text/x-python",
   "name": "python",
   "nbconvert_exporter": "python",
   "pygments_lexer": "ipython3",
   "version": 3
  },
  "orig_nbformat": 2
 },
 "nbformat": 4,
 "nbformat_minor": 2
}